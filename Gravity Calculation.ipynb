{
 "cells": [
  {
   "cell_type": "code",
   "execution_count": 0,
   "metadata": {
    "application/vnd.databricks.v1+cell": {
     "cellMetadata": {},
     "inputWidgets": {},
     "nuid": "5fb513ce-0402-4173-b96c-3acf8f6d84a3",
     "showTitle": false,
     "tableResultSettingsMap": {},
     "title": ""
    }
   },
   "outputs": [],
   "source": [
    "# from shapely import wkt\n",
    "import math\n",
    "import numpy as np\n",
    "from pyspark.sql.window import Window\n",
    "from pyspark.sql.functions import *\n",
    "from pyspark.sql.types import (\n",
    "    StructType,\n",
    "    StructField,\n",
    "    StringType,\n",
    "    FloatType,\n",
    "    IntegerType,\n",
    "    ArrayType,\n",
    "    MapType,\n",
    "    DateType,\n",
    "    DoubleType,\n",
    "    BooleanType,\n",
    "    LongType,\n",
    ")"
   ]
  },
  {
   "cell_type": "markdown",
   "metadata": {
    "application/vnd.databricks.v1+cell": {
     "cellMetadata": {},
     "inputWidgets": {},
     "nuid": "a4d2fefc-c616-41cb-8641-270f37bfe4ca",
     "showTitle": false,
     "tableResultSettingsMap": {},
     "title": ""
    }
   },
   "source": [
    "# 1. Crossjoin Stores to Postal Codes"
   ]
  },
  {
   "cell_type": "code",
   "execution_count": 0,
   "metadata": {
    "application/vnd.databricks.v1+cell": {
     "cellMetadata": {},
     "inputWidgets": {},
     "nuid": "ad7415e6-b596-48d9-9c15-6ef75d19d812",
     "showTitle": false,
     "tableResultSettingsMap": {},
     "title": ""
    }
   },
   "outputs": [],
   "source": [
    "\n",
    "\n",
    "stores = spark.sql(\n",
    "    '''\n",
    "SELECT STORES.STORE_NUM STORE_NUM, STORES.`STORE_NAME` STORE_NAME,STORES.`BANNER` BANNER, STORES.`STREET` STORE_STREET, STORES.POSTAL_CODE, STORES.PROVINCE STORE_PROVINCE, STORES.`STORE_CHAIN` CUSTOMER_GROUP, CAST(STORES.LONGITUDE AS DOUBLE) STORE_LONGITUDE, CAST(STORES.LATITUDE AS DOUBLE) STORE_LATITUDE, REVENUE_CY, STORES.`CHANNEL`, STORES.`SALES_GROUP`\n",
    "FROM hyper.unioned_stores_52weeks_2024_0927  STORES\n",
    "WHERE STORES.`STORE_CHAIN` IS NOT NULL AND REVENUE_CY IS NOT NULL \n",
    "''')\n",
    "display(stores)"
   ]
  },
  {
   "cell_type": "code",
   "execution_count": 0,
   "metadata": {
    "application/vnd.databricks.v1+cell": {
     "cellMetadata": {},
     "inputWidgets": {},
     "nuid": "59b4de2f-150e-44eb-969c-b56e654acf6f",
     "showTitle": true,
     "tableResultSettingsMap": {},
     "title": "List of postal codes and their representative points"
    }
   },
   "outputs": [],
   "source": [
    "LDU = spark.sql(\n",
    "\"\"\"\n",
    "SELECT POSTALCODE, PROV, FIRST(LONGITUDE) LONGITUDE, FIRST(LATITUDE) LATITUDE\n",
    "    FROM (SELECT * FROM combined_ldu_p1 /* This file from local Jupyter processing of shapefiles */\n",
    "    UNION\n",
    "    SELECT * FROM combined_ldu_p2\n",
    "    ORDER BY POSTALCODE, AREA DESC)\n",
    "    GROUP BY POSTALCODE, PROV\n",
    "\"\"\"\n",
    ")\n",
    "LDU.show()"
   ]
  },
  {
   "cell_type": "code",
   "execution_count": 0,
   "metadata": {
    "application/vnd.databricks.v1+cell": {
     "cellMetadata": {},
     "inputWidgets": {},
     "nuid": "ed1dc56b-bb23-4cd6-9842-e98eb0e65780",
     "showTitle": true,
     "tableResultSettingsMap": {},
     "title": "Adjacent Province Check function"
    }
   },
   "outputs": [],
   "source": [
    "def adjacent_province_check(prov, store_prov):\n",
    "    \"\"\"\n",
    "    Takes two provinces as input, returns True if provinces are identical or geographically adjacent. Otherwise returns False.\n",
    "    \"\"\"\n",
    "    if (store_prov == 'AB'):\n",
    "        if (prov == 'AB') | (prov == 'BC') | (prov == 'SK') | (prov == 'NT'):\n",
    "            return True\n",
    "    elif store_prov == 'BC':\n",
    "        if (prov == 'AB') | (prov == 'BC') | (prov == 'YT'):\n",
    "            return True\n",
    "    elif store_prov == 'SK':\n",
    "        if (prov == 'AB') | (prov == 'MB') | (prov == 'SK') | (prov == 'NT'):\n",
    "            return True\n",
    "    elif store_prov == 'MB':\n",
    "        if (prov == 'ON') | (prov == 'MB') | (prov == 'SK') | (prov == 'NU'):\n",
    "            return True\n",
    "    elif store_prov == 'ON':\n",
    "        if (prov == 'ON') | (prov == 'MB') | (prov == 'QC'):\n",
    "            return True\n",
    "    elif store_prov == 'QC':\n",
    "        if (prov == 'ON') | (prov == 'NL') | (prov == 'QC') | (prov == 'NB'):\n",
    "            return True\n",
    "    elif store_prov == 'NB':\n",
    "        if (prov == 'QC') | (prov == 'NS') | (prov == 'NB') | (prov == 'PE'):\n",
    "            return True\n",
    "    elif store_prov == 'NL':\n",
    "        if (prov == 'NL') | (prov == 'QC') | (prov == 'PE'):\n",
    "            return True\n",
    "    elif store_prov == 'YT':\n",
    "        if (prov == 'YT') | (prov == 'NT') | (prov == 'BC'):\n",
    "            return True\n",
    "    elif store_prov == 'NS':\n",
    "        if (prov == 'NS') | (prov == 'NB') | (prov == 'PE'):\n",
    "            return True\n",
    "    elif store_prov == 'NT':\n",
    "        if (prov == 'NT') | (prov == 'YT') | (prov == 'NU') | (prov == 'AB') | (prov == 'SK'):\n",
    "            return True\n",
    "    elif store_prov == 'NU':\n",
    "        if (prov == 'NT') | (prov == 'NU') | (prov == 'MB'):\n",
    "            return True\n",
    "    elif store_prov == 'PE':\n",
    "        if (prov == 'PE') | (prov == 'NS') | (prov == 'NB'):\n",
    "            return True\n",
    "    else:\n",
    "        return False\n",
    "adj_prov_check_udf = udf(adjacent_province_check, BooleanType())"
   ]
  },
  {
   "cell_type": "code",
   "execution_count": 0,
   "metadata": {
    "application/vnd.databricks.v1+cell": {
     "cellMetadata": {},
     "inputWidgets": {},
     "nuid": "7a870f65-eb77-47a2-a865-2088b0c89d86",
     "showTitle": false,
     "tableResultSettingsMap": {},
     "title": ""
    }
   },
   "outputs": [],
   "source": [
    "# Check the adjacent province function is working properly\n",
    "# stores.crossJoin(LDU).filter(adj_prov_check_udf(col('PROV'), col('STORE_PROVINCE'))==True).select('STORE_PROVINCE', 'PROV').distinct().orderBy('STORE_PROVINCE', 'PROV').collect()"
   ]
  },
  {
   "cell_type": "code",
   "execution_count": 0,
   "metadata": {
    "application/vnd.databricks.v1+cell": {
     "cellMetadata": {},
     "inputWidgets": {},
     "nuid": "23354c1a-702b-4533-9c51-0e1845df85b7",
     "showTitle": true,
     "tableResultSettingsMap": {},
     "title": "Calculate Distance function"
    }
   },
   "outputs": [],
   "source": [
    "def haversine_distance(lat1, lon1, lat2, lon2):\n",
    "    \"\"\"\n",
    "    Takes latitude and longitude in degrees for two points, returns the Haversine distance (distance between two points on a sphere).\n",
    "    \"\"\"\n",
    "    # Distance between latitudes and longitudes\n",
    "    dLat = (lat2 - lat1) * np.pi / 180.0\n",
    "    dLon = (lon2 - lon1) * np.pi / 180.0\n",
    "    # Convert to radians\n",
    "    lat1 = (lat1) * np.pi / 180.0\n",
    "    lat2 = (lat2) * np.pi / 180.0\n",
    "    r = 6371.009 # mean radius of the Earth\n",
    "    return float(2*r*np.arcsin(np.sqrt(math.pow(np.sin((dLat)/2), 2)+ (math.pow(np.sin((dLon)/2), 2))*np.cos(lat1)*np.cos(lat2))))\n",
    "distance_udf = udf(haversine_distance, DoubleType())"
   ]
  },
  {
   "cell_type": "code",
   "execution_count": 0,
   "metadata": {
    "application/vnd.databricks.v1+cell": {
     "cellMetadata": {},
     "inputWidgets": {},
     "nuid": "3a9714a9-2319-4b7d-9c16-18ac4e1c9591",
     "showTitle": false,
     "tableResultSettingsMap": {},
     "title": ""
    }
   },
   "outputs": [],
   "source": [
    "# Cross join the stores to postal codes (Roughly 7k stores * 900k LDUs = 6 bil records)\n",
    "# Prefilter to reduce number of records before crossjoin\n",
    "joined_df = stores.crossJoin(LDU).filter(adj_prov_check_udf(col('PROV'), col('STORE_PROVINCE'))==True)\n",
    "# Calculate the haversine distance between each store and LDU coordinates\n",
    "joined_df = joined_df.withColumn('HAVERSINE_DISTANCE', distance_udf(col('STORE_LATITUDE'), col('STORE_LONGITUDE'), col('LATITUDE'), col('LONGITUDE')))\n",
    "# Filter to reduce number of records after crossjoin\n",
    "joined_df = joined_df.withColumn('Attraction', col('REVENUE_CY')/col('HAVERSINE_DISTANCE')**2)\n",
    "#### joined_df = joined_df.withColumn('Attraction', col('SALES')/col('HAVERSINE_DISTANCE')**2) \n",
    "# Calculate Total Attraction for each POSTALCODE\n",
    "windowPartition = Window.partitionBy(['POSTALCODE'])#['STORE_NUM', 'CUSTOMER_GROUP'])\n",
    "joined_df = joined_df.withColumn(\"TOTAL_POSTALCODE_ATTRACTION\", sum('Attraction').over(windowPartition)) \n",
    "# Calculate running total of store-LDU attraction per store\n",
    "joined_df = joined_df.withColumn('CUMULATIVE_PERCENT_ATTRACTION', sum(col('Attraction')/col('TOTAL_POSTALCODE_ATTRACTION')).over(windowPartition.orderBy((col('Attraction')/col('TOTAL_POSTALCODE_ATTRACTION')).asc()).rowsBetween(Window.unboundedPreceding, 0))).select('STORE_NUM', 'CUSTOMER_GROUP', 'STORE_NAME','CHANNEL','SALES_GROUP','BANNER', 'STORE_STREET', 'STORE_PROVINCE', 'POSTALCODE', 'STORE_LATITUDE','STORE_LONGITUDE','LATITUDE', 'LONGITUDE', 'PROV', \n",
    "              'Attraction', 'TOTAL_POSTALCODE_ATTRACTION', 'CUMULATIVE_PERCENT_ATTRACTION', 'REVENUE_CY', 'HAVERSINE_DISTANCE')\n",
    "# Filter to exclude lower 1% running total of LDUs, PER STORE to reduce output size to ~500mil\n",
    "# PERCENT_ATTRACTION for each store adds up to 100%\n",
    "# joined_df_filtered = joined_df.filter(joined_df.CUMULATIVE_PERCENT_ATTRACTION > 0.01).withColumn('PERCENT_ATTRACTION', col('Attraction')/sum('Attraction').over(windowPartition)).select('STORE_NUM', 'CUSTOMER_GROUP', 'STORE_NAME', 'STORE_STREET', 'STORE_CITY', 'STORE_PROVINCE', 'POSTALCODE', 'LATITUDE', 'LONGITUDE', 'PROV', \n",
    "#               'Attraction', 'TOTAL_STORE_ATTRACTION', 'CUMULATIVE_PERCENT_ATTRACTION', 'PERCENT_ATTRACTION', 'DNNSI_IMPUTED', 'HAVERSINE_DISTANCE')\n",
    "display(joined_df)"
   ]
  },
  {
   "cell_type": "code",
   "execution_count": 0,
   "metadata": {
    "application/vnd.databricks.v1+cell": {
     "cellMetadata": {},
     "inputWidgets": {},
     "nuid": "71d0bd46-af35-48ca-81dd-744701118837",
     "showTitle": false,
     "tableResultSettingsMap": {},
     "title": ""
    }
   },
   "outputs": [],
   "source": [
    "joined_df.write.mode(\"overwrite\").option(\"overwriteSchema\", \"True\").format(\"delta\").saveAsTable(\n",
    "    \"hyper.store_LDU_attraction_0927\"\n",
    ")"
   ]
  },
  {
   "cell_type": "code",
   "execution_count": 0,
   "metadata": {
    "application/vnd.databricks.v1+cell": {
     "cellMetadata": {},
     "inputWidgets": {},
     "nuid": "f226800f-e87c-4f20-88c1-c6184059a3ea",
     "showTitle": false,
     "tableResultSettingsMap": {},
     "title": ""
    }
   },
   "outputs": [],
   "source": [
    "joined_df_1 = stores.crossJoin(LDU).filter(adj_prov_check_udf(col('PROV'), col('STORE_PROVINCE'))==True)\n",
    "# Calculate the haversine distance between each store and LDU coordinates\n",
    "joined_df_1 = joined_df_1.withColumn('HAVERSINE_DISTANCE', distance_udf(col('STORE_LATITUDE'), col('STORE_LONGITUDE'), col('LATITUDE'), col('LONGITUDE')))\n",
    "# Filter to reduce number of records after crossjoin\n",
    "joined_df_1 = joined_df_1.withColumn('Attraction', col('DNNSI_IMPUTED')/col('HAVERSINE_DISTANCE')**2)\n",
    "windowPartition = Window.partitionBy(['POSTALCODE'])#['STORE_NUM', 'CUSTOMER_GROUP'])\n",
    "joined_df_filtered = joined_df.withColumn(\"TOTAL_POSTALCODE_ATTRACTION\", sum('Attraction').over(windowPartition) - max('Attraction').over(windowPartition)) #excluding the max value (since this would be the postal code in which the store resides)\n",
    "# Calculate running total of store-LDU attraction per store\n",
    "joined_df_filtered = joined_df_filtered.withColumn('CUMULATIVE_PERCENT_ATTRACTION', sum(col('Attraction')/col('TOTAL_POSTALCODE_ATTRACTION')).over(windowPartition.orderBy((col('Attraction')/col('TOTAL_POSTALCODE_ATTRACTION')).asc()).rowsBetween(Window.unboundedPreceding, 0))).select('STORE_NUM', 'CUSTOMER_GROUP', 'STORE_NAME', 'STORE_STREET', 'STORE_CITY', 'STORE_PROVINCE', 'POSTALCODE', 'LATITUDE', 'LONGITUDE', 'PROV', \n",
    "              'Attraction', 'TOTAL_POSTALCODE_ATTRACTION', 'CUMULATIVE_PERCENT_ATTRACTION', 'DNNSI_IMPUTED', 'HAVERSINE_DISTANCE')"
   ]
  },
  {
   "cell_type": "code",
   "execution_count": 0,
   "metadata": {
    "application/vnd.databricks.v1+cell": {
     "cellMetadata": {},
     "inputWidgets": {},
     "nuid": "70fbe6d3-66f3-40f6-834e-71a6fde977d8",
     "showTitle": false,
     "tableResultSettingsMap": {},
     "title": ""
    }
   },
   "outputs": [],
   "source": [
    "joined_df = stores.crossJoin(LDU).filter(adj_prov_check_udf(col('PROV'), col('STORE_PROVINCE'))==True)\n",
    "# Calculate the haversine distance between each store and LDU coordinates\n",
    "joined_df = joined_df.withColumn('HAVERSINE_DISTANCE', distance_udf(col('STORE_LATITUDE'), col('STORE_LONGITUDE'), col('LATITUDE'), col('LONGITUDE')))\n",
    "# Filter to reduce number of records after crossjoin\n",
    "joined_df = joined_df.withColumn('Attraction', col('DNNSI_IMPUTED')/col('HAVERSINE_DISTANCE')**2)\n",
    "windowPartition = Window.partitionBy(['POSTALCODE'])\n",
    "joined_df = joined_df.withColumn('Max_Attraction', max('Attraction').over(windowPartition))\n",
    "\n",
    "display(joined_df)"
   ]
  },
  {
   "cell_type": "code",
   "execution_count": 0,
   "metadata": {
    "application/vnd.databricks.v1+cell": {
     "cellMetadata": {},
     "inputWidgets": {},
     "nuid": "28895d24-34ac-4def-986d-1b425cb8be97",
     "showTitle": false,
     "tableResultSettingsMap": {},
     "title": ""
    }
   },
   "outputs": [],
   "source": [
    "# Cross join the stores to postal codes (Roughly 7k stores * 900k LDUs = 6 bil records)\n",
    "# Prefilter to reduce number of records before crossjoin\n",
    "joined_df_with_max = stores.crossJoin(LDU).filter(adj_prov_check_udf(col('PROV'), col('STORE_PROVINCE'))==True)\n",
    "# Calculate the haversine distance between each store and LDU coordinates\n",
    "joined_df_with_max = joined_df_with_max.withColumn('HAVERSINE_DISTANCE', distance_udf(col('STORE_LATITUDE'), col('STORE_LONGITUDE'), col('LATITUDE'), col('LONGITUDE')))\n",
    "# Filter to reduce number of records after crossjoin\n",
    "joined_df_with_max = joined_df_with_max.withColumn('Attraction', col('DNNSI_IMPUTED')/col('HAVERSINE_DISTANCE')**2)\n",
    "#### joined_df = joined_df.withColumn('Attraction', col('SALES')/col('HAVERSINE_DISTANCE')**2) \n",
    "# Calculate Total Attraction for each POSTALCODE\n",
    "windowPartition = Window.partitionBy(['POSTALCODE'])#['STORE_NUM', 'CUSTOMER_GROUP'])\n",
    "joined_df_with_max = joined_df.withColumn(\"TOTAL_POSTALCODE_ATTRACTION\", sum('Attraction').over(windowPartition)) # - max('Attraction').over(windowPartition)) #excluding the max value (since this would be the postal code in which the store resides)\n",
    "# Calculate running total of store-LDU attraction per store\n",
    "joined_df_with_max = joined_df_with_max.withColumn('CUMULATIVE_PERCENT_ATTRACTION', sum(col('Attraction')/col('TOTAL_POSTALCODE_ATTRACTION')).over(windowPartition.orderBy((col('Attraction')/col('TOTAL_POSTALCODE_ATTRACTION')).asc()).rowsBetween(Window.unboundedPreceding, 0))).select('STORE_NUM', 'CUSTOMER_GROUP', 'STORE_NAME', 'STORE_STREET', 'STORE_CITY', 'STORE_PROVINCE', 'POSTALCODE', 'LATITUDE', 'LONGITUDE', 'PROV', \n",
    "              'Attraction', 'TOTAL_POSTALCODE_ATTRACTION', 'CUMULATIVE_PERCENT_ATTRACTION', 'DNNSI_IMPUTED', 'HAVERSINE_DISTANCE')\n",
    "# Filter to exclude lower 1% running total of LDUs, PER STORE to reduce output size to ~500mil\n",
    "# PERCENT_ATTRACTION for each store adds up to 100%\n",
    "# joined_df_filtered = joined_df.filter(joined_df.CUMULATIVE_PERCENT_ATTRACTION > 0.01).withColumn('PERCENT_ATTRACTION', col('Attraction')/sum('Attraction').over(windowPartition)).select('STORE_NUM', 'CUSTOMER_GROUP', 'STORE_NAME', 'STORE_STREET', 'STORE_CITY', 'STORE_PROVINCE', 'POSTALCODE', 'LATITUDE', 'LONGITUDE', 'PROV', \n",
    "#               'Attraction', 'TOTAL_STORE_ATTRACTION', 'CUMULATIVE_PERCENT_ATTRACTION', 'PERCENT_ATTRACTION', 'DNNSI_IMPUTED', 'HAVERSINE_DISTANCE')\n",
    "display(joined_df_with_max)"
   ]
  },
  {
   "cell_type": "code",
   "execution_count": 0,
   "metadata": {
    "application/vnd.databricks.v1+cell": {
     "cellMetadata": {},
     "inputWidgets": {},
     "nuid": "78a7d0d0-a69b-4c54-b3d4-63fdf54541b8",
     "showTitle": false,
     "tableResultSettingsMap": {},
     "title": ""
    }
   },
   "outputs": [],
   "source": [
    "joined_result = stores.crossJoin(LDU).filter(adj_prov_check_udf(col('PROV'), col('STORE_PROVINCE'))==True)\n",
    "display(joined_result)"
   ]
  },
  {
   "cell_type": "code",
   "execution_count": 0,
   "metadata": {
    "application/vnd.databricks.v1+cell": {
     "cellMetadata": {},
     "inputWidgets": {},
     "nuid": "7bef2db9-3610-4d91-b4a2-66bbcc8f42fe",
     "showTitle": false,
     "tableResultSettingsMap": {},
     "title": ""
    }
   },
   "outputs": [],
   "source": [
    "%sql\n",
    "select STORE_NUM,Attraction,TOTAL_POSTALCODE_ATTRACTION, CUMULATIVE_PERCENT_ATTRACTION from store_LDU_attraction\n",
    "where POSTALCODE= 'A0G2J0'"
   ]
  },
  {
   "cell_type": "code",
   "execution_count": 0,
   "metadata": {
    "application/vnd.databricks.v1+cell": {
     "cellMetadata": {},
     "inputWidgets": {},
     "nuid": "29ddaf98-dd72-46e4-a878-995e7e56bd04",
     "showTitle": true,
     "tableResultSettingsMap": {},
     "title": "Filter to exclude lower 1% running total of LDUs per store to reduce output size"
    }
   },
   "outputs": [],
   "source": [
    "joined_df_temp = spark.sql(\"\"\"\n",
    "                            SELECT * FROM hyper.store_LDU_attraction_0927\n",
    "                            WHERE Attraction > 0.005 * TOTAL_POSTALCODE_ATTRACTION\n",
    "                            \"\"\")\n",
    "windowPartition = Window.partitionBy(['POSTALCODE'])#['STORE_NUM', 'CUSTOMER_GROUP'])\n",
    "joined_df_filtered = joined_df_temp.withColumn('PERCENT_ATTRACTION', col('Attraction')/sum('Attraction').over(windowPartition)).select('STORE_NUM', 'CUSTOMER_GROUP', 'STORE_NAME','CHANNEL','SALES_GROUP','BANNER', 'STORE_STREET', 'STORE_PROVINCE', 'POSTALCODE', 'STORE_LATITUDE','STORE_LONGITUDE','LATITUDE', 'LONGITUDE', 'PROV', 'Attraction', 'TOTAL_POSTALCODE_ATTRACTION', 'CUMULATIVE_PERCENT_ATTRACTION', 'PERCENT_ATTRACTION', 'REVENUE_CY', 'HAVERSINE_DISTANCE')"
   ]
  },
  {
   "cell_type": "code",
   "execution_count": 0,
   "metadata": {
    "application/vnd.databricks.v1+cell": {
     "cellMetadata": {},
     "inputWidgets": {},
     "nuid": "271783dc-7d50-4ea9-b8ea-74b1070064d5",
     "showTitle": false,
     "tableResultSettingsMap": {},
     "title": ""
    }
   },
   "outputs": [],
   "source": [
    "joined_df_filtered.write.mode(\"overwrite\").option(\"overwriteSchema\", \"True\").format(\"delta\").saveAsTable(\n",
    "    \"hyper.store_LDU_attraction_f_halfp_0927\"\n",
    ")"
   ]
  },
  {
   "cell_type": "code",
   "execution_count": 0,
   "metadata": {
    "application/vnd.databricks.v1+cell": {
     "cellMetadata": {},
     "inputWidgets": {},
     "nuid": "eb8e63e5-7772-4616-8c51-ca875f27127b",
     "showTitle": false,
     "tableResultSettingsMap": {},
     "title": ""
    }
   },
   "outputs": [],
   "source": [
    "%sql\n",
    "select * from environics.ldu_feature_vals_melted_df_master_variable_0826_2"
   ]
  },
  {
   "cell_type": "code",
   "execution_count": 0,
   "metadata": {
    "application/vnd.databricks.v1+cell": {
     "cellMetadata": {},
     "inputWidgets": {},
     "nuid": "64ae3b02-f90a-4d4a-87af-25d51e572edf",
     "showTitle": false,
     "tableResultSettingsMap": {},
     "title": ""
    }
   },
   "outputs": [],
   "source": [
    "joined_df_temp = spark.sql(\"\"\"\n",
    "                            SELECT * FROM hyper.store_LDU_attraction_0910\n",
    "                            WHERE Attraction > 0.01 * TOTAL_POSTALCODE_ATTRACTION\n",
    "                            \"\"\")\n",
    "windowPartition = Window.partitionBy(['POSTALCODE'])#['STORE_NUM', 'CUSTOMER_GROUP'])\n",
    "joined_df_filtered = joined_df_temp.withColumn('PERCENT_ATTRACTION', col('Attraction')/sum('Attraction').over(windowPartition)).select('STORE_NUM', 'CUSTOMER_GROUP', 'STORE_NAME','CHANNEL','SALES_GROUP','BANNER', 'STORE_STREET', 'STORE_PROVINCE', 'POSTALCODE', 'STORE_LATITUDE','STORE_LONGITUDE','LATITUDE', 'LONGITUDE', 'PROV', 'Attraction', 'TOTAL_POSTALCODE_ATTRACTION', 'CUMULATIVE_PERCENT_ATTRACTION', 'PERCENT_ATTRACTION', 'REVENUE_CY', 'HAVERSINE_DISTANCE')\n",
    "\n",
    "joined_df_filtered.write.mode(\"overwrite\").option(\"overwriteSchema\", \"True\").format(\"delta\").saveAsTable(\n",
    "    \"hyper.store_LDU_attraction_fullp_filtered_0910\"\n",
    ")"
   ]
  }
 ],
 "metadata": {
  "application/vnd.databricks.v1+notebook": {
   "dashboards": [],
   "environmentMetadata": null,
   "language": "python",
   "notebookMetadata": {
    "pythonIndentUnit": 4
   },
   "notebookName": "Demostats & Socialvalues & Store profiling",
   "widgets": {}
  },
  "language_info": {
   "name": "python"
  }
 },
 "nbformat": 4,
 "nbformat_minor": 0
}
