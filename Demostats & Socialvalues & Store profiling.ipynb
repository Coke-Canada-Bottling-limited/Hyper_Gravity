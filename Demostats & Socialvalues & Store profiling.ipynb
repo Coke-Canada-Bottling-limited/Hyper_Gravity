{
 "cells": [
  {
   "cell_type": "code",
   "execution_count": 0,
   "metadata": {
    "application/vnd.databricks.v1+cell": {
     "cellMetadata": {},
     "inputWidgets": {},
     "nuid": "5fb513ce-0402-4173-b96c-3acf8f6d84a3",
     "showTitle": false,
     "tableResultSettingsMap": {},
     "title": ""
    }
   },
   "outputs": [],
   "source": [
    "# from shapely import wkt\n",
    "import math\n",
    "import numpy as np\n",
    "from pyspark.sql.window import Window\n",
    "from pyspark.sql.functions import *\n",
    "from pyspark.sql.types import (\n",
    "    StructType,\n",
    "    StructField,\n",
    "    StringType,\n",
    "    FloatType,\n",
    "    IntegerType,\n",
    "    ArrayType,\n",
    "    MapType,\n",
    "    DateType,\n",
    "    DoubleType,\n",
    "    BooleanType,\n",
    "    LongType,\n",
    ")"
   ]
  },
  {
   "cell_type": "code",
   "execution_count": 0,
   "metadata": {
    "application/vnd.databricks.v1+cell": {
     "cellMetadata": {},
     "inputWidgets": {},
     "nuid": "513e9d5b-35eb-4331-b732-eea3611950f4",
     "showTitle": true,
     "tableResultSettingsMap": {},
     "title": "Pull Demostats Descriptor Columns from Variables List"
    }
   },
   "outputs": [],
   "source": [
    "# filtering and grouping the languages\n",
    "\n",
    "variable_desc = spark.sql(\n",
    "    \"\"\"\n",
    "SELECT\n",
    "  /*CASE\n",
    "    WHEN Description = 'Somali' THEN 'African Languages'\n",
    "    WHEN Description IN ('Cantonese', 'Chinese N.O.S', 'Mandarin') THEN 'Chinese Languages'\n",
    "    WHEN Description IN (\n",
    "      'Czech',\n",
    "      'Hungarian',\n",
    "      'Polish',\n",
    "      'Romanian',\n",
    "      'Russian',\n",
    "      'Serbian',\n",
    "      'Ukrainian'\n",
    "    ) THEN 'East European Languages'\n",
    "    WHEN Description IN (\n",
    "      'Bengali',\n",
    "      'Gujarati',\n",
    "      'Hindi',\n",
    "      'Panjabi',\n",
    "      'Tamil',\n",
    "      'Urdu'\n",
    "    ) THEN 'Languages of India'\n",
    "    WHEN Description = 'Creoles' THEN 'Mixed Languages'\n",
    "    WHEN Description IN ('Japanese', 'Korean', 'Vietnamese') THEN 'Other East Asian Languages'\n",
    "    WHEN Description IN ('Croatian', 'Greek', 'Italian', 'Portuguese') THEN 'South European Languages'\n",
    "    WHEN Description = 'Tagalog' THEN 'Southeast Asian Languages'\n",
    "    WHEN Description IN (\n",
    "      'English & French',\n",
    "      'English & French & Non-Official',\n",
    "      'English & Non-Official',\n",
    "      'French & Non-Official',\n",
    "      'Other Languages'\n",
    "    ) THEN 'Unspecified or Multilingual'\n",
    "    WHEN Description IN ('Arabic', 'Persian', 'Turkish') THEN 'West Asian Languages'\n",
    "    WHEN Description IN (\n",
    "      'Dutch',\n",
    "      'French',\n",
    "      'German',\n",
    "      'Spanish'\n",
    "    ) THEN 'West European Languages'\n",
    "    ELSE Description\n",
    "  END */Description,\n",
    "  Category,\n",
    "  Variable variable\n",
    "FROM\n",
    "  demo_stats_2023_variables_list\n",
    "\"\"\"\n",
    ")\n",
    "variable_desc.show()"
   ]
  },
  {
   "cell_type": "markdown",
   "metadata": {
    "application/vnd.databricks.v1+cell": {
     "cellMetadata": {},
     "inputWidgets": {},
     "nuid": "baab7316-53a8-47a7-b9ee-5dc90fc20262",
     "showTitle": false,
     "tableResultSettingsMap": {},
     "title": ""
    }
   },
   "source": [
    "Dissemination Area"
   ]
  },
  {
   "cell_type": "code",
   "execution_count": 0,
   "metadata": {
    "application/vnd.databricks.v1+cell": {
     "cellMetadata": {},
     "inputWidgets": {},
     "nuid": "c23ee7e8-d881-4d76-ba58-330604499060",
     "showTitle": false,
     "tableResultSettingsMap": {},
     "title": ""
    }
   },
   "outputs": [],
   "source": [
    "%sql\n",
    "SELECT GEO.PRABB, GEO.CMANAME, P1.* FROM environics.demostats2023_18 P1\n",
    "LEFT JOIN (SELECT DISTINCT PRCDDA, CASE WHEN CMANAME LIKE '%,%' THEN LEFT(CASE WHEN CMANAME LIKE 'Trois%' THEN REPLACE(CMANAME, '�', 'è') WHEN CMANAME LIKE 'Sept%' THEN REPLACE(CMANAME, '�', 'Î') ELSE REPLACE(CMANAME, '�', 'é') END, CHARINDEX(',', CMANAME)-1) ELSE REPLACE(CMANAME, '�', 'é') END CMANAME, PRABB FROM environics.geo_2023) GEO\n",
    "ON P1.CODE = GEO.PRCDDA\n",
    "WHERE P1.GEO = 'PRCDDA'"
   ]
  },
  {
   "cell_type": "code",
   "execution_count": 0,
   "metadata": {
    "application/vnd.databricks.v1+cell": {
     "cellMetadata": {},
     "inputWidgets": {},
     "nuid": "d397dbe1-4c8b-432f-8ee1-268492406450",
     "showTitle": false,
     "tableResultSettingsMap": {},
     "title": ""
    }
   },
   "outputs": [],
   "source": [
    "# char operations and table joining\n",
    "\n",
    "ds_da_2018 = spark.sql(\n",
    "\"\"\"\n",
    "SELECT GEO.PRABB, GEO.CMANAME, P1.* FROM environics.demostats2023_18 P1\n",
    "LEFT JOIN (SELECT DISTINCT PRCDDA, CASE WHEN CMANAME LIKE '%,%' THEN LEFT(CASE WHEN CMANAME LIKE 'Trois%' THEN REPLACE(CMANAME, '�', 'è') WHEN CMANAME LIKE 'Sept%' THEN REPLACE(CMANAME, '�', 'Î') ELSE REPLACE(CMANAME, '�', 'é') END, CHARINDEX(',', CMANAME)-1) ELSE REPLACE(CMANAME, '�', 'é') END CMANAME, PRABB FROM environics.geo_2023) GEO\n",
    "ON P1.CODE = GEO.PRCDDA\n",
    "WHERE P1.GEO = 'PRCDDA'\n",
    "\"\"\"\n",
    ")\n",
    "\n",
    "# extract the values from the variables column, categorizing the year brackets.\n",
    "# join with table of feature names.\n",
    "\n",
    "values = ds_da_2018.columns[4:]\n",
    "ds_da_cleaned_2018 = ds_da_2018.melt(\n",
    "        ids=['CODE', 'CMANAME', 'PRABB'], values=values, \n",
    "        variableColumnName=\"variable\", \n",
    "        valueColumnName=\"value\").join(variable_desc, on='variable', how='left').withColumn('YEAR', when(substring('variable', 0, 3)=='EHY', 2018).when(substring('variable', 0, 3)=='ECY', 2023).when(substring('variable', 0, 3)=='P3Y', 2026).when(substring('variable', 0, 3)=='P5Y', 2028).when(substring('variable', 0, 3)=='P0Y', 2033))\n",
    "ds_da_cleaned_2018.show()"
   ]
  },
  {
   "cell_type": "markdown",
   "metadata": {
    "application/vnd.databricks.v1+cell": {
     "cellMetadata": {},
     "inputWidgets": {},
     "nuid": "d037139c-7f21-49d1-beae-259c968b236a",
     "showTitle": false,
     "tableResultSettingsMap": {},
     "title": ""
    }
   },
   "source": [
    "# Mapping DA to Postal Codes\n",
    "Only required for 2018 historical, 2026, 2028, and 2033 projections"
   ]
  },
  {
   "cell_type": "code",
   "execution_count": 0,
   "metadata": {
    "application/vnd.databricks.v1+cell": {
     "cellMetadata": {},
     "inputWidgets": {},
     "nuid": "e4f257d1-106b-4c11-8509-cf9d6c59190c",
     "showTitle": false,
     "tableResultSettingsMap": {},
     "title": ""
    }
   },
   "outputs": [],
   "source": [
    "DA_LDU_map = spark.sql(\n",
    "\"\"\"\n",
    "SELECT EPCCF.PRCDDA, LDU.*, SUM(AREA)/SUM(T2.TOTAL) LDU_PERCENT_OF_DA FROM environics.epccf_unique EPCCF\n",
    "INNER JOIN (SELECT POSTALCODE, PROV, FIRST(LONGITUDE) LONGITUDE, FIRST(LATITUDE) LATITUDE, SUM(AREA) AREA\n",
    "    FROM (SELECT * FROM combined_ldu_p1\n",
    "    UNION\n",
    "    SELECT * FROM combined_ldu_p2\n",
    "    ORDER BY POSTALCODE, AREA DESC)\n",
    "    GROUP BY POSTALCODE, PROV) LDU\n",
    "ON EPCCF.FSALDU = LDU.POSTALCODE\n",
    "INNER JOIN (SELECT DISTINCT EPCCF.PRCDDA, SUM(AREA) TOTAL FROM environics.epccf_unique EPCCF\n",
    "    INNER JOIN (SELECT * FROM combined_ldu_p1\n",
    "    UNION\n",
    "    SELECT * FROM combined_ldu_p2) T\n",
    "    ON EPCCF.FSALDU = T.POSTALCODE\n",
    "    GROUP BY PRCDDA) T2\n",
    "ON EPCCF.PRCDDA = T2.PRCDDA\n",
    "GROUP BY EPCCF.PRCDDA, LDU.POSTALCODE, PROV, LDU.LONGITUDE, LDU.LATITUDE, AREA\n",
    "\"\"\"\n",
    ")\n",
    "DA_LDU_map.show()"
   ]
  },
  {
   "cell_type": "code",
   "execution_count": 0,
   "metadata": {
    "application/vnd.databricks.v1+cell": {
     "cellMetadata": {},
     "inputWidgets": {},
     "nuid": "2afde818-003b-4314-8f19-cc71607b5a7d",
     "showTitle": false,
     "tableResultSettingsMap": {},
     "title": ""
    }
   },
   "outputs": [],
   "source": [
    "# Convert Dissemination Area values to Postal Code (LDU), prorating by postal code area\n",
    "\n",
    "demostats_LDU_cleaned_2018 = DA_LDU_map.join(ds_da_cleaned_2018, \n",
    "               DA_LDU_map.PRCDDA == ds_da_cleaned_2018.CODE, \n",
    "               \"inner\").withColumnRenamed('value', 'DA_VALUE').withColumn('value', round(col('LDU_PERCENT_OF_DA')*col('DA_VALUE'),0)).select('variable', col('POSTALCODE').alias('CODE'), 'PRCDDA', 'CMANAME', 'PRABB', 'value', 'Description', 'Category', 'YEAR')\n",
    "demostats_LDU_cleaned_2018.show()"
   ]
  },
  {
   "cell_type": "markdown",
   "metadata": {
    "application/vnd.databricks.v1+cell": {
     "cellMetadata": {},
     "inputWidgets": {},
     "nuid": "22d693b1-9c19-494d-8843-0bdeb2b88bf7",
     "showTitle": false,
     "tableResultSettingsMap": {},
     "title": ""
    }
   },
   "source": [
    "# Pull Demostats CY Data at Postal Code level"
   ]
  },
  {
   "cell_type": "code",
   "execution_count": 0,
   "metadata": {
    "application/vnd.databricks.v1+cell": {
     "cellMetadata": {},
     "inputWidgets": {},
     "nuid": "6d66e863-abe3-4ac2-bf5e-9fdb6b8825a2",
     "showTitle": false,
     "tableResultSettingsMap": {},
     "title": ""
    }
   },
   "outputs": [],
   "source": [
    "%sql\n",
    "select * from environics.demostats2023_23"
   ]
  },
  {
   "cell_type": "code",
   "execution_count": 0,
   "metadata": {
    "application/vnd.databricks.v1+cell": {
     "cellMetadata": {},
     "inputWidgets": {},
     "nuid": "2b2fcdde-560c-4393-82f5-6a807ae9a1fa",
     "showTitle": false,
     "tableResultSettingsMap": {},
     "title": ""
    }
   },
   "outputs": [],
   "source": [
    "demostats_LDU_2023 = spark.sql(\n",
    "\"\"\"\n",
    "SELECT EPCCF.PRABB, EPCCF.CMANAME, EPCCF.PRCDDA, DEMOSTATS_2023.* FROM\n",
    "environics.demostats2023_23 DEMOSTATS_2023\n",
    "LEFT JOIN (SELECT DISTINCT FSALDU, CASE WHEN CMANAME LIKE '%,%' THEN LEFT(CASE WHEN CMANAME LIKE 'Trois%' THEN REPLACE(CMANAME, '�', 'è') WHEN CMANAME LIKE 'Sept%' THEN REPLACE(CMANAME, '�', 'Î') ELSE REPLACE(CMANAME, '�', 'é') END, CHARINDEX(',', CMANAME)-1) ELSE REPLACE(CMANAME, '�', 'é') END CMANAME, PRABB, PRCDDA FROM environics.epccf_unique) EPCCF\n",
    "ON DEMOSTATS_2023.CODE = EPCCF.FSALDU\n",
    "WHERE DEMOSTATS_2023.GEO = 'FSALDU'\n",
    "\"\"\"\n",
    ")\n",
    "display(demostats_LDU_2023)"
   ]
  },
  {
   "cell_type": "code",
   "execution_count": 0,
   "metadata": {
    "application/vnd.databricks.v1+cell": {
     "cellMetadata": {},
     "inputWidgets": {},
     "nuid": "18700785-ce2b-4d0c-b91f-69da64afa4fa",
     "showTitle": false,
     "tableResultSettingsMap": {},
     "title": ""
    }
   },
   "outputs": [],
   "source": [
    "values = demostats_LDU_2023.columns[5:]\n",
    "demostats_LDU_2023_cleaned = demostats_LDU_2023.melt(\n",
    "        ids=['CODE', 'PRCDDA', 'CMANAME', 'PRABB'], values=values, \n",
    "        variableColumnName=\"variable\", \n",
    "        valueColumnName=\"value\").join(variable_desc, on='variable', how='left').withColumn('YEAR', when(substring('variable', 0, 3)=='EHY', 2018).when(substring('variable', 0, 3)=='ECY', 2023).when(substring('variable', 0, 3)=='P3Y', 2026).when(substring('variable', 0, 3)=='P5Y', 2028).when(substring('variable', 0, 3)=='P0Y', 2033))\n",
    "demostats_LDU_2023_cleaned.show()"
   ]
  },
  {
   "cell_type": "code",
   "execution_count": 0,
   "metadata": {
    "application/vnd.databricks.v1+cell": {
     "cellMetadata": {},
     "inputWidgets": {},
     "nuid": "ea984aa2-36a0-4ebd-8669-09b3a9e7bd19",
     "showTitle": false,
     "tableResultSettingsMap": {},
     "title": ""
    }
   },
   "outputs": [],
   "source": [
    "# demostats_LDU_2023_cleaned.write.mode(\"overwrite\").option(\"overwriteSchema\", \"True\").format(\"delta\").saveAsTable(\n",
    "#     \"environics.demostats_LDU_2023_cleaned\"\n",
    "# )"
   ]
  },
  {
   "cell_type": "code",
   "execution_count": 0,
   "metadata": {
    "application/vnd.databricks.v1+cell": {
     "cellMetadata": {},
     "inputWidgets": {},
     "nuid": "61e177de-3dd8-4cbb-b48c-a45811f712e4",
     "showTitle": false,
     "tableResultSettingsMap": {},
     "title": ""
    }
   },
   "outputs": [],
   "source": [
    "# demostats_LDU_cleaned = demostats_LDU_cleaned_2018.union(demostats_LDU_2023_cleaned).union(demostats_LDU_cleaned_2026).union(demostats_LDU_cleaned_2028).union(demostats_LDU_cleaned_2033)\n",
    "# demostats_LDU_cleaned.write.mode(\"overwrite\").option(\"overwriteSchema\", \"True\").format(\"delta\").saveAsTable(\n",
    "#     \"default.demostats_LDU_cleaned\"\n",
    "# )"
   ]
  },
  {
   "cell_type": "code",
   "execution_count": 0,
   "metadata": {
    "application/vnd.databricks.v1+cell": {
     "cellMetadata": {},
     "inputWidgets": {},
     "nuid": "483b9adf-9926-4337-a729-41738b9d1b8a",
     "showTitle": true,
     "tableResultSettingsMap": {},
     "title": "Socialvalues"
    }
   },
   "outputs": [],
   "source": [
    "SV_2023 = spark.sql(\n",
    "\"\"\"\n",
    "SELECT EPCCF.PRABB, EPCCF.CMANAME, EPCCF.PRCDDA, SV.* FROM\n",
    "environics.socialvalues SV\n",
    "LEFT JOIN (SELECT DISTINCT FSALDU, CASE WHEN CMANAME LIKE '%,%' THEN LEFT(CASE WHEN CMANAME LIKE 'Trois%' THEN REPLACE(CMANAME, '�', 'è') WHEN CMANAME LIKE 'Sept%' THEN REPLACE(CMANAME, '�', 'Î') ELSE REPLACE(CMANAME, '�', 'é') END, CHARINDEX(',', CMANAME)-1) ELSE REPLACE(CMANAME, '�', 'é') END CMANAME, PRABB, PRCDDA FROM environics.epccf_unique) EPCCF\n",
    "ON SV.CODE = EPCCF.FSALDU\n",
    "WHERE SV.GEO = 'FSALDU'\n",
    "\"\"\"\n",
    ")"
   ]
  },
  {
   "cell_type": "code",
   "execution_count": 0,
   "metadata": {
    "application/vnd.databricks.v1+cell": {
     "cellMetadata": {},
     "inputWidgets": {},
     "nuid": "e05aec9a-de6b-4a1a-82e0-6728c426a9f6",
     "showTitle": false,
     "tableResultSettingsMap": {},
     "title": ""
    }
   },
   "outputs": [],
   "source": [
    "SV_variable_desc = spark.sql(\n",
    "    \"\"\"\n",
    "SELECT Description, Category, Variable variable\n",
    "FROM\n",
    "  social_values_2023_variables_list\n",
    "\"\"\"\n",
    ")\n",
    "SV_variable_desc.show()"
   ]
  },
  {
   "cell_type": "code",
   "execution_count": 0,
   "metadata": {
    "application/vnd.databricks.v1+cell": {
     "cellMetadata": {},
     "inputWidgets": {},
     "nuid": "583bd804-ea6a-43c9-a5b2-e45bc3f03569",
     "showTitle": false,
     "tableResultSettingsMap": {},
     "title": ""
    }
   },
   "outputs": [],
   "source": [
    "values = SV_2023.columns[5:]\n",
    "SV_2023_cleaned = SV_2023.melt(\n",
    "        ids=['CODE', 'PRCDDA', 'CMANAME', 'PRABB'], values=values, \n",
    "        variableColumnName=\"variable\", \n",
    "        valueColumnName=\"value\").join(SV_variable_desc, on='variable', how='left').withColumn('YEAR', lit(2023))\n",
    "SV_2023_cleaned.show()"
   ]
  },
  {
   "cell_type": "code",
   "execution_count": 0,
   "metadata": {
    "application/vnd.databricks.v1+cell": {
     "cellMetadata": {},
     "inputWidgets": {},
     "nuid": "272eee34-f6be-4d20-9fb9-1f9cde11f813",
     "showTitle": false,
     "tableResultSettingsMap": {},
     "title": ""
    }
   },
   "outputs": [],
   "source": [
    "# SV_2023_cleaned.write.mode(\"overwrite\").option(\"overwriteSchema\", \"True\").format(\"delta\").saveAsTable(\n",
    "#     \"environics.socialvalues_2023_cleaned\"\n",
    "# )"
   ]
  },
  {
   "cell_type": "markdown",
   "metadata": {
    "application/vnd.databricks.v1+cell": {
     "cellMetadata": {},
     "inputWidgets": {},
     "nuid": "2a5db533-3479-47a1-b06b-cfe219237e2f",
     "showTitle": false,
     "tableResultSettingsMap": {},
     "title": ""
    }
   },
   "source": [
    "# Filter for relevant features"
   ]
  },
  {
   "cell_type": "code",
   "execution_count": 0,
   "metadata": {
    "application/vnd.databricks.v1+cell": {
     "cellMetadata": {},
     "inputWidgets": {},
     "nuid": "00c737f8-0b46-41b9-a3b8-301f50462529",
     "showTitle": false,
     "tableResultSettingsMap": {},
     "title": ""
    }
   },
   "outputs": [],
   "source": [
    "# gender/ethnicity/marital status/labour force activity\n",
    "filter_conditions = [\n",
    "    \"Males\",\n",
    "    \"Females\",\n",
    "    \"1 Person\",\n",
    "    \"2 Persons\",\n",
    "    \"3 Persons\",\n",
    "    \"4 Persons\",\n",
    "    \"5 Or More Persons\",\n",
    "    'Somali',\n",
    "    'Cantonese',\n",
    "    'Chinese N.O.S',\n",
    "    'Mandarin',\n",
    "    'Czech',\n",
    "    'Hungarian',\n",
    "    'Polish',\n",
    "    'Romanian',\n",
    "    'Russian',\n",
    "    'Serbian',\n",
    "    'Ukrainian',\n",
    "    'Indigenous Languages',\n",
    "    'Bengali',\n",
    "    'Gujarati',\n",
    "    'Hindi',\n",
    "    'Panjabi',\n",
    "    'Tamil',\n",
    "    'Urdu',\n",
    "    'Creoles',\n",
    "    'Japanese',\n",
    "    'Korean',\n",
    "    'Vietnamese',\n",
    "    'Croatian',\n",
    "    'Greek',\n",
    "    'Italian',\n",
    "    'Portuguese',\n",
    "    'Tagalog',\n",
    "    'English & French',\n",
    "    'English & French & Non-Official',\n",
    "    'English & Non-Official',\n",
    "    'French & Non-Official',\n",
    "    'Other Languages',\n",
    "    'Arabic',\n",
    "    'Persian',\n",
    "    'Turkish',\n",
    "    'Dutch',\n",
    "    'English',\n",
    "    'French',\n",
    "    'German',\n",
    "    'Spanish',\n",
    "    ### Visible Minority:\n",
    "    'Visible Minority Chinese',\n",
    "    'Visible Minority South Asian',\n",
    "    'Visible Minority Black',\n",
    "    'Visible Minority Filipino',\n",
    "    'Visible Minority Latin American',\n",
    "    'Visible Minority Southeast Asian',\n",
    "    'Visible Minority Arab',\n",
    "    'Visible Minority West Asian',\n",
    "    'Visible Minority Korean',\n",
    "    'Visible Minority Japanese',\n",
    "    'Visible Minority All Other Visible Minorities',\n",
    "    'Visible Minority Multiple Visible Minorities',\n",
    "    'Visible Minority Not A Visible Minority',\n",
    "    ### Country of Immigration:\n",
    "    \"Non-Immigrant\",\n",
    "    'Non-Permanent Resident',\n",
    "    \"Côte d'Ivoire\",\n",
    "    \"Russia\",\n",
    "    \"Other Western Africa\",\n",
    "    \"Congo, The Democratic Republic of The\",\n",
    "    \"Guyana\",\n",
    "    \"Eritrea\",\n",
    "    \"Philippines\",\n",
    "    \"Other Central America\",\n",
    "    \"Other Southern Europe\",\n",
    "    \"Malaysia\",\n",
    "    \"Fiji\",\n",
    "    \"Turkey\",\n",
    "    \"Iraq\",\n",
    "    \"Germany\",\n",
    "    \"Trinidad And Tobago\",\n",
    "    \"Afghanistan\",\n",
    "    \"Cambodia\",\n",
    "    \"France\",\n",
    "    \"Greece\",\n",
    "    \"Sri Lanka\",\n",
    "    \"Other Southern Africa\",\n",
    "    \"Taiwan\",\n",
    "    \"Algeria\",\n",
    "    \"Ghana\",\n",
    "    \"Peru\",\n",
    "    \"Other West Central Asia And Middle East\",\n",
    "    \"United States\",\n",
    "    \"China\",\n",
    "    \"India\",\n",
    "    \"Other North America\",\n",
    "    \"Somalia\",\n",
    "    \"Chile\",\n",
    "    \"Other Caribbean And Bermuda\",\n",
    "    \"Croatia\",\n",
    "    \"Nigeria\",\n",
    "    \"Italy\",\n",
    "    \"Other Western Europe\",\n",
    "    \"Cuba\",\n",
    "    \"Bangladesh\",\n",
    "    \"Iran\",\n",
    "    \"Ireland\",\n",
    "    \"Morocco\",\n",
    "    \"Hong Kong\",\n",
    "    \"Venezuela\",\n",
    "    \"Ukraine\",\n",
    "    \"Israel\",\n",
    "    \"Bosnia Herzegovina\",\n",
    "    \"South Korea\",\n",
    "    \"Mexico\",\n",
    "    \"Other Eastern Asia\",\n",
    "    \"Other Northern Europe\",\n",
    "    \"Tunisia\",\n",
    "    \"Syria\",\n",
    "    \"Saudi Arabia\",\n",
    "    \"Other Eastern Africa\",\n",
    "    \"Ethiopia\",\n",
    "    \"Jamaica\",\n",
    "    \"United Arab Emirates\",\n",
    "    \"Other Northern Africa\",\n",
    "    \"Czech Republic\",\n",
    "    \"Brazil\",\n",
    "    \"Kenya\",\n",
    "    \"Lebanon\",\n",
    "    \"Tanzania\",\n",
    "    \"Japan\",\n",
    "    \"Other Southern Asia\",\n",
    "    \"Other Eastern Europe\",\n",
    "    \"Haiti\",\n",
    "    \"Other Southeast Asia\",\n",
    "    \"Other Oceania And Other\",\n",
    "    \"Poland\",\n",
    "    \"Portugal\",\n",
    "    \"Cameroon\",\n",
    "    \"Australia\",\n",
    "    \"Romania\",\n",
    "    \"Nepal\",\n",
    "    \"El Salvador\",\n",
    "    \"Egypt\",\n",
    "    \"Serbia\",\n",
    "    \"South Africa\",\n",
    "    \"Colombia\",\n",
    "    \"Hungary\",\n",
    "    \"Other Central Africa\",\n",
    "    \"Pakistan\",\n",
    "    \"Moldova\",\n",
    "    \"United Kingdom\",\n",
    "    \"Vietnam\",\n",
    "    \"Netherlands\",\n",
    "    \"Other South America\",\n",
    "    ### Totals\n",
    "    \"Total Households\",\n",
    "    \"Total Household Population\",\n",
    "    \"Total Household Population 15 Years Or Over\",\n",
    "    \"Total Population\",\n",
    "    ### Education\n",
    "    \"No Certificate, Diploma Or Degree\",\n",
    "    \"High School Certificate Or Equivalent\",\n",
    "    \"University Certificate Or Diploma Below Bachelor\",\n",
    "    \"College, CEGEP Or Other Non-University Certificate Or Diploma\",\n",
    "    \"Apprenticeship Or Trades Certificate Or Diploma\",\n",
    "    \"Bachelor's Degree\",\n",
    "    \"Above Bachelor's\",\n",
    "    ### Marital Status\n",
    "    \"Married (And Not Separated)\",\n",
    "    \"Living Common Law\",\n",
    "    \"Single (Never Legally Married)\",\n",
    "    \"Separated\",\n",
    "    \"Divorced\",\n",
    "    \"Widowed\",\n",
    "    ### Employment Status\n",
    "    \"Employed\",\n",
    "    \"Unemployed\",\n",
    "    \"Not In The Labour Force\",\n",
    "]\n",
    "# age\n",
    "reg_condition1 = col(\"Description\").rlike(\n",
    "    \"^\\\\bTotal\\\\b\\\\s\\\\d+\\\\s(([Tt][Oo]\\\\s\\\\d+)|([Oo][Rr]\\\\s[Oo][Ll][Dd][Ee][Rr]))\"\n",
    ")\n",
    "# income levels\n",
    "reg_condition2 = col(\"Description\").rlike(\n",
    "    \"^\\\\bHousehold Income\\\\b\\\\s\\\\$300[,][0]{3}\\\\s[oO][rR]\\\\s[oO][vV][eE][rR].*\"\n",
    ")\n",
    "reg_condition3 = col(\"Description\").rlike(\n",
    "    \"^\\\\bHousehold Income\\\\b\\\\s((\\\\$\\\\d+)|(\\\\$\\\\d+[,]\\\\d+))\\\\s(([Tt][Oo]\\\\s\\\\$\\\\d+[,]\\\\d+.*)).*\"\n",
    ")"
   ]
  },
  {
   "cell_type": "code",
   "execution_count": 0,
   "metadata": {
    "application/vnd.databricks.v1+cell": {
     "cellMetadata": {},
     "inputWidgets": {},
     "nuid": "3b755505-89fc-41e3-bd04-609813aa4c41",
     "showTitle": false,
     "tableResultSettingsMap": {},
     "title": ""
    }
   },
   "outputs": [],
   "source": [
    "%sql\n",
    "    SELECT DISTINCT Category\n",
    "    FROM environics.dim_master_demostats WHERE ADD_TO_PROFILE = 1"
   ]
  },
  {
   "cell_type": "code",
   "execution_count": 0,
   "metadata": {
    "application/vnd.databricks.v1+cell": {
     "cellMetadata": {},
     "inputWidgets": {},
     "nuid": "48b33223-ef12-4723-878a-95e1d8751635",
     "showTitle": false,
     "tableResultSettingsMap": {},
     "title": ""
    }
   },
   "outputs": [],
   "source": [
    "%sql\n",
    "select * from environics.demostats_LDU_2023_cleaned WHERE CODE='N0R1A0'"
   ]
  },
  {
   "cell_type": "code",
   "execution_count": 0,
   "metadata": {
    "application/vnd.databricks.v1+cell": {
     "cellMetadata": {},
     "inputWidgets": {},
     "nuid": "8e320c79-0355-4ff6-958e-71e7a1c04880",
     "showTitle": false,
     "tableResultSettingsMap": {},
     "title": ""
    }
   },
   "outputs": [],
   "source": [
    "df = spark.sql(\"\"\"select\n",
    "  *\n",
    "from\n",
    "  environics.demostats_LDU_2023_cleaned\n",
    "where\n",
    "   Category in (\n",
    "     'Basics',\n",
    "    \"Total Population by Age\",\n",
    "    \"Households by Size of Household\",\n",
    "    \"Households by Income (Current Year)\",\n",
    "    \"Household Population by Total Immigrants and Place of Birth\",\n",
    "    \"Household Population by Visible Minority Status\",\n",
    "    \"Male Population by Age\",\n",
    "    \"Female Population by Age\",\n",
    "    \"Household Population 15 Years or Over by Educational Attainment\",\n",
    "    \"Household Population 15 Years or Over by Marital Status\",\n",
    "    \"Household Population 15 Years or Over by Labour Force Activity\",\n",
    "    'Household Population by Mother Tongue'\n",
    "  ) AND PRABB in ('ON', 'MB','QC')\n",
    "\"\"\").filter(col('Description').isin(filter_conditions)|reg_condition1|reg_condition2|reg_condition3)\n",
    "display(df)"
   ]
  },
  {
   "cell_type": "code",
   "execution_count": 0,
   "metadata": {
    "application/vnd.databricks.v1+cell": {
     "cellMetadata": {},
     "inputWidgets": {},
     "nuid": "e47d731b-0a4c-4744-bb56-14aee048f8d4",
     "showTitle": false,
     "tableResultSettingsMap": {},
     "title": ""
    }
   },
   "outputs": [],
   "source": [
    "# remove all the special characters in Description column\n",
    "cleaned_df = (\n",
    "    df.withColumn(\n",
    "        \"Description\", regexp_replace(\"Description\", \" \\\\(Current Year \\\\$\\\\)\", \"\")\n",
    "    )\n",
    "    .withColumn(\n",
    "        \"Description\", regexp_replace(\"Description\", \"Côte d'Ivoire\", \"Cote d Ivoire\")\n",
    "    )\n",
    "    .withColumn(\n",
    "        \"Description\", regexp_replace(\"Description\", r\"[$,.\\-\" + \"'\" + r\"()]\", \"\")\n",
    "    )\n",
    "    )"
   ]
  },
  {
   "cell_type": "code",
   "execution_count": 0,
   "metadata": {
    "application/vnd.databricks.v1+cell": {
     "cellMetadata": {},
     "inputWidgets": {},
     "nuid": "5b9b530c-217b-4705-bf5d-a19f40770400",
     "showTitle": false,
     "tableResultSettingsMap": {},
     "title": ""
    }
   },
   "outputs": [],
   "source": [
    "# cleaned_df_2018 = cleaned_df.filter(col('YEAR')=='2018')\n",
    "# pivot_df_2018 = (\n",
    "#     cleaned_df_2018.groupBy(\"CODE\")\n",
    "#     .pivot(\"Description\")\n",
    "#     .agg(first(\"value\"))\n",
    "#     .withColumnRenamed(\"CODE\",\"POSTALCODE\")\n",
    "# )\n",
    "cleaned_df_2023 = cleaned_df.filter(col('YEAR')=='2023')\n",
    "pivot_df_2023 = (\n",
    "    cleaned_df_2023.filter(col('YEAR')=='2023').groupBy(\"CODE\")\n",
    "    .pivot(\"Description\")\n",
    "    .agg(first(\"value\"))\n",
    "    .withColumnRenamed(\"CODE\",\"POSTALCODE\")\n",
    ")\n",
    "# cleaned_df_2026 = cleaned_df.filter(col('YEAR')=='2026')\n",
    "# pivot_df_2026 = (\n",
    "#     cleaned_df_2026.filter(col('YEAR')=='2026').groupBy(\"CODE\")\n",
    "#     .pivot(\"Description\")\n",
    "#     .agg(first(\"value\"))\n",
    "#     .withColumnRenamed(\"CODE\",\"POSTALCODE\")\n",
    "# )\n",
    "# cleaned_df_2028 = cleaned_df.filter(col('YEAR')=='2028')\n",
    "# pivot_df_2028 = (\n",
    "#     cleaned_df_2028.filter(col('YEAR')=='2028').groupBy(\"CODE\")\n",
    "#     .pivot(\"Description\")\n",
    "#     .agg(first(\"value\"))\n",
    "#     .withColumnRenamed(\"CODE\",\"POSTALCODE\")\n",
    "# )\n",
    "# cleaned_df_2033 = cleaned_df.filter(col('YEAR')=='2033')\n",
    "# pivot_df_2033 = (\n",
    "#     cleaned_df_2033.filter(col('YEAR')=='2033').groupBy(\"CODE\")\n",
    "#     .pivot(\"Description\")\n",
    "#     .agg(first(\"value\"))\n",
    "#     .withColumnRenamed(\"CODE\",\"POSTALCODE\")\n",
    "# )\n",
    "# display(pivot_df)"
   ]
  },
  {
   "cell_type": "code",
   "execution_count": 0,
   "metadata": {
    "application/vnd.databricks.v1+cell": {
     "cellMetadata": {},
     "inputWidgets": {},
     "nuid": "be1249ce-7907-4368-9632-8988a923cbf7",
     "showTitle": false,
     "tableResultSettingsMap": {},
     "title": ""
    }
   },
   "outputs": [],
   "source": [
    "# collist2018 = list(set(pivot_df_2018.columns) - set(['POSTALCODE', 'Total Household Population', 'Total Household Population 15 Years Or Over', 'Total Households', 'Total Population']))\n",
    "collist2023 = list(set(pivot_df_2023.columns) - set(['POSTALCODE', 'Total Household Population', 'Total Household Population 15 Years Or Over', 'Total Households', 'Total Population']))\n",
    "# collist2026 = list(set(pivot_df_2026.columns) - set(['POSTALCODE', 'Total Household Population', 'Total Household Population 15 Years Or Over', 'Total Households', 'Total Population']))\n",
    "# collist2028 = list(set(pivot_df_2028.columns) - set(['POSTALCODE', 'Total Household Population', 'Total Household Population 15 Years Or Over', 'Total Households', 'Total Population']))\n",
    "# collist2033 = list(set(pivot_df_2033.columns) - set(['POSTALCODE', 'Total Household Population', 'Total Household Population 15 Years Or Over', 'Total Households', 'Total Population']))"
   ]
  },
  {
   "cell_type": "code",
   "execution_count": 0,
   "metadata": {
    "application/vnd.databricks.v1+cell": {
     "cellMetadata": {},
     "inputWidgets": {},
     "nuid": "7911eb83-901d-473e-9816-24143fda2b39",
     "showTitle": false,
     "tableResultSettingsMap": {},
     "title": ""
    }
   },
   "outputs": [],
   "source": [
    "# Melt the feature columns to rows, leaving the totals as their own columns\n",
    "# melted_df_2018 = pivot_df_2018.melt(\n",
    "#     ids=['POSTALCODE'], values=collist2018,\n",
    "#     variableColumnName=\"Description\", valueColumnName=\"val\"\n",
    "# ).join(cleaned_df_2018.select('Description', 'Category').distinct(), on='Description', how='left').join(pivot_df_2018.select('POSTALCODE', col('Total Households').alias('TOTAL_HOUSEHOLDS'), col('Total Household Population 15 Years Or Over').alias('TOTAL_HOUSEHOLD_POPULATION_15_YEARS_OR_OVER'), col('Total Household Population').alias('TOTAL_HOUSEHOLD_POPULATION'), col('Total Population').alias('TOTAL_POPULATION')), on='POSTALCODE', how='inner').select('POSTALCODE', 'Description', 'Category', 'val', 'TOTAL_HOUSEHOLDS', 'TOTAL_HOUSEHOLD_POPULATION', 'TOTAL_HOUSEHOLD_POPULATION_15_YEARS_OR_OVER', 'TOTAL_POPULATION').withColumn('YEAR', lit(2018))\n",
    "melted_df_2023 = pivot_df_2023.melt(\n",
    "    ids=['POSTALCODE'], values=collist2023,\n",
    "    variableColumnName=\"Description\", valueColumnName=\"val\"\n",
    ").join(cleaned_df_2023.select('Description', 'Category').distinct(), on='Description', how='left').join(pivot_df_2023.select('POSTALCODE', col('Total Households').alias('TOTAL_HOUSEHOLDS'), col('Total Household Population 15 Years Or Over').alias('TOTAL_HOUSEHOLD_POPULATION_15_YEARS_OR_OVER'), col('Total Household Population').alias('TOTAL_HOUSEHOLD_POPULATION'), col('Total Population').alias('TOTAL_POPULATION')), on='POSTALCODE', how='inner').select('POSTALCODE', 'Description', 'Category', 'val', 'TOTAL_HOUSEHOLDS', 'TOTAL_HOUSEHOLD_POPULATION', 'TOTAL_HOUSEHOLD_POPULATION_15_YEARS_OR_OVER', 'TOTAL_POPULATION').withColumn('YEAR', lit(2023))\n",
    "# melted_df_2026 = pivot_df_2026.melt(\n",
    "#     ids=['POSTALCODE'], values=collist2026,\n",
    "#     variableColumnName=\"Description\", valueColumnName=\"val\"\n",
    "# ).join(cleaned_df_2026.select('Description', 'Category').distinct(), on='Description', how='left').join(pivot_df_2026.select('POSTALCODE', col('Total Households').alias('TOTAL_HOUSEHOLDS'), col('Total Household Population 15 Years Or Over').alias('TOTAL_HOUSEHOLD_POPULATION_15_YEARS_OR_OVER'), col('Total Household Population').alias('TOTAL_HOUSEHOLD_POPULATION'), col('Total Population').alias('TOTAL_POPULATION')), on='POSTALCODE', how='inner').select('POSTALCODE', 'Description', 'Category', 'val', 'TOTAL_HOUSEHOLDS', 'TOTAL_HOUSEHOLD_POPULATION', 'TOTAL_HOUSEHOLD_POPULATION_15_YEARS_OR_OVER', 'TOTAL_POPULATION').withColumn('YEAR', lit(2026))\n",
    "# melted_df_2028 = pivot_df_2028.melt(\n",
    "#     ids=['POSTALCODE'], values=collist2028,\n",
    "#     variableColumnName=\"Description\", valueColumnName=\"val\"\n",
    "# ).join(cleaned_df_2028.select('Description', 'Category').distinct(), on='Description', how='left').join(pivot_df_2028.select('POSTALCODE', col('Total Households').alias('TOTAL_HOUSEHOLDS'), col('Total Household Population 15 Years Or Over').alias('TOTAL_HOUSEHOLD_POPULATION_15_YEARS_OR_OVER'), col('Total Household Population').alias('TOTAL_HOUSEHOLD_POPULATION'), col('Total Population').alias('TOTAL_POPULATION')), on='POSTALCODE', how='inner').select('POSTALCODE', 'Description', 'Category', 'val', 'TOTAL_HOUSEHOLDS', 'TOTAL_HOUSEHOLD_POPULATION', 'TOTAL_HOUSEHOLD_POPULATION_15_YEARS_OR_OVER', 'TOTAL_POPULATION').withColumn('YEAR', lit(2028))\n",
    "# melted_df_2033 = pivot_df_2033.melt(\n",
    "#     ids=['POSTALCODE'], values=collist2033,\n",
    "#     variableColumnName=\"Description\", valueColumnName=\"val\"\n",
    "# ).join(cleaned_df_2033.select('Description', 'Category').distinct(), on='Description', how='left').join(pivot_df_2033.select('POSTALCODE', col('Total Households').alias('TOTAL_HOUSEHOLDS'), col('Total Household Population 15 Years Or Over').alias('TOTAL_HOUSEHOLD_POPULATION_15_YEARS_OR_OVER'), col('Total Household Population').alias('TOTAL_HOUSEHOLD_POPULATION'), col('Total Population').alias('TOTAL_POPULATION')), on='POSTALCODE', how='inner').select('POSTALCODE', 'Description', 'Category', 'val', 'TOTAL_HOUSEHOLDS', 'TOTAL_HOUSEHOLD_POPULATION', 'TOTAL_HOUSEHOLD_POPULATION_15_YEARS_OR_OVER', 'TOTAL_POPULATION').withColumn('YEAR', lit(2033))\n",
    "# melted_df = melted_df_2018.union(melted_df_2023)\n",
    "# melted_df = melted_df_2018.union(melted_df_2023).union(melted_df_2026).union(melted_df_2028).union(melted_df_2033)\n",
    "# melted_df.show()"
   ]
  },
  {
   "cell_type": "code",
   "execution_count": 0,
   "metadata": {
    "application/vnd.databricks.v1+cell": {
     "cellMetadata": {},
     "inputWidgets": {},
     "nuid": "37e77950-1096-43b5-bd2d-f321c680442f",
     "showTitle": true,
     "tableResultSettingsMap": {},
     "title": "Socialvalues extract the total as column"
    }
   },
   "outputs": [],
   "source": [
    "SV_totals = SV_2023_cleaned.filter(col('Description')=='Household Population 15+').select('Variable', 'CODE', col('value').alias('TOTAL_HOUSEHOLD_POPULATION_15_YEARS_OR_OVER'))\n",
    "w2 = Window.partitionBy(\"CODE\").orderBy('Variable')\n",
    "SV_totals = SV_totals.withColumn(\"row\",row_number().over(w2)) \\\n",
    "  .filter(col(\"row\") == 1).drop(\"row\").select('Code', 'TOTAL_HOUSEHOLD_POPULATION_15_YEARS_OR_OVER')\n",
    "SV_2023_melted = SV_2023_cleaned.filter(col('Description')!='Household Population 15+')\n",
    "SV_2023_melted = SV_2023_melted.join(SV_totals, on=['CODE'], how='left')\n",
    "SV_2023_melted = SV_2023_melted.withColumn('TOTAL_HOUSEHOLDS', lit(np.nan)).withColumn('TOTAL_HOUSEHOLD_POPULATION', lit(np.nan)).withColumn('TOTAL_POPULATION', lit(np.nan)).select(col('CODE').alias('POSTALCODE'), 'Description', 'Category', col('value').alias('val'), 'TOTAL_HOUSEHOLDS', 'TOTAL_HOUSEHOLD_POPULATION', 'TOTAL_HOUSEHOLD_POPULATION_15_YEARS_OR_OVER', 'TOTAL_POPULATION', 'YEAR')\n",
    "display(SV_2023_melted)"
   ]
  },
  {
   "cell_type": "code",
   "execution_count": 0,
   "metadata": {
    "application/vnd.databricks.v1+cell": {
     "cellMetadata": {},
     "inputWidgets": {},
     "nuid": "78e6c002-018e-43df-a1b4-fcba6953a0a2",
     "showTitle": false,
     "tableResultSettingsMap": {},
     "title": ""
    }
   },
   "outputs": [],
   "source": [
    "melted_df_ds_sv = melted_df.union(SV_2023_melted)\n",
    "# display(melted_df_ds_sv)"
   ]
  },
  {
   "cell_type": "code",
   "execution_count": 0,
   "metadata": {
    "application/vnd.databricks.v1+cell": {
     "cellMetadata": {},
     "inputWidgets": {},
     "nuid": "d60f6336-b95c-43e4-8a76-2078d2064596",
     "showTitle": false,
     "tableResultSettingsMap": {},
     "title": ""
    }
   },
   "outputs": [],
   "source": [
    "melted_df_ds_sv.write.mode(\"overwrite\").option(\"overwriteSchema\", \"True\").format(\"delta\").saveAsTable(\n",
    "    \"environics.ldu_feature_vals_melted_df_2023\"\n",
    ")"
   ]
  },
  {
   "cell_type": "code",
   "execution_count": 0,
   "metadata": {
    "application/vnd.databricks.v1+cell": {
     "cellMetadata": {},
     "inputWidgets": {},
     "nuid": "bcbe3611-d85b-4656-9e05-d070ae3ef212",
     "showTitle": false,
     "tableResultSettingsMap": {},
     "title": ""
    }
   },
   "outputs": [],
   "source": [
    "%sql\n",
    "select * from hyper.ldu_feature_vals_melted_df_master_variable_0912"
   ]
  },
  {
   "cell_type": "markdown",
   "metadata": {
    "application/vnd.databricks.v1+cell": {
     "cellMetadata": {},
     "inputWidgets": {},
     "nuid": "a4d2fefc-c616-41cb-8641-270f37bfe4ca",
     "showTitle": false,
     "tableResultSettingsMap": {},
     "title": ""
    }
   },
   "source": [
    "# 1. Crossjoin Stores to Postal Codes"
   ]
  },
  {
   "cell_type": "code",
   "execution_count": 0,
   "metadata": {
    "application/vnd.databricks.v1+cell": {
     "cellMetadata": {},
     "inputWidgets": {},
     "nuid": "ad7415e6-b596-48d9-9c15-6ef75d19d812",
     "showTitle": false,
     "tableResultSettingsMap": {},
     "title": ""
    }
   },
   "outputs": [],
   "source": [
    "\n",
    "\n",
    "stores = spark.sql(\n",
    "    '''\n",
    "SELECT STORES.STORE_NUM STORE_NUM, STORES.`STORE_NAME` STORE_NAME,STORES.`BANNER` BANNER, STORES.`STREET` STORE_STREET, STORES.POSTAL_CODE, STORES.PROVINCE STORE_PROVINCE, STORES.`STORE_CHAIN` CUSTOMER_GROUP, CAST(STORES.LONGITUDE AS DOUBLE) STORE_LONGITUDE, CAST(STORES.LATITUDE AS DOUBLE) STORE_LATITUDE, REVENUE_CY, STORES.`CHANNEL`, STORES.`SALES_GROUP`\n",
    "FROM hyper.unioned_stores_52weeks_2024_0927  STORES\n",
    "WHERE STORES.`STORE_CHAIN` IS NOT NULL AND REVENUE_CY IS NOT NULL \n",
    "''')\n",
    "display(stores)"
   ]
  },
  {
   "cell_type": "code",
   "execution_count": 0,
   "metadata": {
    "application/vnd.databricks.v1+cell": {
     "cellMetadata": {},
     "inputWidgets": {},
     "nuid": "59b4de2f-150e-44eb-969c-b56e654acf6f",
     "showTitle": true,
     "tableResultSettingsMap": {},
     "title": "List of postal codes and their representative points"
    }
   },
   "outputs": [],
   "source": [
    "LDU = spark.sql(\n",
    "\"\"\"\n",
    "SELECT POSTALCODE, PROV, FIRST(LONGITUDE) LONGITUDE, FIRST(LATITUDE) LATITUDE\n",
    "    FROM (SELECT * FROM combined_ldu_p1 /* This file from local Jupyter processing of shapefiles */\n",
    "    UNION\n",
    "    SELECT * FROM combined_ldu_p2\n",
    "    ORDER BY POSTALCODE, AREA DESC)\n",
    "    GROUP BY POSTALCODE, PROV\n",
    "\"\"\"\n",
    ")\n",
    "LDU.show()"
   ]
  },
  {
   "cell_type": "code",
   "execution_count": 0,
   "metadata": {
    "application/vnd.databricks.v1+cell": {
     "cellMetadata": {},
     "inputWidgets": {},
     "nuid": "ed1dc56b-bb23-4cd6-9842-e98eb0e65780",
     "showTitle": true,
     "tableResultSettingsMap": {},
     "title": "Adjacent Province Check function"
    }
   },
   "outputs": [],
   "source": [
    "def adjacent_province_check(prov, store_prov):\n",
    "    \"\"\"\n",
    "    Takes two provinces as input, returns True if provinces are identical or geographically adjacent. Otherwise returns False.\n",
    "    \"\"\"\n",
    "    if (store_prov == 'AB'):\n",
    "        if (prov == 'AB') | (prov == 'BC') | (prov == 'SK') | (prov == 'NT'):\n",
    "            return True\n",
    "    elif store_prov == 'BC':\n",
    "        if (prov == 'AB') | (prov == 'BC') | (prov == 'YT'):\n",
    "            return True\n",
    "    elif store_prov == 'SK':\n",
    "        if (prov == 'AB') | (prov == 'MB') | (prov == 'SK') | (prov == 'NT'):\n",
    "            return True\n",
    "    elif store_prov == 'MB':\n",
    "        if (prov == 'ON') | (prov == 'MB') | (prov == 'SK') | (prov == 'NU'):\n",
    "            return True\n",
    "    elif store_prov == 'ON':\n",
    "        if (prov == 'ON') | (prov == 'MB') | (prov == 'QC'):\n",
    "            return True\n",
    "    elif store_prov == 'QC':\n",
    "        if (prov == 'ON') | (prov == 'NL') | (prov == 'QC') | (prov == 'NB'):\n",
    "            return True\n",
    "    elif store_prov == 'NB':\n",
    "        if (prov == 'QC') | (prov == 'NS') | (prov == 'NB') | (prov == 'PE'):\n",
    "            return True\n",
    "    elif store_prov == 'NL':\n",
    "        if (prov == 'NL') | (prov == 'QC') | (prov == 'PE'):\n",
    "            return True\n",
    "    elif store_prov == 'YT':\n",
    "        if (prov == 'YT') | (prov == 'NT') | (prov == 'BC'):\n",
    "            return True\n",
    "    elif store_prov == 'NS':\n",
    "        if (prov == 'NS') | (prov == 'NB') | (prov == 'PE'):\n",
    "            return True\n",
    "    elif store_prov == 'NT':\n",
    "        if (prov == 'NT') | (prov == 'YT') | (prov == 'NU') | (prov == 'AB') | (prov == 'SK'):\n",
    "            return True\n",
    "    elif store_prov == 'NU':\n",
    "        if (prov == 'NT') | (prov == 'NU') | (prov == 'MB'):\n",
    "            return True\n",
    "    elif store_prov == 'PE':\n",
    "        if (prov == 'PE') | (prov == 'NS') | (prov == 'NB'):\n",
    "            return True\n",
    "    else:\n",
    "        return False\n",
    "adj_prov_check_udf = udf(adjacent_province_check, BooleanType())"
   ]
  },
  {
   "cell_type": "code",
   "execution_count": 0,
   "metadata": {
    "application/vnd.databricks.v1+cell": {
     "cellMetadata": {},
     "inputWidgets": {},
     "nuid": "7a870f65-eb77-47a2-a865-2088b0c89d86",
     "showTitle": false,
     "tableResultSettingsMap": {},
     "title": ""
    }
   },
   "outputs": [],
   "source": [
    "# Check the adjacent province function is working properly\n",
    "# stores.crossJoin(LDU).filter(adj_prov_check_udf(col('PROV'), col('STORE_PROVINCE'))==True).select('STORE_PROVINCE', 'PROV').distinct().orderBy('STORE_PROVINCE', 'PROV').collect()"
   ]
  },
  {
   "cell_type": "code",
   "execution_count": 0,
   "metadata": {
    "application/vnd.databricks.v1+cell": {
     "cellMetadata": {},
     "inputWidgets": {},
     "nuid": "23354c1a-702b-4533-9c51-0e1845df85b7",
     "showTitle": true,
     "tableResultSettingsMap": {},
     "title": "Calculate Distance function"
    }
   },
   "outputs": [],
   "source": [
    "def haversine_distance(lat1, lon1, lat2, lon2):\n",
    "    \"\"\"\n",
    "    Takes latitude and longitude in degrees for two points, returns the Haversine distance (distance between two points on a sphere).\n",
    "    \"\"\"\n",
    "    # Distance between latitudes and longitudes\n",
    "    dLat = (lat2 - lat1) * np.pi / 180.0\n",
    "    dLon = (lon2 - lon1) * np.pi / 180.0\n",
    "    # Convert to radians\n",
    "    lat1 = (lat1) * np.pi / 180.0\n",
    "    lat2 = (lat2) * np.pi / 180.0\n",
    "    r = 6371.009 # mean radius of the Earth\n",
    "    return float(2*r*np.arcsin(np.sqrt(math.pow(np.sin((dLat)/2), 2)+ (math.pow(np.sin((dLon)/2), 2))*np.cos(lat1)*np.cos(lat2))))\n",
    "distance_udf = udf(haversine_distance, DoubleType())"
   ]
  },
  {
   "cell_type": "code",
   "execution_count": 0,
   "metadata": {
    "application/vnd.databricks.v1+cell": {
     "cellMetadata": {},
     "inputWidgets": {},
     "nuid": "3a9714a9-2319-4b7d-9c16-18ac4e1c9591",
     "showTitle": false,
     "tableResultSettingsMap": {},
     "title": ""
    }
   },
   "outputs": [],
   "source": [
    "# Cross join the stores to postal codes (Roughly 7k stores * 900k LDUs = 6 bil records)\n",
    "# Prefilter to reduce number of records before crossjoin\n",
    "joined_df = stores.crossJoin(LDU).filter(adj_prov_check_udf(col('PROV'), col('STORE_PROVINCE'))==True)\n",
    "# Calculate the haversine distance between each store and LDU coordinates\n",
    "joined_df = joined_df.withColumn('HAVERSINE_DISTANCE', distance_udf(col('STORE_LATITUDE'), col('STORE_LONGITUDE'), col('LATITUDE'), col('LONGITUDE')))\n",
    "# Filter to reduce number of records after crossjoin\n",
    "joined_df = joined_df.withColumn('Attraction', col('REVENUE_CY')/col('HAVERSINE_DISTANCE')**2)\n",
    "#### joined_df = joined_df.withColumn('Attraction', col('SALES')/col('HAVERSINE_DISTANCE')**2) \n",
    "# Calculate Total Attraction for each POSTALCODE\n",
    "windowPartition = Window.partitionBy(['POSTALCODE'])#['STORE_NUM', 'CUSTOMER_GROUP'])\n",
    "joined_df = joined_df.withColumn(\"TOTAL_POSTALCODE_ATTRACTION\", sum('Attraction').over(windowPartition)) \n",
    "# Calculate running total of store-LDU attraction per store\n",
    "joined_df = joined_df.withColumn('CUMULATIVE_PERCENT_ATTRACTION', sum(col('Attraction')/col('TOTAL_POSTALCODE_ATTRACTION')).over(windowPartition.orderBy((col('Attraction')/col('TOTAL_POSTALCODE_ATTRACTION')).asc()).rowsBetween(Window.unboundedPreceding, 0))).select('STORE_NUM', 'CUSTOMER_GROUP', 'STORE_NAME','CHANNEL','SALES_GROUP','BANNER', 'STORE_STREET', 'STORE_PROVINCE', 'POSTALCODE', 'STORE_LATITUDE','STORE_LONGITUDE','LATITUDE', 'LONGITUDE', 'PROV', \n",
    "              'Attraction', 'TOTAL_POSTALCODE_ATTRACTION', 'CUMULATIVE_PERCENT_ATTRACTION', 'REVENUE_CY', 'HAVERSINE_DISTANCE')\n",
    "# Filter to exclude lower 1% running total of LDUs, PER STORE to reduce output size to ~500mil\n",
    "# PERCENT_ATTRACTION for each store adds up to 100%\n",
    "# joined_df_filtered = joined_df.filter(joined_df.CUMULATIVE_PERCENT_ATTRACTION > 0.01).withColumn('PERCENT_ATTRACTION', col('Attraction')/sum('Attraction').over(windowPartition)).select('STORE_NUM', 'CUSTOMER_GROUP', 'STORE_NAME', 'STORE_STREET', 'STORE_CITY', 'STORE_PROVINCE', 'POSTALCODE', 'LATITUDE', 'LONGITUDE', 'PROV', \n",
    "#               'Attraction', 'TOTAL_STORE_ATTRACTION', 'CUMULATIVE_PERCENT_ATTRACTION', 'PERCENT_ATTRACTION', 'DNNSI_IMPUTED', 'HAVERSINE_DISTANCE')\n",
    "display(joined_df)"
   ]
  },
  {
   "cell_type": "code",
   "execution_count": 0,
   "metadata": {
    "application/vnd.databricks.v1+cell": {
     "cellMetadata": {},
     "inputWidgets": {},
     "nuid": "71d0bd46-af35-48ca-81dd-744701118837",
     "showTitle": false,
     "tableResultSettingsMap": {},
     "title": ""
    }
   },
   "outputs": [],
   "source": [
    "joined_df.write.mode(\"overwrite\").option(\"overwriteSchema\", \"True\").format(\"delta\").saveAsTable(\n",
    "    \"hyper.store_LDU_attraction_0927\"\n",
    ")"
   ]
  },
  {
   "cell_type": "code",
   "execution_count": 0,
   "metadata": {
    "application/vnd.databricks.v1+cell": {
     "cellMetadata": {},
     "inputWidgets": {},
     "nuid": "f226800f-e87c-4f20-88c1-c6184059a3ea",
     "showTitle": false,
     "tableResultSettingsMap": {},
     "title": ""
    }
   },
   "outputs": [],
   "source": [
    "joined_df_1 = stores.crossJoin(LDU).filter(adj_prov_check_udf(col('PROV'), col('STORE_PROVINCE'))==True)\n",
    "# Calculate the haversine distance between each store and LDU coordinates\n",
    "joined_df_1 = joined_df_1.withColumn('HAVERSINE_DISTANCE', distance_udf(col('STORE_LATITUDE'), col('STORE_LONGITUDE'), col('LATITUDE'), col('LONGITUDE')))\n",
    "# Filter to reduce number of records after crossjoin\n",
    "joined_df_1 = joined_df_1.withColumn('Attraction', col('DNNSI_IMPUTED')/col('HAVERSINE_DISTANCE')**2)\n",
    "windowPartition = Window.partitionBy(['POSTALCODE'])#['STORE_NUM', 'CUSTOMER_GROUP'])\n",
    "joined_df_filtered = joined_df.withColumn(\"TOTAL_POSTALCODE_ATTRACTION\", sum('Attraction').over(windowPartition) - max('Attraction').over(windowPartition)) #excluding the max value (since this would be the postal code in which the store resides)\n",
    "# Calculate running total of store-LDU attraction per store\n",
    "joined_df_filtered = joined_df_filtered.withColumn('CUMULATIVE_PERCENT_ATTRACTION', sum(col('Attraction')/col('TOTAL_POSTALCODE_ATTRACTION')).over(windowPartition.orderBy((col('Attraction')/col('TOTAL_POSTALCODE_ATTRACTION')).asc()).rowsBetween(Window.unboundedPreceding, 0))).select('STORE_NUM', 'CUSTOMER_GROUP', 'STORE_NAME', 'STORE_STREET', 'STORE_CITY', 'STORE_PROVINCE', 'POSTALCODE', 'LATITUDE', 'LONGITUDE', 'PROV', \n",
    "              'Attraction', 'TOTAL_POSTALCODE_ATTRACTION', 'CUMULATIVE_PERCENT_ATTRACTION', 'DNNSI_IMPUTED', 'HAVERSINE_DISTANCE')"
   ]
  },
  {
   "cell_type": "code",
   "execution_count": 0,
   "metadata": {
    "application/vnd.databricks.v1+cell": {
     "cellMetadata": {},
     "inputWidgets": {},
     "nuid": "a3a74d31-41fa-4870-affa-4c32849012d6",
     "showTitle": false,
     "tableResultSettingsMap": {},
     "title": ""
    }
   },
   "outputs": [],
   "source": [
    "filtered_df = joined_df_filtered.filter(joined_df_filtered['STORE_CITY'] == 'TORONTO')\n",
    "# display(filtered_df)"
   ]
  },
  {
   "cell_type": "code",
   "execution_count": 0,
   "metadata": {
    "application/vnd.databricks.v1+cell": {
     "cellMetadata": {},
     "inputWidgets": {},
     "nuid": "f1eb8e06-7d63-42a4-b51a-94364ddcaca8",
     "showTitle": false,
     "tableResultSettingsMap": {},
     "title": ""
    }
   },
   "outputs": [],
   "source": [
    "filtered_df_costco = filtered_df.filter(joined_df_filtered['CUSTOMER_GROUP'] == 'CO_COSTCO CENTRAL')\n",
    "display(filtered_df_costco)"
   ]
  },
  {
   "cell_type": "code",
   "execution_count": 0,
   "metadata": {
    "application/vnd.databricks.v1+cell": {
     "cellMetadata": {},
     "inputWidgets": {},
     "nuid": "a0b6845f-17bf-4ae1-ad69-772f5dfac224",
     "showTitle": false,
     "tableResultSettingsMap": {},
     "title": ""
    }
   },
   "outputs": [],
   "source": [
    "num_rows = joined_df_filtered.count()\n",
    "num_columns = len(joined_df_filtered.columns)\n",
    "(num_rows, num_columns)"
   ]
  },
  {
   "cell_type": "code",
   "execution_count": 0,
   "metadata": {
    "application/vnd.databricks.v1+cell": {
     "cellMetadata": {},
     "inputWidgets": {},
     "nuid": "5cc8d0bb-e55e-4f2d-9220-82a00b785003",
     "showTitle": false,
     "tableResultSettingsMap": {},
     "title": ""
    }
   },
   "outputs": [],
   "source": [
    "\n",
    "filtered_df_costco = filtered_df.filter(joined_df_filtered['CUSTOMER_GROUP'] == 'CO_COSTCO CENTRAL')\n",
    "filtered_df_costco_one = filtered_df_costco.filter(filtered_df_costco['STORE_NAME'] == 'COSTCO WHOLESALE #0524')\n",
    "display(filtered_df_costco_one)"
   ]
  },
  {
   "cell_type": "code",
   "execution_count": 0,
   "metadata": {
    "application/vnd.databricks.v1+cell": {
     "cellMetadata": {},
     "inputWidgets": {},
     "nuid": "0a7d1838-0154-489f-aa08-1fb473cd70f0",
     "showTitle": false,
     "tableResultSettingsMap": {},
     "title": ""
    }
   },
   "outputs": [],
   "source": [
    "from pyspark.sql.functions import col\n",
    "\n",
    "filtered_df_shoppers = joined_df_filtered.filter(\n",
    "    (col('STORE_NAME') == 'NO FRILLS TORONTO #3643') \n",
    ")\n",
    "display(filtered_df_shoppers)"
   ]
  },
  {
   "cell_type": "code",
   "execution_count": 0,
   "metadata": {
    "application/vnd.databricks.v1+cell": {
     "cellMetadata": {},
     "inputWidgets": {},
     "nuid": "72ab7b85-04e4-46f8-ab74-a6fe3a7adef1",
     "showTitle": false,
     "tableResultSettingsMap": {},
     "title": ""
    }
   },
   "outputs": [],
   "source": [
    "\n",
    "not_filtered_df_shoppers = joined_df_not_filtered.filter(\n",
    "    (col('STORE_NAME') == 'NO FRILLS TORONTO #3643') \n",
    ")\n",
    "display(not_filtered_df_shoppers)"
   ]
  },
  {
   "cell_type": "code",
   "execution_count": 0,
   "metadata": {
    "application/vnd.databricks.v1+cell": {
     "cellMetadata": {},
     "inputWidgets": {},
     "nuid": "70fbe6d3-66f3-40f6-834e-71a6fde977d8",
     "showTitle": false,
     "tableResultSettingsMap": {},
     "title": ""
    }
   },
   "outputs": [],
   "source": [
    "joined_df = stores.crossJoin(LDU).filter(adj_prov_check_udf(col('PROV'), col('STORE_PROVINCE'))==True)\n",
    "# Calculate the haversine distance between each store and LDU coordinates\n",
    "joined_df = joined_df.withColumn('HAVERSINE_DISTANCE', distance_udf(col('STORE_LATITUDE'), col('STORE_LONGITUDE'), col('LATITUDE'), col('LONGITUDE')))\n",
    "# Filter to reduce number of records after crossjoin\n",
    "joined_df = joined_df.withColumn('Attraction', col('DNNSI_IMPUTED')/col('HAVERSINE_DISTANCE')**2)\n",
    "windowPartition = Window.partitionBy(['POSTALCODE'])\n",
    "joined_df = joined_df.withColumn('Max_Attraction', max('Attraction').over(windowPartition))\n",
    "\n",
    "display(joined_df)"
   ]
  },
  {
   "cell_type": "code",
   "execution_count": 0,
   "metadata": {
    "application/vnd.databricks.v1+cell": {
     "cellMetadata": {},
     "inputWidgets": {},
     "nuid": "28895d24-34ac-4def-986d-1b425cb8be97",
     "showTitle": false,
     "tableResultSettingsMap": {},
     "title": ""
    }
   },
   "outputs": [],
   "source": [
    "# Cross join the stores to postal codes (Roughly 7k stores * 900k LDUs = 6 bil records)\n",
    "# Prefilter to reduce number of records before crossjoin\n",
    "joined_df_with_max = stores.crossJoin(LDU).filter(adj_prov_check_udf(col('PROV'), col('STORE_PROVINCE'))==True)\n",
    "# Calculate the haversine distance between each store and LDU coordinates\n",
    "joined_df_with_max = joined_df_with_max.withColumn('HAVERSINE_DISTANCE', distance_udf(col('STORE_LATITUDE'), col('STORE_LONGITUDE'), col('LATITUDE'), col('LONGITUDE')))\n",
    "# Filter to reduce number of records after crossjoin\n",
    "joined_df_with_max = joined_df_with_max.withColumn('Attraction', col('DNNSI_IMPUTED')/col('HAVERSINE_DISTANCE')**2)\n",
    "#### joined_df = joined_df.withColumn('Attraction', col('SALES')/col('HAVERSINE_DISTANCE')**2) \n",
    "# Calculate Total Attraction for each POSTALCODE\n",
    "windowPartition = Window.partitionBy(['POSTALCODE'])#['STORE_NUM', 'CUSTOMER_GROUP'])\n",
    "joined_df_with_max = joined_df.withColumn(\"TOTAL_POSTALCODE_ATTRACTION\", sum('Attraction').over(windowPartition)) # - max('Attraction').over(windowPartition)) #excluding the max value (since this would be the postal code in which the store resides)\n",
    "# Calculate running total of store-LDU attraction per store\n",
    "joined_df_with_max = joined_df_with_max.withColumn('CUMULATIVE_PERCENT_ATTRACTION', sum(col('Attraction')/col('TOTAL_POSTALCODE_ATTRACTION')).over(windowPartition.orderBy((col('Attraction')/col('TOTAL_POSTALCODE_ATTRACTION')).asc()).rowsBetween(Window.unboundedPreceding, 0))).select('STORE_NUM', 'CUSTOMER_GROUP', 'STORE_NAME', 'STORE_STREET', 'STORE_CITY', 'STORE_PROVINCE', 'POSTALCODE', 'LATITUDE', 'LONGITUDE', 'PROV', \n",
    "              'Attraction', 'TOTAL_POSTALCODE_ATTRACTION', 'CUMULATIVE_PERCENT_ATTRACTION', 'DNNSI_IMPUTED', 'HAVERSINE_DISTANCE')\n",
    "# Filter to exclude lower 1% running total of LDUs, PER STORE to reduce output size to ~500mil\n",
    "# PERCENT_ATTRACTION for each store adds up to 100%\n",
    "# joined_df_filtered = joined_df.filter(joined_df.CUMULATIVE_PERCENT_ATTRACTION > 0.01).withColumn('PERCENT_ATTRACTION', col('Attraction')/sum('Attraction').over(windowPartition)).select('STORE_NUM', 'CUSTOMER_GROUP', 'STORE_NAME', 'STORE_STREET', 'STORE_CITY', 'STORE_PROVINCE', 'POSTALCODE', 'LATITUDE', 'LONGITUDE', 'PROV', \n",
    "#               'Attraction', 'TOTAL_STORE_ATTRACTION', 'CUMULATIVE_PERCENT_ATTRACTION', 'PERCENT_ATTRACTION', 'DNNSI_IMPUTED', 'HAVERSINE_DISTANCE')\n",
    "display(joined_df_with_max)"
   ]
  },
  {
   "cell_type": "code",
   "execution_count": 0,
   "metadata": {
    "application/vnd.databricks.v1+cell": {
     "cellMetadata": {},
     "inputWidgets": {},
     "nuid": "78a7d0d0-a69b-4c54-b3d4-63fdf54541b8",
     "showTitle": false,
     "tableResultSettingsMap": {},
     "title": ""
    }
   },
   "outputs": [],
   "source": [
    "joined_result = stores.crossJoin(LDU).filter(adj_prov_check_udf(col('PROV'), col('STORE_PROVINCE'))==True)\n",
    "display(joined_result)"
   ]
  },
  {
   "cell_type": "code",
   "execution_count": 0,
   "metadata": {
    "application/vnd.databricks.v1+cell": {
     "cellMetadata": {},
     "inputWidgets": {},
     "nuid": "7bef2db9-3610-4d91-b4a2-66bbcc8f42fe",
     "showTitle": false,
     "tableResultSettingsMap": {},
     "title": ""
    }
   },
   "outputs": [],
   "source": [
    "%sql\n",
    "select STORE_NUM,Attraction,TOTAL_POSTALCODE_ATTRACTION, CUMULATIVE_PERCENT_ATTRACTION from store_LDU_attraction\n",
    "where POSTALCODE= 'A0G2J0'"
   ]
  },
  {
   "cell_type": "code",
   "execution_count": 0,
   "metadata": {
    "application/vnd.databricks.v1+cell": {
     "cellMetadata": {},
     "inputWidgets": {},
     "nuid": "29ddaf98-dd72-46e4-a878-995e7e56bd04",
     "showTitle": true,
     "tableResultSettingsMap": {},
     "title": "Filter to exclude lower 1% running total of LDUs per store to reduce output size"
    }
   },
   "outputs": [],
   "source": [
    "joined_df_temp = spark.sql(\"\"\"\n",
    "                            SELECT * FROM hyper.store_LDU_attraction_0927\n",
    "                            WHERE Attraction > 0.005 * TOTAL_POSTALCODE_ATTRACTION\n",
    "                            \"\"\")\n",
    "windowPartition = Window.partitionBy(['POSTALCODE'])#['STORE_NUM', 'CUSTOMER_GROUP'])\n",
    "joined_df_filtered = joined_df_temp.withColumn('PERCENT_ATTRACTION', col('Attraction')/sum('Attraction').over(windowPartition)).select('STORE_NUM', 'CUSTOMER_GROUP', 'STORE_NAME','CHANNEL','SALES_GROUP','BANNER', 'STORE_STREET', 'STORE_PROVINCE', 'POSTALCODE', 'STORE_LATITUDE','STORE_LONGITUDE','LATITUDE', 'LONGITUDE', 'PROV', 'Attraction', 'TOTAL_POSTALCODE_ATTRACTION', 'CUMULATIVE_PERCENT_ATTRACTION', 'PERCENT_ATTRACTION', 'REVENUE_CY', 'HAVERSINE_DISTANCE')"
   ]
  },
  {
   "cell_type": "code",
   "execution_count": 0,
   "metadata": {
    "application/vnd.databricks.v1+cell": {
     "cellMetadata": {},
     "inputWidgets": {},
     "nuid": "271783dc-7d50-4ea9-b8ea-74b1070064d5",
     "showTitle": false,
     "tableResultSettingsMap": {},
     "title": ""
    }
   },
   "outputs": [],
   "source": [
    "joined_df_filtered.write.mode(\"overwrite\").option(\"overwriteSchema\", \"True\").format(\"delta\").saveAsTable(\n",
    "    \"hyper.store_LDU_attraction_f_halfp_0927\"\n",
    ")"
   ]
  },
  {
   "cell_type": "code",
   "execution_count": 0,
   "metadata": {
    "application/vnd.databricks.v1+cell": {
     "cellMetadata": {},
     "inputWidgets": {},
     "nuid": "eb8e63e5-7772-4616-8c51-ca875f27127b",
     "showTitle": false,
     "tableResultSettingsMap": {},
     "title": ""
    }
   },
   "outputs": [],
   "source": [
    "%sql\n",
    "select * from environics.ldu_feature_vals_melted_df_master_variable_0826_2"
   ]
  },
  {
   "cell_type": "code",
   "execution_count": 0,
   "metadata": {
    "application/vnd.databricks.v1+cell": {
     "cellMetadata": {},
     "inputWidgets": {},
     "nuid": "64ae3b02-f90a-4d4a-87af-25d51e572edf",
     "showTitle": false,
     "tableResultSettingsMap": {},
     "title": ""
    }
   },
   "outputs": [],
   "source": [
    "joined_df_temp = spark.sql(\"\"\"\n",
    "                            SELECT * FROM hyper.store_LDU_attraction_0910\n",
    "                            WHERE Attraction > 0.01 * TOTAL_POSTALCODE_ATTRACTION\n",
    "                            \"\"\")\n",
    "windowPartition = Window.partitionBy(['POSTALCODE'])#['STORE_NUM', 'CUSTOMER_GROUP'])\n",
    "joined_df_filtered = joined_df_temp.withColumn('PERCENT_ATTRACTION', col('Attraction')/sum('Attraction').over(windowPartition)).select('STORE_NUM', 'CUSTOMER_GROUP', 'STORE_NAME','CHANNEL','SALES_GROUP','BANNER', 'STORE_STREET', 'STORE_PROVINCE', 'POSTALCODE', 'STORE_LATITUDE','STORE_LONGITUDE','LATITUDE', 'LONGITUDE', 'PROV', 'Attraction', 'TOTAL_POSTALCODE_ATTRACTION', 'CUMULATIVE_PERCENT_ATTRACTION', 'PERCENT_ATTRACTION', 'REVENUE_CY', 'HAVERSINE_DISTANCE')\n",
    "\n",
    "joined_df_filtered.write.mode(\"overwrite\").option(\"overwriteSchema\", \"True\").format(\"delta\").saveAsTable(\n",
    "    \"hyper.store_LDU_attraction_fullp_filtered_0910\"\n",
    ")"
   ]
  },
  {
   "cell_type": "markdown",
   "metadata": {
    "application/vnd.databricks.v1+cell": {
     "cellMetadata": {},
     "inputWidgets": {},
     "nuid": "82fbbba7-a1a3-4ae2-a92f-acaba1cc54fd",
     "showTitle": false,
     "tableResultSettingsMap": {},
     "title": ""
    }
   },
   "source": [
    "## =================\n",
    "The rest of code better running on Variable notebook"
   ]
  },
  {
   "cell_type": "code",
   "execution_count": 0,
   "metadata": {
    "application/vnd.databricks.v1+cell": {
     "cellMetadata": {},
     "inputWidgets": {},
     "nuid": "ca46c793-46c3-40fe-9ec7-51962f2fa7de",
     "showTitle": true,
     "tableResultSettingsMap": {},
     "title": "Relevant Postal Codes for one store"
    }
   },
   "outputs": [],
   "source": [
    "%sql\n",
    "-- This allows us to create a store profile based on the weighted avg. of attraction for surrounding postal codes\n",
    "SELECT A.*, B.geometry, Attraction/TOTAL_STORE_ATTRACTION PERCENT_ATTRACTION FROM environics.store_ldu_attraction_filtered A\n",
    "LEFT JOIN (SELECT * FROM combined_ldu_p1\n",
    "    UNION\n",
    "    SELECT * FROM combined_ldu_p2) B ON A.POSTALCODE = B.POSTALCODE\n",
    "WHERE STORE_STREET LIKE \"%FORT YORK%\" AND CUSTOMER_GROUP = 'SO_SOBEYS ONTARIO'\n",
    "ORDER BY CUMULATIVE_PERCENT_ATTRACTION DESC"
   ]
  },
  {
   "cell_type": "code",
   "execution_count": 0,
   "metadata": {
    "application/vnd.databricks.v1+cell": {
     "cellMetadata": {},
     "inputWidgets": {},
     "nuid": "fb67091a-f6d0-4721-8f8c-ec29a754e2c3",
     "showTitle": true,
     "tableResultSettingsMap": {},
     "title": "Relevant stores for L5M6P4"
    }
   },
   "outputs": [],
   "source": [
    "# %sql\n",
    "# -- This allows us to see which stores are competing with one another in a given area\n",
    "# SELECT T1.*, Attraction/TOTAL_LDU_ATTRACTION ATTRACTION, STORES.STORE_LATITUDE, STORES.STORE_LONGITUDE FROM store_LDU_attraction T1\n",
    "# LEFT JOIN (SELECT DISTINCT Customer STORE_NUM, `Customer Name` STORE_NAME, `Address1` STORE_STREET, City STORE_CITY, State STORE_PROVINCE, `Customer Group` CUSTOMER_GROUP, CAST(Longitude AS DOUBLE) STORE_LONGITUDE, CAST(Latitude AS DOUBLE) STORE_LATITUDE\n",
    "# FROM default.store_dnnsi_past_52_weeks) STORES ON T1.STORE_NUM = STORES.STORE_NUM AND T1.CUSTOMER_GROUP = STORES.CUSTOMER_GROUP\n",
    "# LEFT JOIN (SELECT POSTALCODE, SUM(Attraction) TOTAL_LDU_ATTRACTION FROM store_LDU_attraction GROUP BY POSTALCODE) T2 ON T1.POSTALCODE = T2.POSTALCODE\n",
    "# WHERE T1.POSTALCODE LIKE \"L5M6P4\" AND Attraction/TOTAL_LDU_ATTRACTION > 0.01\n",
    "# ORDER BY ATTRACTION DESC\n",
    "# LIMIT 100"
   ]
  },
  {
   "cell_type": "code",
   "execution_count": 0,
   "metadata": {
    "application/vnd.databricks.v1+cell": {
     "cellMetadata": {},
     "inputWidgets": {},
     "nuid": "218c8e55-e660-4882-aee4-fd4946a19a6c",
     "showTitle": false,
     "tableResultSettingsMap": {},
     "title": ""
    }
   },
   "outputs": [],
   "source": [
    "%sql\n",
    "SELECT T1.STORE_NUM, T1.CUSTOMER_GROUP, T1.STORE_NAME, T1.STORE_STREET, T1.STORE_PROVINCE, T1.POSTALCODE, Attraction/TOTAL_LDU_ATTRACTION ATTRACTION, T1.LATITUDE, T1.LONGITUDE, T1.REVENUE_CY,T1.HAVERSINE_DISTANCE FROM environics.store_LDU_attraction_0719 T1\n",
    "LEFT JOIN (SELECT DISTINCT Customer STORE_NUM, `Customer Name` STORE_NAME, `Address1` STORE_STREET, City STORE_CITY, State STORE_PROVINCE, `Customer Group` CUSTOMER_GROUP, CAST(Longitude AS DOUBLE) STORE_LONGITUDE, CAST(Latitude AS DOUBLE) STORE_LATITUDE\n",
    "FROM default.store_dnnsi_past_52_weeks) STORES ON T1.STORE_NUM = STORES.STORE_NUM AND T1.CUSTOMER_GROUP = STORES.CUSTOMER_GROUP\n",
    "LEFT JOIN (SELECT POSTALCODE, SUM(Attraction) TOTAL_LDU_ATTRACTION FROM environics.store_LDU_attraction_0719 GROUP BY POSTALCODE) T2 ON T1.POSTALCODE = T2.POSTALCODE\n",
    "WHERE T1.POSTALCODE LIKE \"M5A1L1\" \n",
    "ORDER BY ATTRACTION DESC\n",
    "LIMIT 100"
   ]
  },
  {
   "cell_type": "code",
   "execution_count": 0,
   "metadata": {
    "application/vnd.databricks.v1+cell": {
     "cellMetadata": {},
     "inputWidgets": {},
     "nuid": "532224a0-c0d7-47dd-b443-605464c9b655",
     "showTitle": true,
     "tableResultSettingsMap": {},
     "title": "Calculate Store Profile for one store"
    }
   },
   "outputs": [],
   "source": [
    "%sql\n",
    "-- Join the store_ldu_attraction table with the ldu_feature_vals_melted_df table to get the store profile values for Sobeys\n",
    "SELECT STORE.CUSTOMER_GROUP, STORE.STORE_NAME, STORE.STORE_NUM, STORE.STORE_STREET, STORE.STORE_CITY, STORE.STORE_PROVINCE, MELTED.Description, LMAP.Language_Grouping, MELTED.Category, MELTED.YEAR, SUM(MELTED.val) val, SUM(STORE.PERCENT_ATTRACTION*MELTED.TOTAL_HOUSEHOLDS) TOTAL_HOUSEHOLDS, SUM(STORE.PERCENT_ATTRACTION*MELTED.TOTAL_HOUSEHOLD_POPULATION) TOTAL_HOUSEHOLD_POPULATION, SUM(STORE.PERCENT_ATTRACTION*MELTED.TOTAL_HOUSEHOLD_POPULATION_15_YEARS_OR_OVER) TOTAL_HOUSEHOLD_POPULATION_15_YEARS_OR_OVER, SUM(STORE.PERCENT_ATTRACTION*MELTED.TOTAL_POPULATION) TOTAL_POPULATION, \n",
    "CASE WHEN MELTED.Category LIKE \"Households by%\" THEN SUM(STORE.PERCENT_ATTRACTION*MELTED.val)/SUM(STORE.PERCENT_ATTRACTION*MELTED.TOTAL_HOUSEHOLDS)\n",
    "    WHEN MELTED.Category LIKE \"Household Population 15 Years or Over%\" OR MELTED.Category IN ('Trends', 'Attitudes') THEN SUM(STORE.PERCENT_ATTRACTION*MELTED.val)/SUM(STORE.PERCENT_ATTRACTION*MELTED.TOTAL_HOUSEHOLD_POPULATION_15_YEARS_OR_OVER)\n",
    "    WHEN MELTED.Category LIKE \"Household Population%\" AND MELTED.Category NOT LIKE \"%15 Years or Over%\" THEN SUM(STORE.PERCENT_ATTRACTION*MELTED.val)/SUM(STORE.PERCENT_ATTRACTION*MELTED.TOTAL_HOUSEHOLD_POPULATION)\n",
    "    ELSE SUM(STORE.PERCENT_ATTRACTION*MELTED.val)/SUM(STORE.PERCENT_ATTRACTION*MELTED.TOTAL_POPULATION) END STORE_VALUE\n",
    "FROM default.store_ldu_attraction_filtered_0626 STORE\n",
    "LEFT JOIN default.ldu_feature_vals_melted_df MELTED ON STORE.POSTALCODE = MELTED.POSTALCODE\n",
    "LEFT JOIN default.language_mapping LMAP ON MELTED.Description = LMAP.Description_cleaned\n",
    "WHERE CUSTOMER_GROUP LIKE \"%SOBEYS%\" AND STORE_STREET LIKE \"%FORT YORK%\" AND MELTED.val IS NOT NULL\n",
    "GROUP BY STORE.CUSTOMER_GROUP, STORE.STORE_NAME, STORE.STORE_STREET, STORE.STORE_CITY, STORE.STORE_PROVINCE, MELTED.Description, LMAP.Language_Grouping, MELTED.Category, YEAR"
   ]
  },
  {
   "cell_type": "code",
   "execution_count": 0,
   "metadata": {
    "application/vnd.databricks.v1+cell": {
     "cellMetadata": {},
     "inputWidgets": {},
     "nuid": "0090045f-d292-412a-8d06-86b7100870a6",
     "showTitle": true,
     "tableResultSettingsMap": {},
     "title": "Calculate Store Profiles"
    }
   },
   "outputs": [],
   "source": [
    "\n",
    "store_profiles = spark.sql(\"\"\"\n",
    "SELECT STORE.CUSTOMER_GROUP, MELTED.Description, LMAP.Language_Grouping, MELTED.Category, MELTED.YEAR, \n",
    "SUM(STORE.PERCENT_ATTRACTION*MELTED.val) val, \n",
    "SUM(STORE.PERCENT_ATTRACTION*MELTED.TOTAL_HOUSEHOLDS) TOTAL_HOUSEHOLDS, \n",
    "SUM(STORE.PERCENT_ATTRACTION*MELTED.TOTAL_HOUSEHOLD_POPULATION) TOTAL_HOUSEHOLD_POPULATION, \n",
    "SUM(STORE.PERCENT_ATTRACTION*MELTED.TOTAL_HOUSEHOLD_POPULATION_15_YEARS_OR_OVER) TOTAL_HOUSEHOLD_POPULATION_15_YEARS_OR_OVER, \n",
    "SUM(STORE.PERCENT_ATTRACTION*MELTED.TOTAL_POPULATION) TOTAL_POPULATION,\n",
    "\n",
    "CASE WHEN MELTED.Category LIKE \"Households by%\" THEN SUM(STORE.PERCENT_ATTRACTION*MELTED.val)/SUM(STORE.PERCENT_ATTRACTION*MELTED.TOTAL_HOUSEHOLDS)\n",
    "    WHEN MELTED.Category LIKE \"Household Population 15 Years or Over%\"  THEN SUM(STORE.PERCENT_ATTRACTION*MELTED.val)/SUM(STORE.PERCENT_ATTRACTION*MELTED.TOTAL_HOUSEHOLD_POPULATION_15_YEARS_OR_OVER)\n",
    "    WHEN MELTED.Category LIKE \"Household Population%\" AND MELTED.Category NOT LIKE \"%15 Years or Over%\" THEN SUM(STORE.PERCENT_ATTRACTION*MELTED.val)/SUM(STORE.PERCENT_ATTRACTION*MELTED.TOTAL_HOUSEHOLD_POPULATION)\n",
    "    ELSE SUM(STORE.PERCENT_ATTRACTION*MELTED.val)/SUM(STORE.PERCENT_ATTRACTION*MELTED.TOTAL_POPULATION) END BANNER_VALUE\n",
    "FROM environics.store_LDU_attraction_filtered_0801 STORE \n",
    "LEFT JOIN environics.ldu_feature_vals_melted_df_2023 MELTED ON STORE.POSTALCODE = MELTED.POSTALCODE\n",
    "LEFT JOIN default.language_mapping LMAP ON MELTED.Description = LMAP.Description_cleaned\n",
    "WHERE MELTED.Category NOT IN ('Trends', 'Attitudes') and CUSTOMER_GROUP LIKE \"%SOBEYS%\" AND STORE_STREET LIKE \"%FORT YORK%\" AND MELTED.val IS NOT NULL\n",
    "GROUP BY STORE.CUSTOMER_GROUP, MELTED.Description,LMAP.Language_Grouping,  MELTED.Category, YEAR\n",
    "\"\"\")"
   ]
  },
  {
   "cell_type": "code",
   "execution_count": 0,
   "metadata": {
    "application/vnd.databricks.v1+cell": {
     "cellMetadata": {},
     "inputWidgets": {},
     "nuid": "26fe0fdf-b7da-4c13-90b4-0969f2a7b14c",
     "showTitle": false,
     "tableResultSettingsMap": {},
     "title": ""
    }
   },
   "outputs": [],
   "source": [
    "store_profiles_df = spark.sql(\"\"\"\n",
    "SELECT STORE.CUSTOMER_GROUP, STORE.STORE_NAME, STORE.STORE_NUM, STORE.CHANNEL, STORE.SALES_GROUP,STORE.BANNER,STORE.STORE_STREET, STORE.STORE_PROVINCE,STORE.STORE_LATITUDE,STORE.STORE_LONGITUDE, MELTED.variable, MELTED.Description, LMAP.Language_Grouping, MELTED.Category, MELTED.YEAR,SUM(STORE.PERCENT_ATTRACTION*MELTED.val)  val, SUM(STORE.PERCENT_ATTRACTION*MELTED.TOTAL_HOUSEHOLDS) TOTAL_HOUSEHOLDS, SUM(STORE.PERCENT_ATTRACTION*MELTED.TOTAL_HOUSEHOLD_POPULATION) TOTAL_HOUSEHOLD_POPULATION, SUM(STORE.PERCENT_ATTRACTION*MELTED.TOTAL_HOUSEHOLD_POPULATION_15_YEARS_OR_OVER) TOTAL_HOUSEHOLD_POPULATION_15_YEARS_OR_OVER, SUM(STORE.PERCENT_ATTRACTION*MELTED.TOTAL_POPULATION) TOTAL_POPULATION, first(MELTED.Hierarchy_Description) as Hierarchy_Description, first(MELTED.MEDIAN_AVERAGE) as MEDIAN_AVERAGE, first(MELTED.ADD_TO_PROFILE) as ADD_TO_PROFILE, first(MELTED.LEAF_NODE_FLAG) as LEAF_NODE_FLAG, first(MELTED.TOTAL_FLAG) as TOTAL_FLAG,\n",
    "\n",
    "CASE WHEN MELTED.Category LIKE \"Households by%\" THEN SUM(STORE.PERCENT_ATTRACTION*MELTED.val)/SUM(STORE.PERCENT_ATTRACTION*MELTED.TOTAL_HOUSEHOLDS)\n",
    "    WHEN MELTED.Category LIKE \"Household Population 15 Years or Over%\"  THEN SUM(STORE.PERCENT_ATTRACTION*MELTED.val)/SUM(STORE.PERCENT_ATTRACTION*MELTED.TOTAL_HOUSEHOLD_POPULATION_15_YEARS_OR_OVER)\n",
    "    WHEN MELTED.Category LIKE \"Household Population%\" AND MELTED.Category NOT LIKE \"%15 Years or Over%\" THEN SUM(STORE.PERCENT_ATTRACTION*MELTED.val)/SUM(STORE.PERCENT_ATTRACTION*MELTED.TOTAL_HOUSEHOLD_POPULATION)\n",
    "    ELSE SUM(STORE.PERCENT_ATTRACTION*MELTED.val)/SUM(STORE.PERCENT_ATTRACTION*MELTED.TOTAL_POPULATION) END STORE_VALUE\n",
    "FROM hyper.store_LDU_attraction_f_halfp_0927 STORE \n",
    "LEFT JOIN hyper.ldu_feature_vals_melted_df_master_variable_0920 MELTED ON STORE.POSTALCODE = MELTED.POSTALCODE\n",
    "LEFT JOIN default.language_mapping LMAP ON MELTED.variable = LMAP.Variable\n",
    "WHERE MELTED.Category NOT IN ('Trends', 'Attitudes') AND MELTED.val IS NOT NULL\n",
    "GROUP BY STORE.CUSTOMER_GROUP, STORE.STORE_NAME,STORE.STORE_NUM,  STORE.CHANNEL, STORE.SALES_GROUP, STORE.BANNER,STORE.STORE_STREET,STORE.STORE_LONGITUDE,STORE.STORE_LATITUDE,  STORE.STORE_PROVINCE, MELTED.variable,MELTED.Description,LMAP.Language_Grouping,  MELTED.Category, YEAR\n",
    "\"\"\"\n",
    ")\n"
   ]
  },
  {
   "cell_type": "code",
   "execution_count": 0,
   "metadata": {
    "application/vnd.databricks.v1+cell": {
     "cellMetadata": {},
     "inputWidgets": {},
     "nuid": "0f8c312d-4447-45b9-9756-a9fa99b8ad58",
     "showTitle": false,
     "tableResultSettingsMap": {},
     "title": ""
    }
   },
   "outputs": [],
   "source": [
    "display(store_profiles_df)"
   ]
  },
  {
   "cell_type": "code",
   "execution_count": 0,
   "metadata": {
    "application/vnd.databricks.v1+cell": {
     "cellMetadata": {},
     "inputWidgets": {},
     "nuid": "2899575c-e470-4d80-874d-6ac4cee33596",
     "showTitle": false,
     "tableResultSettingsMap": {},
     "title": ""
    }
   },
   "outputs": [],
   "source": [
    "\n",
    "store_profiles_df = store_profiles_df.withColumn(\n",
    "    \"STORE_CHAIN\",\n",
    "    when((col(\"CUSTOMER_GROUP\") == 'AOL_AO LOCAL') | (col(\"CUSTOMER_GROUP\") == 'AON_AO NATL RETAIL'), regexp_replace(col(\"STORE_NAME\"), r\"#\\d+\\s*[A-Z]*\\s*[A-Z]*\\s*\", \"\"))\n",
    "    .otherwise(col(\"CUSTOMER_GROUP\"))\n",
    ")"
   ]
  },
  {
   "cell_type": "code",
   "execution_count": 0,
   "metadata": {
    "application/vnd.databricks.v1+cell": {
     "cellMetadata": {},
     "inputWidgets": {},
     "nuid": "ed19e5ed-a86d-4fe3-b1fd-def431a6bb21",
     "showTitle": false,
     "tableResultSettingsMap": {},
     "title": ""
    }
   },
   "outputs": [],
   "source": [
    "%sql\n",
    "CREATE TABLE environics.demostats_store_profiles_aggregated AS\n",
    "SELECT STORE.CUSTOMER_GROUP, STORE.STORE_NAME, STORE.STORE_NUM, STORE.CHANNEL, STORE.SALES_GROUP,STORE.STORE_STREET, STORE.STORE_PROVINCE, MELTED.Description, LMAP.Language_Grouping, MELTED.Category, MELTED.YEAR,SUM(STORE.PERCENT_ATTRACTION*MELTED.val)  val, SUM(STORE.PERCENT_ATTRACTION*MELTED.TOTAL_HOUSEHOLDS) TOTAL_HOUSEHOLDS, SUM(STORE.PERCENT_ATTRACTION*MELTED.TOTAL_HOUSEHOLD_POPULATION) TOTAL_HOUSEHOLD_POPULATION, SUM(STORE.PERCENT_ATTRACTION*MELTED.TOTAL_HOUSEHOLD_POPULATION_15_YEARS_OR_OVER) TOTAL_HOUSEHOLD_POPULATION_15_YEARS_OR_OVER, SUM(STORE.PERCENT_ATTRACTION*MELTED.TOTAL_POPULATION) TOTAL_POPULATION,\n",
    "CASE WHEN MELTED.Category LIKE \"Households by%\" THEN SUM(STORE.PERCENT_ATTRACTION*MELTED.val)/SUM(STORE.PERCENT_ATTRACTION*MELTED.TOTAL_HOUSEHOLDS)\n",
    "    WHEN MELTED.Category LIKE \"Household Population 15 Years or Over%\"  THEN SUM(STORE.PERCENT_ATTRACTION*MELTED.val)/SUM(STORE.PERCENT_ATTRACTION*MELTED.TOTAL_HOUSEHOLD_POPULATION_15_YEARS_OR_OVER)\n",
    "    WHEN MELTED.Category LIKE \"Household Population%\" AND MELTED.Category NOT LIKE \"%15 Years or Over%\" THEN SUM(STORE.PERCENT_ATTRACTION*MELTED.val)/SUM(STORE.PERCENT_ATTRACTION*MELTED.TOTAL_HOUSEHOLD_POPULATION)\n",
    "    ELSE SUM(STORE.PERCENT_ATTRACTION*MELTED.val)/SUM(STORE.PERCENT_ATTRACTION*MELTED.TOTAL_POPULATION) END STORE_VALUE\n",
    "FROM environics.store_LDU_attraction_filtered_0801 STORE \n",
    "LEFT JOIN environics.ldu_feature_vals_melted_df_2023 MELTED ON STORE.POSTALCODE = MELTED.POSTALCODE\n",
    "LEFT JOIN default.language_mapping LMAP ON MELTED.Description = LMAP.Description_cleaned\n",
    "WHERE MELTED.Category NOT IN ('Trends', 'Attitudes') AND MELTED.val IS NOT NULL\n",
    "GROUP BY STORE.CUSTOMER_GROUP, STORE.STORE_NAME,STORE.STORE_NUM,  STORE.CHANNEL, STORE.SALES_GROUP, STORE.STORE_STREET,  STORE.STORE_PROVINCE, MELTED.Description,LMAP.Language_Grouping,  MELTED.Category, YEAR"
   ]
  },
  {
   "cell_type": "code",
   "execution_count": 0,
   "metadata": {
    "application/vnd.databricks.v1+cell": {
     "cellMetadata": {},
     "inputWidgets": {},
     "nuid": "6ba1339b-8a22-4ce9-a0d5-2ba1b9b11f4b",
     "showTitle": false,
     "tableResultSettingsMap": {},
     "title": ""
    }
   },
   "outputs": [],
   "source": [
    "\n",
    "\n",
    "store_profiles_df = store_profiles_df.withColumn(\n",
    "    'Region',\n",
    "    when(col(\"STORE_PROVINCE\") == 'ON', 'ONTARIO')\n",
    "    .when(col(\"STORE_PROVINCE\") == 'QC', 'QUEBEC')\n",
    "    .when(col(\"STORE_PROVINCE\").isin(['AB', 'BC', 'MB', 'SK', 'YT', 'NT']), 'WEST')\n",
    "    .when(col(\"STORE_PROVINCE\").isin(['NS', 'NB', 'NL', 'PE']), 'EAST')\n",
    "    .otherwise(col(\"STORE_PROVINCE\"))\n",
    ")"
   ]
  },
  {
   "cell_type": "code",
   "execution_count": 0,
   "metadata": {
    "application/vnd.databricks.v1+cell": {
     "cellMetadata": {},
     "inputWidgets": {},
     "nuid": "ac268fdc-5a69-44f2-b285-7deb8ce601d8",
     "showTitle": false,
     "tableResultSettingsMap": {},
     "title": ""
    }
   },
   "outputs": [],
   "source": [
    "windowPartition = Window.partitionBy(['CUSTOMER_GROUP_MODIFIED','Description'])\n",
    "store_profiles_df = store_profiles_df.withColumn(\"BANNER_VALUE\", sum('val').over(windowPartition)/sum('TOTAL_POPULATION').over(windowPartition))\n",
    "\n",
    "windowPartition = Window.partitionBy(['Category','CUSTOMER_GROUP_MODIFIED','STORE_NAME'])\n",
    "store_profiles_df = store_profiles_df.withColumn('BANNER_VALUE_PERCENT', col('BANNER_VALUE')/sum('BANNER_VALUE').over(windowPartition)).select('CUSTOMER_GROUP_MODIFIED',\t'STORE_NAME',\t'STORE_NUM',\t'CHANNEL',\t'SALES_GROUP',\t'STORE_STREET',\t'STORE_PROVINCE',\t'Description',\t'Language_Grouping',\t'Category',\t'YEAR',\t'val',\t'TOTAL_HOUSEHOLDS',\t'TOTAL_HOUSEHOLD_POPULATION',\t'TOTAL_HOUSEHOLD_POPULATION_15_YEARS_OR_OVER',\t'TOTAL_POPULATION',\t'STORE_VALUE',\t'BANNER_VALUE_PERCENT')\n"
   ]
  },
  {
   "cell_type": "code",
   "execution_count": 0,
   "metadata": {
    "application/vnd.databricks.v1+cell": {
     "cellMetadata": {},
     "inputWidgets": {},
     "nuid": "bffac9c8-93f2-414e-a9cc-55e49da87645",
     "showTitle": false,
     "tableResultSettingsMap": {},
     "title": ""
    }
   },
   "outputs": [],
   "source": [
    "windowPartition = Window.partitionBy(['STORE_PROVINCE', 'CHANNEL','Description'])\n",
    "windowPartition2 = Window.partitionBy(['STORE_PROVINCE', 'CHANNEL','STORE_NUM','Description'])\n",
    "store_profiles_df = store_profiles_df.withColumn(\"CHANNEL_PROV_VALUE\", sum('val').over(windowPartition)/sum('TOTAL_POPULATION').over(windowPartition))\n",
    "# display(store_profiles_df)\n",
    "\n",
    "windowPartition = Window.partitionBy(['STORE_PROVINCE', 'CHANNEL','STORE_NAME','Category'])\n",
    "store_profiles_df = store_profiles_df.withColumn('CHANNEL_PROV_VALUE_PERCENT', col('CHANNEL_PROV_VALUE')/sum('CHANNEL_PROV_VALUE').over(windowPartition)).select('CUSTOMER_GROUP_MODIFIED',\t'STORE_NAME',\t'STORE_NUM',\t'CHANNEL',\t'SALES_GROUP',\t'STORE_STREET',\t'STORE_PROVINCE',\t'Description',\t'Language_Grouping',\t'Category',\t'YEAR',\t'val',\t'TOTAL_HOUSEHOLDS',\t'TOTAL_HOUSEHOLD_POPULATION',\t'TOTAL_HOUSEHOLD_POPULATION_15_YEARS_OR_OVER',\t'TOTAL_POPULATION',\t'STORE_VALUE',\t'BANNER_VALUE_PERCENT','CHANNEL_PROV_VALUE_PERCENT')\n"
   ]
  },
  {
   "cell_type": "code",
   "execution_count": 0,
   "metadata": {
    "application/vnd.databricks.v1+cell": {
     "cellMetadata": {},
     "inputWidgets": {},
     "nuid": "93e84191-9106-4c7a-80a3-57dc0027215b",
     "showTitle": false,
     "tableResultSettingsMap": {},
     "title": ""
    }
   },
   "outputs": [],
   "source": [
    "windowPartition = Window.partitionBy(['STORE_PROVINCE','Description'])\n",
    "windowPartition2 = Window.partitionBy(['STORE_PROVINCE','STORE_NUM','Description'])\n",
    "store_profiles_df = store_profiles_df.withColumn(\"PROVINCE_VALUE\", sum('val').over(windowPartition)/sum('TOTAL_POPULATION').over(windowPartition))\n",
    "\n",
    "windowPartition = Window.partitionBy(['STORE_PROVINCE','STORE_NAME','Category'])\n",
    "store_profiles_df = store_profiles_df.withColumn('PROV_VALUE_PERCENT', col('PROVINCE_VALUE')/sum('PROVINCE_VALUE').over(windowPartition)).select('CUSTOMER_GROUP_MODIFIED',\t'STORE_NAME',\t'STORE_NUM',\t'CHANNEL',\t'SALES_GROUP',\t'STORE_STREET',\t'STORE_PROVINCE',\t'Description',\t'Language_Grouping',\t'Category',\t'YEAR',\t'val',\t'TOTAL_HOUSEHOLDS',\t'TOTAL_HOUSEHOLD_POPULATION',\t'TOTAL_HOUSEHOLD_POPULATION_15_YEARS_OR_OVER',\t'TOTAL_POPULATION',\t'STORE_VALUE',\t'BANNER_VALUE_PERCENT','CHANNEL_PROV_VALUE_PERCENT','PROV_VALUE_PERCENT')\n",
    "# display(store_profiles_df)"
   ]
  },
  {
   "cell_type": "code",
   "execution_count": 0,
   "metadata": {
    "application/vnd.databricks.v1+cell": {
     "cellMetadata": {},
     "inputWidgets": {},
     "nuid": "62f9d9de-235b-4ed0-be38-78a5d7b6760c",
     "showTitle": false,
     "tableResultSettingsMap": {},
     "title": ""
    }
   },
   "outputs": [],
   "source": [
    "windowPartition = Window.partitionBy(['CHANNEL','Description'])\n",
    "windowPartition2 = Window.partitionBy(['STORE_NUM', 'CHANNEL','Description'])#['STORE_NUM', 'CUSTOMER_GROUP'])\n",
    "store_profiles_df = store_profiles_df.withColumn(\"CHANNEL_VALUE\", sum('val').over(windowPartition)/sum('TOTAL_POPULATION').over(windowPartition))\n",
    "\n",
    "windowPartition = Window.partitionBy(['CHANNEL','STORE_NAME','Category'])\n",
    "store_profiles_df = store_profiles_df.withColumn('CHANNEL_VALUE_PERCENT', col('CHANNEL_VALUE')/sum('CHANNEL_VALUE').over(windowPartition)).select('CUSTOMER_GROUP_MODIFIED',\t'STORE_NAME',\t'STORE_NUM',\t'CHANNEL',\t'SALES_GROUP',\t'STORE_STREET',\t'STORE_PROVINCE',\t'Description',\t'Language_Grouping',\t'Category',\t'YEAR',\t'val',\t'TOTAL_HOUSEHOLDS',\t'TOTAL_HOUSEHOLD_POPULATION',\t'TOTAL_HOUSEHOLD_POPULATION_15_YEARS_OR_OVER',\t'TOTAL_POPULATION',\t'STORE_VALUE',\t'BANNER_VALUE_PERCENT','CHANNEL_PROV_VALUE_PERCENT','PROV_VALUE_PERCENT','CHANNEL_VALUE_PERCENT')\n",
    "# display(store_profiles_df)"
   ]
  },
  {
   "cell_type": "code",
   "execution_count": 0,
   "metadata": {
    "application/vnd.databricks.v1+cell": {
     "cellMetadata": {},
     "inputWidgets": {},
     "nuid": "901f08d8-97ae-4ee2-b320-1385af7ac6c8",
     "showTitle": false,
     "tableResultSettingsMap": {},
     "title": ""
    }
   },
   "outputs": [],
   "source": [
    "store_profiles_df = store_profiles_df.withColumn(\"LONGITUDE\", lit(None).cast('double'))\n",
    "store_profiles_df = store_profiles_df.withColumn(\"LATITUDE\", lit(None).cast('double'))\n",
    "\n",
    "windowPartition = Window.partitionBy(['BANNER','variable','YEAR'])\n",
    "store_profiles_df = store_profiles_df.withColumn(\"BANNER_VALUE\", sum('val').over(windowPartition)/sum('TOTAL_POPULATION').over(windowPartition))\n",
    "\n",
    "windowPartition = Window.partitionBy(['Category','BANNER','STORE_NAME','YEAR'])\n",
    "store_profiles_df = store_profiles_df.withColumn('BANNER_VALUE_PERCENT', col('BANNER_VALUE') / sum(when(col('LEAF_NODE_FLAG') == 1, col('BANNER_VALUE')).otherwise(0)).over(windowPartition)).select('STORE_CHAIN','BANNER',\t'STORE_NAME',\t'STORE_NUM',\t'CHANNEL',\t'SALES_GROUP',\t'STORE_STREET','STORE_LONGITUDE','STORE_LATITUDE'\t,'STORE_PROVINCE','Region',\t'variable','Description',\t'Language_Grouping',\t'Category',\t'YEAR',\t'val',\t'TOTAL_HOUSEHOLDS',\t'TOTAL_HOUSEHOLD_POPULATION',\t'TOTAL_HOUSEHOLD_POPULATION_15_YEARS_OR_OVER',\t'TOTAL_POPULATION',\t'STORE_VALUE',\t'BANNER_VALUE_PERCENT','Hierarchy_Description','MEDIAN_AVERAGE','ADD_TO_PROFILE','LEAF_NODE_FLAG','TOTAL_FLAG')\n",
    "\n",
    "windowPartition = Window.partitionBy(['Region', 'CHANNEL','variable','YEAR'])\n",
    "windowPartition2 = Window.partitionBy(['Region', 'CHANNEL','STORE_NUM','variable','YEAR'])\n",
    "store_profiles_df = store_profiles_df.withColumn(\"CHANNEL_RE_VALUE\", sum('val').over(windowPartition)/sum('TOTAL_POPULATION').over(windowPartition))\n",
    "# display(store_profiles_df)\n",
    "\n",
    "windowPartition = Window.partitionBy(['Region', 'CHANNEL','STORE_NAME','Category','YEAR'])\n",
    "store_profiles_df = store_profiles_df.withColumn('CHANNEL_RE_VALUE_PERCENT', col('CHANNEL_RE_VALUE')/sum(when(col('LEAF_NODE_FLAG') == 1, col('CHANNEL_RE_VALUE')).otherwise(0)).over(windowPartition)).select('STORE_CHAIN',\t'BANNER','STORE_NAME',\t'STORE_NUM',\t'CHANNEL',\t'SALES_GROUP',\t'STORE_STREET',\t'STORE_LONGITUDE','STORE_LATITUDE','STORE_PROVINCE','Region','variable',\t'Description',\t'Language_Grouping',\t'Category',\t'YEAR',\t'val',\t'TOTAL_HOUSEHOLDS',\t'TOTAL_HOUSEHOLD_POPULATION',\t'TOTAL_HOUSEHOLD_POPULATION_15_YEARS_OR_OVER',\t'TOTAL_POPULATION',\t'STORE_VALUE',\t'BANNER_VALUE_PERCENT','CHANNEL_RE_VALUE_PERCENT','Hierarchy_Description','MEDIAN_AVERAGE','ADD_TO_PROFILE','LEAF_NODE_FLAG','TOTAL_FLAG')\n",
    "\n",
    "\n",
    "windowPartition = Window.partitionBy(['Region','variable','YEAR'])\n",
    "windowPartition2 = Window.partitionBy(['Region','STORE_NUM','variable','YEAR'])\n",
    "store_profiles_df = store_profiles_df.withColumn(\"REGION_VALUE\", sum('val').over(windowPartition)/sum('TOTAL_POPULATION').over(windowPartition))\n",
    "\n",
    "windowPartition = Window.partitionBy(['Region','STORE_NAME','Category'])\n",
    "store_profiles_df = store_profiles_df.withColumn('REGION_VALUE_PERCENT', col('REGION_VALUE')/sum(when(col('LEAF_NODE_FLAG') == 1, col('REGION_VALUE')).otherwise(0)).over(windowPartition)).select('STORE_CHAIN','BANNER',\t'STORE_NAME',\t'STORE_NUM',\t'CHANNEL',\t'SALES_GROUP',\t'STORE_STREET',\t'STORE_LONGITUDE','STORE_LATITUDE','STORE_PROVINCE','Region','variable',\t'Description',\t'Language_Grouping',\t'Category',\t'YEAR',\t'val',\t'TOTAL_HOUSEHOLDS',\t'TOTAL_HOUSEHOLD_POPULATION',\t'TOTAL_HOUSEHOLD_POPULATION_15_YEARS_OR_OVER',\t'TOTAL_POPULATION',\t'STORE_VALUE',\t'BANNER_VALUE_PERCENT','CHANNEL_RE_VALUE_PERCENT','REGION_VALUE_PERCENT','Hierarchy_Description','MEDIAN_AVERAGE','ADD_TO_PROFILE','LEAF_NODE_FLAG','TOTAL_FLAG')\n",
    "# display(store_profiles_df)\n",
    "\n",
    "windowPartition = Window.partitionBy(['CHANNEL','variable','YEAR'])\n",
    "windowPartition2 = Window.partitionBy(['STORE_NUM', 'CHANNEL','variable','YEAR'])#['STORE_NUM', 'CUSTOMER_GROUP'])\n",
    "store_profiles_df = store_profiles_df.withColumn(\"CHANNEL_VALUE\", sum('val').over(windowPartition)/sum('TOTAL_POPULATION').over(windowPartition))\n",
    "\n",
    "windowPartition = Window.partitionBy(['CHANNEL','STORE_NAME','Category','YEAR'])\n",
    "store_profiles_df = store_profiles_df.withColumn('CHANNEL_VALUE_PERCENT', col('CHANNEL_VALUE')/sum(when(col('LEAF_NODE_FLAG') == 1, col('CHANNEL_VALUE')).otherwise(0)).over(windowPartition)).select('STORE_CHAIN','BANNER',\t'STORE_NAME',\t'STORE_NUM',\t'CHANNEL',\t'SALES_GROUP',\t'STORE_STREET',\t'STORE_LONGITUDE','STORE_LATITUDE','STORE_PROVINCE','Region','variable',\t'Description',\t'Language_Grouping',\t'Category',\t'YEAR',\t'val',\t'TOTAL_HOUSEHOLDS',\t'TOTAL_HOUSEHOLD_POPULATION',\t'TOTAL_HOUSEHOLD_POPULATION_15_YEARS_OR_OVER',\t'TOTAL_POPULATION',\t'STORE_VALUE',\t'BANNER_VALUE_PERCENT','CHANNEL_RE_VALUE_PERCENT','REGION_VALUE_PERCENT','CHANNEL_VALUE_PERCENT','Hierarchy_Description','MEDIAN_AVERAGE','LEAF_NODE_FLAG','TOTAL_FLAG')\n",
    "# display(store_profiles_df)\n"
   ]
  },
  {
   "cell_type": "code",
   "execution_count": 0,
   "metadata": {
    "application/vnd.databricks.v1+cell": {
     "cellMetadata": {},
     "inputWidgets": {},
     "nuid": "e79618b5-7cd0-4fec-a30f-69534f5fdc2f",
     "showTitle": false,
     "tableResultSettingsMap": {},
     "title": ""
    }
   },
   "outputs": [],
   "source": [
    "display(store_profiles_df)"
   ]
  },
  {
   "cell_type": "code",
   "execution_count": 0,
   "metadata": {
    "application/vnd.databricks.v1+cell": {
     "cellMetadata": {},
     "inputWidgets": {},
     "nuid": "0974315e-34d0-4c08-adfd-6713e0278db4",
     "showTitle": false,
     "tableResultSettingsMap": {},
     "title": ""
    }
   },
   "outputs": [],
   "source": [
    "store_profiles_df.write.mode(\"overwrite\").option(\"overwriteSchema\", \"True\").format(\"delta\").saveAsTable(\n",
    "    \"hyper.demostats_store_profiles_aggregated_0910\"\n",
    ")"
   ]
  },
  {
   "cell_type": "code",
   "execution_count": 0,
   "metadata": {
    "application/vnd.databricks.v1+cell": {
     "cellMetadata": {},
     "inputWidgets": {},
     "nuid": "f7788ad1-7162-47a2-9dd8-d10c5e74934f",
     "showTitle": false,
     "tableResultSettingsMap": {},
     "title": ""
    }
   },
   "outputs": [],
   "source": [
    "%sql\n",
    "select * from hyper.demostats_store_profiles_aggregated_0910 where BANNER='NF ON'and STORE_PROVINCE!='ON'"
   ]
  },
  {
   "cell_type": "markdown",
   "metadata": {
    "application/vnd.databricks.v1+cell": {
     "cellMetadata": {},
     "inputWidgets": {},
     "nuid": "17f64896-88db-4213-8dc1-89bc1c5fe703",
     "showTitle": false,
     "tableResultSettingsMap": {},
     "title": ""
    }
   },
   "source": [
    "# Below not used for now"
   ]
  },
  {
   "cell_type": "code",
   "execution_count": 0,
   "metadata": {
    "application/vnd.databricks.v1+cell": {
     "cellMetadata": {},
     "inputWidgets": {},
     "nuid": "6e802bdc-bc95-4933-9981-43c3c1844ade",
     "showTitle": false,
     "tableResultSettingsMap": {},
     "title": ""
    }
   },
   "outputs": [],
   "source": []
  },
  {
   "cell_type": "code",
   "execution_count": 0,
   "metadata": {
    "application/vnd.databricks.v1+cell": {
     "cellMetadata": {},
     "inputWidgets": {},
     "nuid": "3f5c1dbd-45be-4916-8d9e-000659f58484",
     "showTitle": false,
     "tableResultSettingsMap": {},
     "title": ""
    }
   },
   "outputs": [],
   "source": [
    "%sql\n",
    "SELECT STORE.CUSTOMER_GROUP, STORE.STORE_NAME, STORE.STORE_NUM, STORE.CHANNEL, STORE.SALES_GROUP,STORE.STORE_STREET, STORE.STORE_PROVINCE, MELTED.Description, LMAP.Language_Grouping, MELTED.Category, MELTED.YEAR,SUM(STORE.PERCENT_ATTRACTION*MELTED.val)  val, SUM(STORE.PERCENT_ATTRACTION*MELTED.TOTAL_HOUSEHOLDS) TOTAL_HOUSEHOLDS, SUM(STORE.PERCENT_ATTRACTION*MELTED.TOTAL_HOUSEHOLD_POPULATION) TOTAL_HOUSEHOLD_POPULATION, SUM(STORE.PERCENT_ATTRACTION*MELTED.TOTAL_HOUSEHOLD_POPULATION_15_YEARS_OR_OVER) TOTAL_HOUSEHOLD_POPULATION_15_YEARS_OR_OVER, SUM(STORE.PERCENT_ATTRACTION*MELTED.TOTAL_POPULATION) TOTAL_POPULATION,\n",
    "CASE WHEN MELTED.Category LIKE \"Households by%\" THEN SUM(STORE.PERCENT_ATTRACTION*MELTED.val)/SUM(STORE.PERCENT_ATTRACTION*MELTED.TOTAL_HOUSEHOLDS)\n",
    "    WHEN MELTED.Category LIKE \"Household Population 15 Years or Over%\"  THEN SUM(STORE.PERCENT_ATTRACTION*MELTED.val)/SUM(STORE.PERCENT_ATTRACTION*MELTED.TOTAL_HOUSEHOLD_POPULATION_15_YEARS_OR_OVER)\n",
    "    WHEN MELTED.Category LIKE \"Household Population%\" AND MELTED.Category NOT LIKE \"%15 Years or Over%\" THEN SUM(STORE.PERCENT_ATTRACTION*MELTED.val)/SUM(STORE.PERCENT_ATTRACTION*MELTED.TOTAL_HOUSEHOLD_POPULATION)\n",
    "    ELSE SUM(STORE.PERCENT_ATTRACTION*MELTED.val)/SUM(STORE.PERCENT_ATTRACTION*MELTED.TOTAL_POPULATION) END STORE_VALUE\n",
    "FROM environics.store_LDU_attraction_filtered_0801 STORE \n",
    "LEFT JOIN environics.ldu_feature_vals_melted_df_2023 MELTED ON STORE.POSTALCODE = MELTED.POSTALCODE\n",
    "LEFT JOIN default.language_mapping LMAP ON MELTED.Description = LMAP.Description_cleaned\n",
    "WHERE MELTED.Category NOT IN ('Trends', 'Attitudes') and CUSTOMER_GROUP LIKE \"%SOBEYS%\" AND STORE_STREET LIKE \"%FORT YORK%\" AND MELTED.val IS NOT NULL\n",
    "GROUP BY STORE.CUSTOMER_GROUP, STORE.STORE_NAME,STORE.STORE_NUM,  STORE.CHANNEL, STORE.SALES_GROUP, STORE.STORE_STREET,  STORE.STORE_PROVINCE, MELTED.Description,LMAP.Language_Grouping,  MELTED.Category, YEAR"
   ]
  },
  {
   "cell_type": "code",
   "execution_count": 0,
   "metadata": {
    "application/vnd.databricks.v1+cell": {
     "cellMetadata": {},
     "inputWidgets": {},
     "nuid": "06f46e3b-8b8f-475b-9622-c550eafdb1d4",
     "showTitle": false,
     "tableResultSettingsMap": {},
     "title": ""
    }
   },
   "outputs": [],
   "source": [
    "store_profiles.write.mode(\"overwrite\").option(\"overwriteSchema\", \"True\").format(\"delta\").saveAsTable(\n",
    "    \"environics.demostats_store_profiles_0801_SOBEYS_2\"\n",
    ")"
   ]
  },
  {
   "cell_type": "code",
   "execution_count": 0,
   "metadata": {
    "application/vnd.databricks.v1+cell": {
     "cellMetadata": {},
     "inputWidgets": {},
     "nuid": "4491c555-98f8-4a07-a2b0-44036fac35b3",
     "showTitle": false,
     "tableResultSettingsMap": {},
     "title": ""
    }
   },
   "outputs": [],
   "source": [
    "%sql\n",
    "select * from environics.demostats_store_profiles_0801_SOBEYS_2"
   ]
  },
  {
   "cell_type": "code",
   "execution_count": 0,
   "metadata": {
    "application/vnd.databricks.v1+cell": {
     "cellMetadata": {},
     "inputWidgets": {},
     "nuid": "70507e2d-bc9b-40b7-8845-c1697d74c114",
     "showTitle": false,
     "tableResultSettingsMap": {},
     "title": ""
    }
   },
   "outputs": [],
   "source": [
    "%sql\n",
    "SELECT * FROM environics.demostats_store_profiles_2023_0726\n",
    "WHERE CUSTOMER_GROUP LIKE \"%SOBEYS%\" AND STORE_STREET LIKE \"%FORT YORK%\""
   ]
  },
  {
   "cell_type": "code",
   "execution_count": 0,
   "metadata": {
    "application/vnd.databricks.v1+cell": {
     "cellMetadata": {},
     "inputWidgets": {},
     "nuid": "f73eb8cd-2420-4c21-82d5-b32eec2ccc68",
     "showTitle": false,
     "tableResultSettingsMap": {},
     "title": ""
    }
   },
   "outputs": [],
   "source": [
    "%sql\n",
    "SELECT * FROM default.store_ldu_attraction_filtered A\n",
    "LEFT JOIN (SELECT DISTINCT POSTALCODE, TOTAL_POPULATION FROM default.ldu_feature_vals_melted_df WHERE YEAR = 2023 AND POSTALCODE IS NOT NULL AND Category NOT IN ('Trends', 'Attitudes')) B ON A.POSTALCODE = B.POSTALCODE\n",
    "WHERE A.STORE_NAME = 'NO FRILLS #1335'\n",
    "ORDER BY A.PERCENT_ATTRACTION DESC"
   ]
  },
  {
   "cell_type": "code",
   "execution_count": 0,
   "metadata": {
    "application/vnd.databricks.v1+cell": {
     "cellMetadata": {},
     "inputWidgets": {},
     "nuid": "a008dccb-d62f-45b2-a82f-84a7504d8e9f",
     "showTitle": false,
     "tableResultSettingsMap": {},
     "title": ""
    }
   },
   "outputs": [],
   "source": [
    "%sql\n",
    "SELECT * FROM default.demostats_store_profiles\n",
    "WHERE STORE_NAME = 'NO FRILLS #1335'"
   ]
  },
  {
   "cell_type": "code",
   "execution_count": 0,
   "metadata": {
    "application/vnd.databricks.v1+cell": {
     "cellMetadata": {},
     "inputWidgets": {},
     "nuid": "4e5a408c-d804-4415-ab0c-e4e1a5816d1f",
     "showTitle": true,
     "tableResultSettingsMap": {},
     "title": "Calculate Customer Group Profile for Sobeys"
    }
   },
   "outputs": [],
   "source": [
    "%sql\n",
    "SELECT CUSTOMER_GROUP, STORE_PROVINCE,CHANNEL,\n",
    "Description, Category, \n",
    "CASE WHEN Category LIKE \"Households by%\" THEN SUM(val)/SUM(TOTAL_HOUSEHOLDS)\n",
    "    WHEN Category LIKE \"Household Population 15 Years or Over%\" OR Category IN ('Trends', 'Attitudes') THEN SUM(val)/SUM(TOTAL_HOUSEHOLD_POPULATION_15_YEARS_OR_OVER)\n",
    "    WHEN Category LIKE \"Household Population%\" AND Category NOT LIKE \"%15 Years or Over%\" THEN SUM(val)/SUM(TOTAL_HOUSEHOLD_POPULATION)\n",
    "    ELSE SUM(val)/SUM(TOTAL_POPULATION) END STORE_VALUE\n",
    "--  SUM(val)/SUM(TOTAL_POPULATION)  STORE_VALUE\n",
    "FROM environics.demostats_store_profiles_0801_SOBEYS_2\n",
    "GROUP BY 1,2,3,4,5"
   ]
  },
  {
   "cell_type": "code",
   "execution_count": 0,
   "metadata": {
    "application/vnd.databricks.v1+cell": {
     "cellMetadata": {},
     "inputWidgets": {},
     "nuid": "198db4ed-39bd-4a68-ac7c-795ef79bc97d",
     "showTitle": false,
     "tableResultSettingsMap": {},
     "title": ""
    }
   },
   "outputs": [],
   "source": [
    "%sql\n",
    "SELECT STORE.CUSTOMER_GROUP, STORE.STORE_PROVINCE, Store.Description, Store.Category, STORE.STORE_VALUE, OVERALL.REGION_OVERALL_VALUE, STORE.STORE_VALUE/OVERALL.REGION_OVERALL_VALUE PROFILE_REGION_INDEX FROM (SELECT CUSTOMER_GROUP, STORE_PROVINCE,\n",
    "Description, Category, \n",
    "CASE WHEN Category LIKE \"Households by%\" THEN SUM(val)/SUM(TOTAL_HOUSEHOLDS)\n",
    "    WHEN Category LIKE \"Household Population 15 Years or Over%\" OR Category IN ('Trends', 'Attitudes') THEN SUM(val)/SUM(TOTAL_HOUSEHOLD_POPULATION_15_YEARS_OR_OVER)\n",
    "    WHEN Category LIKE \"Household Population%\" AND Category NOT LIKE \"%15 Years or Over%\" THEN SUM(val)/SUM(TOTAL_HOUSEHOLD_POPULATION)\n",
    "    ELSE SUM(val)/SUM(TOTAL_POPULATION) END STORE_VALUE\n",
    "--  SUM(val)/SUM(TOTAL_POPULATION)  STORE_VALUE\n",
    "FROM environics.demostats_store_profiles_0801_SOBEYS_2\n",
    "GROUP BY 1,2,3,4) STORE\n",
    "LEFT JOIN (SELECT EPCCF.PROV, MELT.Description, MELT.Category, \n",
    "CASE WHEN Category LIKE \"Households by%\" THEN SUM(val)/SUM(TOTAL_HOUSEHOLDS)\n",
    "    WHEN Category LIKE \"Household Population 15 Years or Over%\" THEN SUM(val)/SUM(TOTAL_HOUSEHOLD_POPULATION_15_YEARS_OR_OVER)\n",
    "    WHEN Category LIKE \"Household Population%\" AND Category NOT LIKE \"%15 Years or Over%\" THEN SUM(val)/SUM(TOTAL_HOUSEHOLD_POPULATION)\n",
    "    ELSE SUM(val)/SUM(TOTAL_POPULATION) END REGION_OVERALL_VALUE\n",
    "    FROM default.ldu_feature_vals_melted_df MELT\n",
    "LEFT JOIN (SELECT PRABB PROV, FSALDU FROM environics.epccf_unique) EPCCF\n",
    "    ON MELT.POSTALCODE = EPCCF.FSALDU\n",
    "GROUP BY 1,2,3) OVERALL ON STORE.STORE_PROVINCE = OVERALL.PROV AND STORE.Description = OVERALL.Description AND STORE.Category = OVERALL.Category"
   ]
  },
  {
   "cell_type": "code",
   "execution_count": 0,
   "metadata": {
    "application/vnd.databricks.v1+cell": {
     "cellMetadata": {},
     "inputWidgets": {},
     "nuid": "01a7ec52-82a3-42b2-b5b2-5fc9a08ae7ef",
     "showTitle": false,
     "tableResultSettingsMap": {},
     "title": ""
    }
   },
   "outputs": [],
   "source": [
    "%sql\n",
    "SELECT \n",
    "    A.CUSTOMER_GROUP,\n",
    "    A.STORE_NAME,\n",
    "    A.STORE_NUM,\n",
    "    A.CHANNEL,\n",
    "    A.SALES_GROUP,\n",
    "    A.STORE_STREET,\n",
    "    A.STORE_PROVINCE,\n",
    "    A.Description,\n",
    "    A.Language_Grouping,\n",
    "    A.Category,\n",
    "    A.YEAR,\n",
    "    A.val,\n",
    "    A.TOTAL_HOUSEHOLDS,\n",
    "    A.TOTAL_HOUSEHOLD_POPULATION,\n",
    "    A.TOTAL_HOUSEHOLD_POPULATION_15_YEARS_OR_OVER,\n",
    "    A.TOTAL_POPULATION,\n",
    "    A.STORE_VALUE,\n",
    "    B.BANNER_VALUE\n",
    "FROM\n",
    "    (SELECT \n",
    "        STORE.CUSTOMER_GROUP, \n",
    "        STORE.STORE_NAME, \n",
    "        STORE.STORE_NUM, \n",
    "        STORE.CHANNEL, \n",
    "        STORE.SALES_GROUP,\n",
    "        STORE.STORE_STREET, \n",
    "        STORE.STORE_PROVINCE, \n",
    "        MELTED.Description, \n",
    "        LMAP.Language_Grouping, \n",
    "        MELTED.Category, \n",
    "        MELTED.YEAR,\n",
    "        SUM(STORE.PERCENT_ATTRACTION * MELTED.val) as val, \n",
    "        SUM(STORE.PERCENT_ATTRACTION * MELTED.TOTAL_HOUSEHOLDS) as TOTAL_HOUSEHOLDS, \n",
    "        SUM(STORE.PERCENT_ATTRACTION * MELTED.TOTAL_HOUSEHOLD_POPULATION) as TOTAL_HOUSEHOLD_POPULATION, \n",
    "        SUM(STORE.PERCENT_ATTRACTION * MELTED.TOTAL_HOUSEHOLD_POPULATION_15_YEARS_OR_OVER) as TOTAL_HOUSEHOLD_POPULATION_15_YEARS_OR_OVER, \n",
    "        SUM(STORE.PERCENT_ATTRACTION * MELTED.TOTAL_POPULATION) as TOTAL_POPULATION,\n",
    "        CASE \n",
    "            WHEN MELTED.Category LIKE \"Households by%\" THEN SUM(STORE.PERCENT_ATTRACTION * MELTED.val) / SUM(STORE.PERCENT_ATTRACTION * MELTED.TOTAL_HOUSEHOLDS)\n",
    "            WHEN MELTED.Category LIKE \"Household Population 15 Years or Over%\" THEN SUM(STORE.PERCENT_ATTRACTION * MELTED.val) / SUM(STORE.PERCENT_ATTRACTION * MELTED.TOTAL_HOUSEHOLD_POPULATION_15_YEARS_OR_OVER)\n",
    "            WHEN MELTED.Category LIKE \"Household Population%\" AND MELTED.Category NOT LIKE \"%15 Years or Over%\" THEN SUM(STORE.PERCENT_ATTRACTION * MELTED.val) / SUM(STORE.PERCENT_ATTRACTION * MELTED.TOTAL_HOUSEHOLD_POPULATION)\n",
    "            ELSE SUM(STORE.PERCENT_ATTRACTION * MELTED.val) / SUM(STORE.PERCENT_ATTRACTION * MELTED.TOTAL_POPULATION) \n",
    "        END as STORE_VALUE\n",
    "    FROM environics.store_LDU_attraction_filtered_0801 STORE \n",
    "    LEFT JOIN environics.ldu_feature_vals_melted_df_2023 MELTED ON STORE.POSTALCODE = MELTED.POSTALCODE\n",
    "    LEFT JOIN default.language_mapping LMAP ON MELTED.Description = LMAP.Description_cleaned\n",
    "    WHERE MELTED.Category NOT IN ('Trends', 'Attitudes') and CUSTOMER_GROUP LIKE \"%SOBEYS%\"  AND MELTED.val IS NOT NULL\n",
    "    GROUP BY \n",
    "        STORE.CUSTOMER_GROUP, \n",
    "        STORE.STORE_NAME,\n",
    "        STORE.STORE_NUM, \n",
    "        STORE.CHANNEL, \n",
    "        STORE.SALES_GROUP, \n",
    "        STORE.STORE_STREET,  \n",
    "        STORE.STORE_PROVINCE, \n",
    "        MELTED.Description,\n",
    "        LMAP.Language_Grouping,  \n",
    "        MELTED.Category, \n",
    "        YEAR) A\n",
    "JOIN\n",
    "    (SELECT \n",
    "        STORE.CUSTOMER_GROUP, \n",
    "        MELTED.Description, \n",
    "        LMAP.Language_Grouping, \n",
    "        MELTED.Category, \n",
    "        MELTED.YEAR, \n",
    "        CASE \n",
    "            WHEN MELTED.Category LIKE \"Households by%\" THEN SUM(STORE.PERCENT_ATTRACTION * MELTED.val) / SUM(STORE.PERCENT_ATTRACTION * MELTED.TOTAL_HOUSEHOLDS)\n",
    "            WHEN MELTED.Category LIKE \"Household Population 15 Years or Over%\" THEN SUM(STORE.PERCENT_ATTRACTION * MELTED.val) / SUM(STORE.PERCENT_ATTRACTION * MELTED.TOTAL_HOUSEHOLD_POPULATION_15_YEARS_OR_OVER)\n",
    "            WHEN MELTED.Category LIKE \"Household Population%\" AND MELTED.Category NOT LIKE \"%15 Years or Over%\" THEN SUM(STORE.PERCENT_ATTRACTION * MELTED.val) / SUM(STORE.PERCENT_ATTRACTION * MELTED.TOTAL_HOUSEHOLD_POPULATION)\n",
    "            ELSE SUM(STORE.PERCENT_ATTRACTION * MELTED.val) / SUM(STORE.PERCENT_ATTRACTION * MELTED.TOTAL_POPULATION) \n",
    "        END as BANNER_VALUE\n",
    "    FROM environics.store_LDU_attraction_filtered_0801 STORE \n",
    "    LEFT JOIN environics.ldu_feature_vals_melted_df_2023 MELTED ON STORE.POSTALCODE = MELTED.POSTALCODE\n",
    "    LEFT JOIN default.language_mapping LMAP ON MELTED.Description = LMAP.Description_cleaned\n",
    "    WHERE MELTED.Category NOT IN ('Trends', 'Attitudes') and CUSTOMER_GROUP LIKE \"%SOBEYS%\" AND MELTED.val IS NOT NULL\n",
    "    GROUP BY \n",
    "        STORE.CUSTOMER_GROUP, \n",
    "        MELTED.Description,\n",
    "        LMAP.Language_Grouping,  \n",
    "        MELTED.Category, \n",
    "        YEAR) B\n",
    "ON A.CUSTOMER_GROUP = B.CUSTOMER_GROUP \n",
    "AND A.Description = B.Description\n",
    "AND A.Language_Grouping = B.Language_Grouping\n",
    "AND A.Category = B.Category\n",
    "AND A.YEAR = B.YEAR\n"
   ]
  },
  {
   "cell_type": "code",
   "execution_count": 0,
   "metadata": {
    "application/vnd.databricks.v1+cell": {
     "cellMetadata": {},
     "inputWidgets": {},
     "nuid": "c3c20714-bfd2-4c39-a2e7-dccb9fc4b231",
     "showTitle": false,
     "tableResultSettingsMap": {},
     "title": ""
    }
   },
   "outputs": [],
   "source": [
    "%sql\n",
    "CREATE TEMPORARY VIEW IntermediateData2 AS\n",
    "SELECT \n",
    "    STORE.CUSTOMER_GROUP,\n",
    "    STORE.STORE_NAME,\n",
    "    STORE.STORE_NUM,\n",
    "    STORE.CHANNEL,\n",
    "    STORE.SALES_GROUP,\n",
    "    STORE.STORE_STREET,\n",
    "    STORE.STORE_PROVINCE,\n",
    "    STORE.POSTALCODE,\n",
    "    MELTED.Description,\n",
    "    LMAP.Language_Grouping,\n",
    "    MELTED.Category,\n",
    "    MELTED.YEAR,\n",
    "    SUM(STORE.PERCENT_ATTRACTION * MELTED.val) AS val,\n",
    "    SUM(STORE.PERCENT_ATTRACTION * MELTED.TOTAL_HOUSEHOLDS) AS TOTAL_HOUSEHOLDS,\n",
    "    SUM(STORE.PERCENT_ATTRACTION * MELTED.TOTAL_HOUSEHOLD_POPULATION) AS TOTAL_HOUSEHOLD_POPULATION,\n",
    "    SUM(STORE.PERCENT_ATTRACTION * MELTED.TOTAL_HOUSEHOLD_POPULATION_15_YEARS_OR_OVER) AS TOTAL_HOUSEHOLD_POPULATION_15_YEARS_OR_OVER,\n",
    "    SUM(STORE.PERCENT_ATTRACTION * MELTED.TOTAL_POPULATION) AS TOTAL_POPULATION\n",
    "FROM environics.store_LDU_attraction_filtered_0801 STORE \n",
    "LEFT JOIN environics.ldu_feature_vals_melted_df_2023 MELTED ON STORE.POSTALCODE = MELTED.POSTALCODE\n",
    "LEFT JOIN default.language_mapping LMAP ON MELTED.Description = LMAP.Description_cleaned\n",
    "WHERE MELTED.Category NOT IN ('Trends', 'Attitudes')\n",
    "    AND MELTED.val IS NOT NULL\n",
    "GROUP BY STORE.CUSTOMER_GROUP, STORE.STORE_NAME, STORE.STORE_NUM, STORE.CHANNEL, STORE.SALES_GROUP, STORE.STORE_STREET, STORE.STORE_PROVINCE, STORE.POSTALCODE, MELTED.Description, LMAP.Language_Grouping, MELTED.Category, MELTED.YEAR;\n"
   ]
  },
  {
   "cell_type": "code",
   "execution_count": 0,
   "metadata": {
    "application/vnd.databricks.v1+cell": {
     "cellMetadata": {},
     "inputWidgets": {},
     "nuid": "9e415ec0-bf34-49f3-899b-d2a320c9ebf3",
     "showTitle": false,
     "tableResultSettingsMap": {},
     "title": ""
    }
   },
   "outputs": [],
   "source": [
    "%sql\n",
    "SELECT \n",
    "    A.CUSTOMER_GROUP,\n",
    "    A.STORE_NAME,\n",
    "    A.STORE_NUM,\n",
    "    A.CHANNEL,\n",
    "    A.SALES_GROUP,\n",
    "    A.STORE_STREET,\n",
    "    A.STORE_PROVINCE,\n",
    "    A.Description,\n",
    "    A.Language_Grouping,\n",
    "    A.Category,\n",
    "    A.YEAR,\n",
    "    A.STORE_VALUE,\n",
    "    B.BANNER_VALUE,\n",
    "    C.CHANNEL_VALUE\n",
    "    D.PROVINCE_VALUE\n",
    "FROM \n",
    "    (SELECT \n",
    "        CUSTOMER_GROUP,\n",
    "        STORE_NAME,\n",
    "        STORE_NUM,\n",
    "        CHANNEL,\n",
    "        SALES_GROUP,\n",
    "        STORE_STREET,\n",
    "        STORE_PROVINCE,\n",
    "        Description,\n",
    "        Language_Grouping,\n",
    "        Category,\n",
    "        YEAR,\n",
    "        CASE \n",
    "            WHEN Category LIKE \"Households by%\" THEN SUM(val) / SUM(TOTAL_HOUSEHOLDS)\n",
    "            WHEN Category LIKE \"Household Population 15 Years or Over%\" THEN SUM(val) / SUM(TOTAL_HOUSEHOLD_POPULATION_15_YEARS_OR_OVER)\n",
    "            WHEN Category LIKE \"Household Population%\" AND Category NOT LIKE \"%15 Years or Over%\" THEN SUM(val) / SUM(TOTAL_HOUSEHOLD_POPULATION)\n",
    "            ELSE SUM(val) / SUM(TOTAL_POPULATION)\n",
    "        END AS STORE_VALUE\n",
    "    FROM IntermediateData2\n",
    "    GROUP BY CUSTOMER_GROUP, STORE_NAME, STORE_NUM, CHANNEL, SALES_GROUP, STORE_STREET, STORE_PROVINCE, Description, Language_Grouping, Category, YEAR) A\n",
    "JOIN \n",
    "    (SELECT \n",
    "        CUSTOMER_GROUP,\n",
    "        Description,\n",
    "        Language_Grouping,\n",
    "        Category,\n",
    "        YEAR,\n",
    "        CASE \n",
    "            WHEN Category LIKE \"Households by%\" THEN SUM(val) / SUM(TOTAL_HOUSEHOLDS)\n",
    "            WHEN Category LIKE \"Household Population 15 Years or Over%\" THEN SUM(val) / SUM(TOTAL_HOUSEHOLD_POPULATION_15_YEARS_OR_OVER)\n",
    "            WHEN Category LIKE \"Household Population%\" AND Category NOT LIKE \"%15 Years or Over%\" THEN SUM(val) / SUM(TOTAL_HOUSEHOLD_POPULATION)\n",
    "            ELSE SUM(val) / SUM(TOTAL_POPULATION)\n",
    "        END AS BANNER_VALUE\n",
    "    FROM IntermediateData2\n",
    "    GROUP BY CUSTOMER_GROUP, Description, Language_Grouping, Category, YEAR) B\n",
    "ON A.CUSTOMER_GROUP = B.CUSTOMER_GROUP\n",
    "   AND A.Description = B.Description\n",
    "   AND A.Language_Grouping = B.Language_Grouping\n",
    "   AND A.Category = B.Category\n",
    "   AND A.YEAR = B.YEAR\n",
    "\n",
    "\n",
    "JOIN \n",
    "    (SELECT \n",
    "        CUSTOMER_GROUP,\n",
    "        Description,\n",
    "        Language_Grouping,\n",
    "        Category,\n",
    "        YEAR,\n",
    "        CASE \n",
    "            WHEN Category LIKE \"Households by%\" THEN SUM(val) / SUM(TOTAL_HOUSEHOLDS)\n",
    "            WHEN Category LIKE \"Household Population 15 Years or Over%\" THEN SUM(val) / SUM(TOTAL_HOUSEHOLD_POPULATION_15_YEARS_OR_OVER)\n",
    "            WHEN Category LIKE \"Household Population%\" AND Category NOT LIKE \"%15 Years or Over%\" THEN SUM(val) / SUM(TOTAL_HOUSEHOLD_POPULATION)\n",
    "            ELSE SUM(val) / SUM(TOTAL_POPULATION)\n",
    "        END AS BANNER_VALUE\n",
    "    FROM IntermediateData2\n",
    "    GROUP BY CUSTOMER_GROUP, Description, Language_Grouping, Category, YEAR) B\n",
    "ON A.CUSTOMER_GROUP = B.CUSTOMER_GROUP\n",
    "   AND A.Description = B.Description\n",
    "   AND A.Language_Grouping = B.Language_Grouping\n",
    "   AND A.Category = B.Category\n",
    "   AND A.YEAR = B.YEAR\n",
    "\n",
    "\n",
    "JOIN \n",
    "    (SELECT \n",
    "        CUSTOMER_GROUP,\n",
    "        Description,\n",
    "        Language_Grouping,\n",
    "        Category,\n",
    "        YEAR,\n",
    "        CASE \n",
    "            WHEN Category LIKE \"Households by%\" THEN SUM(val) / SUM(TOTAL_HOUSEHOLDS)\n",
    "            WHEN Category LIKE \"Household Population 15 Years or Over%\" THEN SUM(val) / SUM(TOTAL_HOUSEHOLD_POPULATION_15_YEARS_OR_OVER)\n",
    "            WHEN Category LIKE \"Household Population%\" AND Category NOT LIKE \"%15 Years or Over%\" THEN SUM(val) / SUM(TOTAL_HOUSEHOLD_POPULATION)\n",
    "            ELSE SUM(val) / SUM(TOTAL_POPULATION)\n",
    "        END AS BANNER_VALUE\n",
    "    FROM IntermediateData2\n",
    "    GROUP BY CUSTOMER_GROUP, Description, Language_Grouping, Category, YEAR) B\n",
    "ON A.CUSTOMER_GROUP = B.CUSTOMER_GROUP\n",
    "   AND A.Description = B.Description\n",
    "   AND A.Language_Grouping = B.Language_Grouping\n",
    "   AND A.Category = B.Category\n",
    "   AND A.YEAR = B.YEAR"
   ]
  },
  {
   "cell_type": "markdown",
   "metadata": {
    "application/vnd.databricks.v1+cell": {
     "cellMetadata": {},
     "inputWidgets": {},
     "nuid": "7e4c312c-bd9b-4db0-a768-798ba7317f6c",
     "showTitle": false,
     "tableResultSettingsMap": {},
     "title": ""
    }
   },
   "source": [
    "no attraction involved below"
   ]
  },
  {
   "cell_type": "code",
   "execution_count": 0,
   "metadata": {
    "application/vnd.databricks.v1+cell": {
     "cellMetadata": {},
     "inputWidgets": {},
     "nuid": "c27046d6-291b-479f-b6ed-7b1643e45610",
     "showTitle": true,
     "tableResultSettingsMap": {},
     "title": "Calculate Customer Profiles including Overall Region Profile"
    }
   },
   "outputs": [],
   "source": [
    "customer_profiles = spark.sql(\"\"\"\n",
    "SELECT STORE.CUSTOMER_GROUP, STORE.STORE_PROFILE_REGION, Store.Description, Store.Category, STORE.CUSTOMER_VALUE, OVERALL.REGION_OVERALL_VALUE, STORE.CUSTOMER_VALUE/OVERALL.REGION_OVERALL_VALUE PROFILE_REGION_INDEX FROM (SELECT CUSTOMER_GROUP, \n",
    "CASE WHEN STORE_PROVINCE IN ('AB', 'SK', 'MB') THEN 'PRAIRIES'\n",
    "    WHEN STORE_PROVINCE IN ('NL', 'NS', 'PE', 'NB') THEN 'EAST'\n",
    "    WHEN STORE_PROVINCE IN ('YT', 'NT', 'NU') THEN 'NORTH'\n",
    "    ELSE STORE_PROVINCE END STORE_PROFILE_REGION,\n",
    "Description, Category, \n",
    "CASE WHEN Category LIKE \"Households by%\" THEN SUM(val)/SUM(TOTAL_HOUSEHOLDS)\n",
    "    WHEN Category LIKE \"Household Population 15 Years or Over%\" THEN SUM(val)/SUM(TOTAL_HOUSEHOLD_POPULATION_15_YEARS_OR_OVER)\n",
    "    WHEN Category LIKE \"Household Population%\" AND Category NOT LIKE \"%15 Years or Over%\" THEN SUM(val)/SUM(TOTAL_HOUSEHOLD_POPULATION)\n",
    "    ELSE SUM(val)/SUM(TOTAL_POPULATION) END CUSTOMER_VALUE\n",
    "FROM demostats_store_profiles\n",
    "WHERE CUSTOMER_GROUP LIKE \"%SOBEYS%\" AND NOT (CUSTOMER_GROUP = 'SO_SOBEYS WEST' AND STORE_PROVINCE = 'ON') AND NOT (CUSTOMER_GROUP LIKE '%SOBEYS%' AND STORE_PROVINCE = 'QC')\n",
    "GROUP BY 1,2,3,4) STORE\n",
    "LEFT JOIN (SELECT CASE WHEN EPCCF.PROV IN ('AB', 'SK', 'MB') THEN 'PRAIRIES'\n",
    "    WHEN EPCCF.PROV IN ('NL', 'NS', 'PE', 'NB') THEN 'EAST'\n",
    "    WHEN EPCCF.PROV IN ('YT', 'NT', 'NU') THEN 'NORTH'\n",
    "    ELSE EPCCF.PROV END PROV, MELT.Description, MELT.Category, \n",
    "CASE WHEN Category LIKE \"Households by%\" THEN SUM(val)/SUM(TOTAL_HOUSEHOLDS)\n",
    "    WHEN Category LIKE \"Household Population 15 Years or Over%\" THEN SUM(val)/SUM(TOTAL_HOUSEHOLD_POPULATION_15_YEARS_OR_OVER)\n",
    "    WHEN Category LIKE \"Household Population%\" AND Category NOT LIKE \"%15 Years or Over%\" THEN SUM(val)/SUM(TOTAL_HOUSEHOLD_POPULATION)\n",
    "    ELSE SUM(val)/SUM(TOTAL_POPULATION) END REGION_OVERALL_VALUE\n",
    "    FROM default.ldu_feature_vals_melted_df MELT\n",
    "LEFT JOIN (SELECT PRABB PROV, FSALDU FROM environics.epccf_unique) EPCCF\n",
    "    ON MELT.POSTALCODE = EPCCF.FSALDU\n",
    "GROUP BY 1,2,3) OVERALL ON STORE.STORE_PROFILE_REGION = OVERALL.PROV AND STORE.Description = OVERALL.Description AND STORE.Category = OVERALL.Category\n",
    "\"\"\")"
   ]
  },
  {
   "cell_type": "code",
   "execution_count": 0,
   "metadata": {
    "application/vnd.databricks.v1+cell": {
     "cellMetadata": {},
     "inputWidgets": {},
     "nuid": "a2a19810-43e3-4d22-adac-e1fd227432ac",
     "showTitle": true,
     "tableResultSettingsMap": {},
     "title": "Overall Region values"
    }
   },
   "outputs": [],
   "source": [
    "%sql\n",
    "SELECT CASE WHEN EPCCF.PROV IN ('AB', 'SK', 'MB') THEN 'PRAIRIES'\n",
    "    WHEN EPCCF.PROV IN ('NL', 'NS', 'PE', 'NB') THEN 'EAST'\n",
    "    WHEN EPCCF.PROV IN ('YT', 'NT', 'NU') THEN 'NORTH'\n",
    "    ELSE EPCCF.PROV END PROV, MELT.Description, MELT.Category, \n",
    "CASE WHEN Category LIKE \"Households by%\" THEN SUM(val)/SUM(TOTAL_HOUSEHOLDS)\n",
    "    WHEN Category LIKE \"Household Population 15 Years or Over%\" THEN SUM(val)/SUM(TOTAL_HOUSEHOLD_POPULATION_15_YEARS_OR_OVER)\n",
    "    WHEN Category LIKE \"Household Population%\" AND Category NOT LIKE \"%15 Years or Over%\" THEN SUM(val)/SUM(TOTAL_HOUSEHOLD_POPULATION)\n",
    "    ELSE SUM(val)/SUM(TOTAL_POPULATION) END REGION_OVERALL_VALUE\n",
    "    FROM default.ldu_feature_vals_melted_df MELT\n",
    "LEFT JOIN (SELECT PRABB PROV, FSALDU FROM environics.epccf_unique) EPCCF\n",
    "    ON MELT.POSTALCODE = EPCCF.FSALDU\n",
    "GROUP BY 1,2,3"
   ]
  },
  {
   "cell_type": "code",
   "execution_count": 0,
   "metadata": {
    "application/vnd.databricks.v1+cell": {
     "cellMetadata": {},
     "inputWidgets": {},
     "nuid": "71eb570b-3d9d-4bfc-9393-4af4d3ba5aba",
     "showTitle": false,
     "tableResultSettingsMap": {},
     "title": ""
    }
   },
   "outputs": [],
   "source": [
    "# customer_profiles.write.mode(\"overwrite\").option(\"overwriteSchema\", \"True\").format(\"delta\").saveAsTable(\n",
    "#     \"default.demostats_customer_profiles\"\n",
    "# )"
   ]
  },
  {
   "cell_type": "code",
   "execution_count": 0,
   "metadata": {
    "application/vnd.databricks.v1+cell": {
     "cellMetadata": {},
     "inputWidgets": {},
     "nuid": "b76a718b-dd24-4026-9787-74e5137bc04e",
     "showTitle": false,
     "tableResultSettingsMap": {},
     "title": ""
    }
   },
   "outputs": [],
   "source": [
    "%sql\n",
    "SELECT * FROM demostats_customer_profiles\n",
    "WHERE CUSTOMER_GROUP LIKE '%SOBEYS%'"
   ]
  }
 ],
 "metadata": {
  "application/vnd.databricks.v1+notebook": {
   "dashboards": [],
   "environmentMetadata": null,
   "language": "python",
   "notebookMetadata": {
    "pythonIndentUnit": 4
   },
   "notebookName": "Demostats & Socialvalues & Store profiling",
   "widgets": {}
  },
  "language_info": {
   "name": "python"
  }
 },
 "nbformat": 4,
 "nbformat_minor": 0
}
