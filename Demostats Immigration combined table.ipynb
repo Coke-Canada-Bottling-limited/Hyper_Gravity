{
 "cells": [
  {
   "cell_type": "code",
   "execution_count": 0,
   "metadata": {
    "application/vnd.databricks.v1+cell": {
     "cellMetadata": {
      "byteLimit": 2048000,
      "rowLimit": 10000
     },
     "inputWidgets": {},
     "nuid": "55ae6dba-eb51-465f-a387-96643e8e1dcf",
     "showTitle": false,
     "tableResultSettingsMap": {},
     "title": ""
    }
   },
   "outputs": [],
   "source": [
    "import math\n",
    "import numpy as np\n",
    "from pyspark.sql.window import Window\n",
    "from pyspark.sql.functions import *\n",
    "from pyspark.sql.types import (\n",
    "    StructType,\n",
    "    StructField,\n",
    "    StringType,\n",
    "    FloatType,\n",
    "    IntegerType,\n",
    "    ArrayType,\n",
    "    MapType,\n",
    "    DateType,\n",
    "    DoubleType,\n",
    "    BooleanType,\n",
    "    LongType,\n",
    ")"
   ]
  },
  {
   "cell_type": "code",
   "execution_count": 0,
   "metadata": {
    "application/vnd.databricks.v1+cell": {
     "cellMetadata": {
      "byteLimit": 2048000,
      "rowLimit": 10000
     },
     "inputWidgets": {},
     "nuid": "ebbe274a-e698-4a85-b208-5475897e23f1",
     "showTitle": false,
     "tableResultSettingsMap": {},
     "title": ""
    }
   },
   "outputs": [],
   "source": [
    "df = spark.sql(\"\"\"\n",
    "\n",
    "  SELECT unioned.*,`dim`.`Hierarchy_Description`,dim.MEDIAN_AVERAGE \t ,dim.ADD_TO_PROFILE \t,dim.LEAF_NODE_FLAG\t,dim.TOTAL_FLAG, dim.YEAR as WHOLE_YEAR\n",
    "\n",
    "  FROM (select * FROM environics.demostats_2023_all_pc_vars\n",
    "union\n",
    "select * from environics.demostats_2026_all_pc_vars\n",
    "union\n",
    "select * from environics.demostats_2028_all_pc_vars\n",
    "union\n",
    "select * from environics.demostats_2033_all_pc_vars\n",
    "union\n",
    "select * from environics.newtocanada_2024q1p1_all_pc_vars\n",
    "union \n",
    "select * from environics.newtocanada_2024q1p2_all_pc_vars\n",
    ")\n",
    "  As unioned\n",
    "left join hyper.master_demostats as dim ON  substr(dim.variable, 4) = substr(unioned.VARIABLES, 4)\n",
    "\n",
    "  WHERE unioned.CATEGORY IN (\n",
    "      SELECT DISTINCT dim.Category \n",
    "      FROM hyper.master_demostats_1001  AS dim \n",
    "      WHERE dim.ADD_TO_PROFILE = 1 or dim.YEAR IS NOT NULL\n",
    "  )\n",
    "AND dim.ADD_TO_PROFILE = 1 or dim.YEAR IS NOT NULL\n",
    "\"\"\")\n",
    "\n",
    "display(df)"
   ]
  },
  {
   "cell_type": "code",
   "execution_count": 0,
   "metadata": {
    "application/vnd.databricks.v1+cell": {
     "cellMetadata": {
      "byteLimit": 2048000,
      "rowLimit": 10000
     },
     "inputWidgets": {},
     "nuid": "1845ff3f-6273-43ac-bfa3-e3fa425db53d",
     "showTitle": false,
     "tableResultSettingsMap": {},
     "title": ""
    }
   },
   "outputs": [],
   "source": [
    "df= df.withColumn('YEAR', when(substring('VARIABLES', 0, 3)=='EHY', 2018).when(substring('VARIABLES', 0, 3)=='ECY', 2023).when(substring('VARIABLES', 0, 3)=='P3Y', 2026).when(substring('VARIABLES', 0, 3)=='P5Y', 2028).when(substring('VARIABLES', 0, 3)=='P0Y', 2033))\n",
    "\n",
    "df = df.withColumnRenamed('VARIABLES', 'variable')\n",
    "df = df.withColumnRenamed('VALUES', 'value')\n",
    "\n",
    "# display(df)"
   ]
  },
  {
   "cell_type": "code",
   "execution_count": 0,
   "metadata": {
    "application/vnd.databricks.v1+cell": {
     "cellMetadata": {
      "byteLimit": 2048000,
      "rowLimit": 10000
     },
     "inputWidgets": {},
     "nuid": "c08c6238-f41b-44e9-8e87-9f98aac2845f",
     "showTitle": false,
     "tableResultSettingsMap": {},
     "title": ""
    }
   },
   "outputs": [],
   "source": [
    "# remove all the special characters in Description column\n",
    "cleaned_df = (\n",
    "    df.withColumn(\n",
    "        \"Description\", regexp_replace(\"Description\", \" \\\\(Current Year \\\\$\\\\)\", \"\")\n",
    "    )\n",
    "    .withColumn(\n",
    "        \"Description\", regexp_replace(\"Description\", \"Côte d'Ivoire\", \"Cote d Ivoire\")\n",
    "    )\n",
    "    .withColumn(\n",
    "        \"Description\", regexp_replace(\"Description\", r\"[$,.\\-\" + \"'\" + r\"()]\", \"\")\n",
    "    )\n",
    "    )\n",
    "cleaned_df_2024 = cleaned_df.filter((col('YEAR') == '2024') | (col('WHOLE_YEAR').isNotNull()))"
   ]
  },
  {
   "cell_type": "code",
   "execution_count": 0,
   "metadata": {
    "application/vnd.databricks.v1+cell": {
     "cellMetadata": {
      "byteLimit": 2048000,
      "rowLimit": 10000
     },
     "inputWidgets": {},
     "nuid": "13331c05-8844-4e6a-b9b9-5e6e357a5a75",
     "showTitle": false,
     "tableResultSettingsMap": {},
     "title": ""
    }
   },
   "outputs": [],
   "source": [
    "display(cleaned_df_2024.filter(col('Category')=='23Q2 to 24Q1 - Temporary Resident - Region of Citizenship'))"
   ]
  },
  {
   "cell_type": "code",
   "execution_count": 0,
   "metadata": {
    "application/vnd.databricks.v1+cell": {
     "cellMetadata": {
      "byteLimit": 2048000,
      "rowLimit": 10000
     },
     "inputWidgets": {},
     "nuid": "cd606ad4-529b-4db0-bd90-ece5ed98d9f0",
     "showTitle": false,
     "tableResultSettingsMap": {},
     "title": ""
    }
   },
   "outputs": [],
   "source": [
    "\n",
    "# cleaned_df_2024 = cleaned_df.filter((col('YEAR') == '2024') | (col('WHOLE_YEAR').isNotNull()))\n",
    "# pivot_df_2024 = (\n",
    "#     cleaned_df_2024.groupBy(\"CODE\")\n",
    "#     .pivot(\"variable\")\n",
    "#     .agg(first(\"value\"))\n",
    "#     .withColumnRenamed(\"CODE\",\"POSTALCODE\")\n",
    "# )\n",
    "\n",
    "cleaned_df_2023 = cleaned_df.filter((col('YEAR').isin(2023, 2024)) | (col('WHOLE_YEAR').isNotNull()))\n",
    "pivot_df_2023 = (\n",
    "    cleaned_df_2023.groupBy(\"CODE\")\n",
    "    .pivot(\"variable\")\n",
    "    .agg(first(\"value\"))\n",
    "    .withColumnRenamed(\"CODE\",\"POSTALCODE\")\n",
    ")\n",
    "cleaned_df_2026 = cleaned_df.filter(col('YEAR')=='2026')\n",
    "pivot_df_2026 = (\n",
    "    cleaned_df_2026.filter(col('YEAR')=='2026').groupBy(\"CODE\")\n",
    "    .pivot(\"variable\")\n",
    "    .agg(first(\"value\"))\n",
    "    .withColumnRenamed(\"CODE\",\"POSTALCODE\")\n",
    ")\n",
    "cleaned_df_2028 = cleaned_df.filter(col('YEAR')=='2028')\n",
    "pivot_df_2028 = (\n",
    "    cleaned_df_2028.filter(col('YEAR')=='2028').groupBy(\"CODE\")\n",
    "    .pivot(\"variable\")\n",
    "    .agg(first(\"value\"))\n",
    "    .withColumnRenamed(\"CODE\",\"POSTALCODE\")\n",
    ")\n",
    "cleaned_df_2033 = cleaned_df.filter(col('YEAR')=='2033')\n",
    "pivot_df_2033 = (\n",
    "    cleaned_df_2033.filter(col('YEAR')=='2033').groupBy(\"CODE\")\n",
    "    .pivot(\"variable\")\n",
    "    .agg(first(\"value\"))\n",
    "    .withColumnRenamed(\"CODE\",\"POSTALCODE\")\n",
    ")\n",
    "\n",
    "# cleaned_df_immi = cleaned_df.filter(col('WHOLE_YEAR').isNotNull())\n",
    "# pivot_df_immi = (\n",
    "#     cleaned_df_immi.groupBy(\"CODE\")\n",
    "#     .pivot(\"variable\")\n",
    "#     .agg(first(\"value\"))\n",
    "#     .withColumnRenamed(\"CODE\",\"POSTALCODE\")\n",
    "# )"
   ]
  },
  {
   "cell_type": "code",
   "execution_count": 0,
   "metadata": {
    "application/vnd.databricks.v1+cell": {
     "cellMetadata": {
      "byteLimit": 2048000,
      "rowLimit": 10000
     },
     "inputWidgets": {},
     "nuid": "f09ad759-bb2e-4528-800c-b40c319cbae8",
     "showTitle": false,
     "tableResultSettingsMap": {
      "0": {
       "filterBlob": "{\"filterGroups\":[],\"syncTimestamp\":1729015511054}",
       "tableResultIndex": 0
      }
     },
     "title": ""
    }
   },
   "outputs": [],
   "source": [
    "display(cleaned_df_2023.filter(col('WHOLE_YEAR')==2024))"
   ]
  },
  {
   "cell_type": "code",
   "execution_count": 0,
   "metadata": {
    "application/vnd.databricks.v1+cell": {
     "cellMetadata": {
      "byteLimit": 2048000,
      "rowLimit": 10000
     },
     "inputWidgets": {},
     "nuid": "ba6a7f90-edab-40d4-be16-64cf567cd122",
     "showTitle": false,
     "tableResultSettingsMap": {},
     "title": ""
    }
   },
   "outputs": [],
   "source": [
    "\n",
    "\n",
    "# collist2024 = list(set(pivot_df_2024.columns) - set(['POSTALCODE', 'Total Household Population', 'Total Household Population 15 Years Or Over', 'Total Households', 'Total Population']))\n",
    "collist2023 = list(set(pivot_df_2023.columns) - set(['POSTALCODE', 'Total Household Population', 'Total Household Population 15 Years Or Over', 'Total Households', 'Total Population']))\n",
    "collist2026 = list(set(pivot_df_2026.columns) - set(['POSTALCODE', 'Total Household Population', 'Total Household Population 15 Years Or Over', 'Total Households', 'Total Population']))\n",
    "collist2028 = list(set(pivot_df_2028.columns) - set(['POSTALCODE', 'Total Household Population', 'Total Household Population 15 Years Or Over', 'Total Households', 'Total Population']))\n",
    "collist2033 = list(set(pivot_df_2033.columns) - set(['POSTALCODE', 'Total Household Population', 'Total Household Population 15 Years Or Over', 'Total Households', 'Total Population']))\n",
    "\n",
    "# collist_immi = list(set(pivot_df_immi.columns) - set(['POSTALCODE', 'Total Household Population', 'Total Household Population 15 Years Or Over', 'Total Households', 'Total Population']))"
   ]
  },
  {
   "cell_type": "code",
   "execution_count": 0,
   "metadata": {
    "application/vnd.databricks.v1+cell": {
     "cellMetadata": {
      "byteLimit": 2048000,
      "rowLimit": 10000
     },
     "inputWidgets": {},
     "nuid": "10c02f41-7418-4476-a809-b01f1df32672",
     "showTitle": false,
     "tableResultSettingsMap": {},
     "title": ""
    }
   },
   "outputs": [],
   "source": [
    "\n",
    "# melted_df_2024 = pivot_df_2024.melt(\n",
    "#     ids=['POSTALCODE'], values=collist2024,\n",
    "#     variableColumnName=\"variable\", valueColumnName=\"val\"\n",
    "# ).join(cleaned_df_2024.select('variable','Description', 'Category','Hierarchy_Description','MEDIAN_AVERAGE','ADD_TO_PROFILE','LEAF_NODE_FLAG','TOTAL_FLAG').distinct(), on='variable', how='left').join(pivot_df_2024.select('POSTALCODE', col('ECYBASHHD').alias('TOTAL_HOUSEHOLDS'), col('ECYBAS15HP').alias('TOTAL_HOUSEHOLD_POPULATION_15_YEARS_OR_OVER'), col('ECYBASHPOP').alias('TOTAL_HOUSEHOLD_POPULATION'), col('ECYBASPOP').alias('TOTAL_POPULATION')), on='POSTALCODE', how='inner').select('variable','POSTALCODE', 'Description', 'Category', 'val', 'TOTAL_HOUSEHOLDS', 'TOTAL_HOUSEHOLD_POPULATION', 'TOTAL_HOUSEHOLD_POPULATION_15_YEARS_OR_OVER', 'TOTAL_POPULATION','Hierarchy_Description','MEDIAN_AVERAGE','ADD_TO_PROFILE','LEAF_NODE_FLAG','TOTAL_FLAG').withColumn('YEAR', lit(2024))\n",
    "\n",
    "\n",
    "melted_df_2023 = pivot_df_2023.melt(\n",
    "    ids=['POSTALCODE'], values=collist2023,\n",
    "    variableColumnName=\"variable\", valueColumnName=\"val\"\n",
    ").join(cleaned_df_2023.select('variable','Description', 'Category','Hierarchy_Description','MEDIAN_AVERAGE','ADD_TO_PROFILE','LEAF_NODE_FLAG','TOTAL_FLAG').distinct(), on='variable', how='left').join(pivot_df_2023.select('POSTALCODE', col('ECYBASHHD').alias('TOTAL_HOUSEHOLDS'), col('ECYBAS15HP').alias('TOTAL_HOUSEHOLD_POPULATION_15_YEARS_OR_OVER'), col('ECYBASHPOP').alias('TOTAL_HOUSEHOLD_POPULATION'), col('ECYBASPOP').alias('TOTAL_POPULATION')), on='POSTALCODE', how='inner').select('variable','POSTALCODE', 'Description', 'Category', 'val', 'TOTAL_HOUSEHOLDS', 'TOTAL_HOUSEHOLD_POPULATION', 'TOTAL_HOUSEHOLD_POPULATION_15_YEARS_OR_OVER', 'TOTAL_POPULATION','Hierarchy_Description','MEDIAN_AVERAGE','ADD_TO_PROFILE','LEAF_NODE_FLAG','TOTAL_FLAG').withColumn('YEAR', when(col('variable').startswith('NC24'), lit(2024)).otherwise(lit(2023)))\n",
    "\n",
    "# melted_df_immi = pivot_df_immi.melt(\n",
    "#     ids=['POSTALCODE'], values=collist_immi,\n",
    "#     variableColumnName=\"variable\", valueColumnName=\"val\"\n",
    "# ).join(cleaned_df_2023.select('variable','Description', 'Category','Hierarchy_Description','MEDIAN_AVERAGE','ADD_TO_PROFILE','LEAF_NODE_FLAG','TOTAL_FLAG').distinct(), on='variable', how='left').join(pivot_df_immi.select('POSTALCODE', col('ECYBASHHD').alias('TOTAL_HOUSEHOLDS'), col('ECYBAS15HP').alias('TOTAL_HOUSEHOLD_POPULATION_15_YEARS_OR_OVER'), col('ECYBASHPOP').alias('TOTAL_HOUSEHOLD_POPULATION'), col('ECYBASPOP').alias('TOTAL_POPULATION')), on='POSTALCODE', how='inner').select('variable','POSTALCODE', 'Description', 'Category', 'val', 'TOTAL_HOUSEHOLDS', 'TOTAL_HOUSEHOLD_POPULATION', 'TOTAL_HOUSEHOLD_POPULATION_15_YEARS_OR_OVER', 'TOTAL_POPULATION','Hierarchy_Description','MEDIAN_AVERAGE','ADD_TO_PROFILE','LEAF_NODE_FLAG','TOTAL_FLAG').withColumn('YEAR', lit(2023))\n",
    "\n",
    "\n",
    "melted_df_2026 = pivot_df_2026.melt(\n",
    "    ids=['POSTALCODE'], values=collist2026,\n",
    "    variableColumnName=\"variable\", valueColumnName=\"val\"\n",
    ").join(cleaned_df_2026.select('variable','Description', 'Category','Hierarchy_Description','MEDIAN_AVERAGE','ADD_TO_PROFILE','LEAF_NODE_FLAG','TOTAL_FLAG').distinct(), on='variable', how='left').join(pivot_df_2026.select('POSTALCODE', col('P3YBASHHD').alias('TOTAL_HOUSEHOLDS'), col('P3YBAS15HP').alias('TOTAL_HOUSEHOLD_POPULATION_15_YEARS_OR_OVER'), col('P3YBASHPOP').alias('TOTAL_HOUSEHOLD_POPULATION'), col('P3YBASPOP').alias('TOTAL_POPULATION')), on='POSTALCODE', how='inner').select('variable','POSTALCODE', 'Description', 'Category', 'val', 'TOTAL_HOUSEHOLDS', 'TOTAL_HOUSEHOLD_POPULATION', 'TOTAL_HOUSEHOLD_POPULATION_15_YEARS_OR_OVER', 'TOTAL_POPULATION','Hierarchy_Description','MEDIAN_AVERAGE','ADD_TO_PROFILE','LEAF_NODE_FLAG','TOTAL_FLAG').withColumn('YEAR', lit(2026))\n",
    "\n",
    "melted_df_2028 = pivot_df_2028.melt(\n",
    "    ids=['POSTALCODE'], values=collist2028,\n",
    "    variableColumnName=\"variable\", valueColumnName=\"val\"\n",
    ").join(cleaned_df_2028.select('variable','Description', 'Category','Hierarchy_Description','MEDIAN_AVERAGE','ADD_TO_PROFILE','LEAF_NODE_FLAG','TOTAL_FLAG').distinct(), on='variable', how='left').join(pivot_df_2028.select('POSTALCODE', col('P5YBASHHD').alias('TOTAL_HOUSEHOLDS'), col('P5YBAS15HP').alias('TOTAL_HOUSEHOLD_POPULATION_15_YEARS_OR_OVER'), col('P5YBASHPOP').alias('TOTAL_HOUSEHOLD_POPULATION'), col('P5YBASPOP').alias('TOTAL_POPULATION')), on='POSTALCODE', how='inner').select('variable','POSTALCODE', 'Description', 'Category', 'val', 'TOTAL_HOUSEHOLDS', 'TOTAL_HOUSEHOLD_POPULATION', 'TOTAL_HOUSEHOLD_POPULATION_15_YEARS_OR_OVER', 'TOTAL_POPULATION','Hierarchy_Description','MEDIAN_AVERAGE','ADD_TO_PROFILE','LEAF_NODE_FLAG','TOTAL_FLAG').withColumn('YEAR', lit(2028))\n",
    "\n",
    "melted_df_2033 = pivot_df_2033.melt(\n",
    "    ids=['POSTALCODE'], values=collist2033,\n",
    "    variableColumnName=\"variable\", valueColumnName=\"val\"\n",
    ").join(cleaned_df_2033.select('variable','Description', 'Category','Hierarchy_Description','MEDIAN_AVERAGE','ADD_TO_PROFILE','LEAF_NODE_FLAG','TOTAL_FLAG').distinct(), on='variable', how='left').join(pivot_df_2033.select('POSTALCODE', col('P0YBASHHD').alias('TOTAL_HOUSEHOLDS'), col('P0YBAS15HP').alias('TOTAL_HOUSEHOLD_POPULATION_15_YEARS_OR_OVER'), col('P0YBASHPOP').alias('TOTAL_HOUSEHOLD_POPULATION'), col('P0YBASPOP').alias('TOTAL_POPULATION')), on='POSTALCODE', how='inner').select('variable','POSTALCODE', 'Description', 'Category', 'val', 'TOTAL_HOUSEHOLDS', 'TOTAL_HOUSEHOLD_POPULATION', 'TOTAL_HOUSEHOLD_POPULATION_15_YEARS_OR_OVER', 'TOTAL_POPULATION','Hierarchy_Description','MEDIAN_AVERAGE','ADD_TO_PROFILE','LEAF_NODE_FLAG','TOTAL_FLAG').withColumn('YEAR', lit(2033))\n",
    "\n",
    "melted_df = melted_df_2023.union(melted_df_2026).union(melted_df_2028).union(melted_df_2033)\n",
    "# melted_df.show()"
   ]
  },
  {
   "cell_type": "code",
   "execution_count": 0,
   "metadata": {
    "application/vnd.databricks.v1+cell": {
     "cellMetadata": {
      "byteLimit": 2048000,
      "rowLimit": 10000
     },
     "inputWidgets": {},
     "nuid": "cd6ba2e1-e44e-4255-a11b-5eefb511f019",
     "showTitle": false,
     "tableResultSettingsMap": {},
     "title": ""
    }
   },
   "outputs": [],
   "source": [
    "display(melted_df.filter(melted_df.Category.contains('23Q2 to 24Q1 - Temporary Resident - Region of Citizenship')))"
   ]
  },
  {
   "cell_type": "code",
   "execution_count": 0,
   "metadata": {
    "application/vnd.databricks.v1+cell": {
     "cellMetadata": {
      "byteLimit": 2048000,
      "rowLimit": 10000
     },
     "inputWidgets": {},
     "nuid": "662cc9f9-efc9-4d09-8a45-56d96ec1e6f5",
     "showTitle": false,
     "tableResultSettingsMap": {},
     "title": ""
    }
   },
   "outputs": [],
   "source": [
    " \n",
    "melted_df.write.mode(\"overwrite\").option(\"overwriteSchema\", \"True\").format(\"delta\").saveAsTable(\n",
    "    \"hyper.ldu_feature_vals_melted_df_master_immi_combined_1015\"\n",
    ")"
   ]
  },
  {
   "cell_type": "markdown",
   "metadata": {
    "application/vnd.databricks.v1+cell": {
     "cellMetadata": {},
     "inputWidgets": {},
     "nuid": "ce42a783-fc75-4938-abad-e915cecd07db",
     "showTitle": false,
     "tableResultSettingsMap": {},
     "title": ""
    }
   },
   "source": [
    "# **=================================**"
   ]
  },
  {
   "cell_type": "code",
   "execution_count": 0,
   "metadata": {
    "application/vnd.databricks.v1+cell": {
     "cellMetadata": {
      "byteLimit": 2048000,
      "implicitDf": true,
      "rowLimit": 10000
     },
     "inputWidgets": {},
     "nuid": "7f903a0f-d28c-4c9a-958e-1411ff227690",
     "showTitle": false,
     "tableResultSettingsMap": {},
     "title": ""
    }
   },
   "outputs": [],
   "source": [
    "%sql\n",
    "create table hyper.ldu_feature_vals_melted_df_master_immi_combined_0924 as (\n",
    "select * from hyper.ldu_feature_vals_melted_df_master_variable_0920\n",
    "union \n",
    "select * from hyper.ldu_feature_vals_melted_df_master_immigration_0924\n",
    "\n",
    ")"
   ]
  },
  {
   "cell_type": "code",
   "execution_count": 0,
   "metadata": {
    "application/vnd.databricks.v1+cell": {
     "cellMetadata": {
      "byteLimit": 2048000,
      "rowLimit": 10000
     },
     "inputWidgets": {},
     "nuid": "eb993cd4-d18d-4515-ba26-736941adfe25",
     "showTitle": false,
     "tableResultSettingsMap": {},
     "title": ""
    }
   },
   "outputs": [],
   "source": [
    "df_tmp=spark.sql(\"\"\"\n",
    "                 select * from ldu_feature_vals_melted_df_master_immi_combined_1015\n",
    "                 \"\"\")"
   ]
  },
  {
   "cell_type": "code",
   "execution_count": 0,
   "metadata": {
    "application/vnd.databricks.v1+cell": {
     "cellMetadata": {
      "byteLimit": 2048000,
      "implicitDf": true,
      "rowLimit": 10000
     },
     "inputWidgets": {},
     "nuid": "c7056e0d-2736-4817-9d6d-c88674ceb815",
     "showTitle": false,
     "tableResultSettingsMap": {},
     "title": ""
    }
   },
   "outputs": [],
   "source": [
    "%sql\n",
    "SELECT STORE_NUM, BANNER, STORE_PROVINCE, COUNT(DISTINCT STORE_NAME) as count\n",
    "FROM hyper.store_LDU_attraction_f_halfp_0927\n",
    "GROUP BY STORE_NUM, BANNER, STORE_PROVINCE\n",
    "HAVING COUNT(DISTINCT STORE_NAME) > 1"
   ]
  },
  {
   "cell_type": "code",
   "execution_count": 0,
   "metadata": {
    "application/vnd.databricks.v1+cell": {
     "cellMetadata": {
      "byteLimit": 2048000,
      "implicitDf": true,
      "rowLimit": 10000
     },
     "inputWidgets": {},
     "nuid": "a8beac7e-cb19-486a-8d66-44563f1d26c3",
     "showTitle": false,
     "tableResultSettingsMap": {},
     "title": ""
    }
   },
   "outputs": [],
   "source": [
    "%sql\n",
    "SELECT STORE.CUSTOMER_GROUP, FIRST(STORE.STORE_NAME), STORE.STORE_NUM, STORE.CHANNEL, STORE.SALES_GROUP,STORE.BANNER,STORE.STORE_STREET, STORE.STORE_PROVINCE,STORE.STORE_LATITUDE,STORE.STORE_LONGITUDE, MELTED.variable, MELTED.Description, LMAP.Language_Grouping, MELTED.Category, MELTED.YEAR,SUM(STORE.PERCENT_ATTRACTION*MELTED.val)  val, SUM(STORE.PERCENT_ATTRACTION*MELTED.TOTAL_HOUSEHOLDS) TOTAL_HOUSEHOLDS, SUM(STORE.PERCENT_ATTRACTION*MELTED.TOTAL_HOUSEHOLD_POPULATION) TOTAL_HOUSEHOLD_POPULATION, SUM(STORE.PERCENT_ATTRACTION*MELTED.TOTAL_HOUSEHOLD_POPULATION_15_YEARS_OR_OVER) TOTAL_HOUSEHOLD_POPULATION_15_YEARS_OR_OVER, SUM(STORE.PERCENT_ATTRACTION*MELTED.TOTAL_POPULATION) TOTAL_POPULATION, first(MELTED.Hierarchy_Description) as Hierarchy_Description, first(MELTED.MEDIAN_AVERAGE) as MEDIAN_AVERAGE, first(MELTED.ADD_TO_PROFILE) as ADD_TO_PROFILE, first(MELTED.LEAF_NODE_FLAG) as LEAF_NODE_FLAG, first(MELTED.TOTAL_FLAG) as TOTAL_FLAG\n",
    "\n",
    "\n",
    "FROM hyper.store_LDU_attraction_f_halfp_0930 STORE \n",
    "LEFT JOIN hyper.ldu_feature_vals_melted_df_master_immi_combined_1001 MELTED ON STORE.POSTALCODE = MELTED.POSTALCODE\n",
    "LEFT JOIN default.language_mapping LMAP ON MELTED.variable = LMAP.Variable\n",
    "WHERE MELTED.Category NOT IN ('Trends', 'Attitudes') AND MELTED.val IS NOT NULL\n",
    "GROUP BY STORE.CUSTOMER_GROUP, STORE.STORE_NAME,STORE.STORE_NUM,  STORE.CHANNEL, STORE.SALES_GROUP, STORE.BANNER,STORE.STORE_STREET,STORE.STORE_LONGITUDE,STORE.STORE_LATITUDE,  STORE.STORE_PROVINCE, MELTED.variable,MELTED.Description,LMAP.Language_Grouping,  MELTED.Category, YEAR"
   ]
  },
  {
   "cell_type": "code",
   "execution_count": 0,
   "metadata": {
    "application/vnd.databricks.v1+cell": {
     "cellMetadata": {
      "byteLimit": 2048000,
      "rowLimit": 10000
     },
     "collapsed": true,
     "inputWidgets": {},
     "nuid": "a38007bb-566b-4727-9adc-8a314bb23629",
     "showTitle": false,
     "tableResultSettingsMap": {},
     "title": ""
    }
   },
   "outputs": [],
   "source": [
    "store_profiles_df = spark.sql(\"\"\"\n",
    "SELECT STORE.CUSTOMER_GROUP, STORE.STORE_NAME, STORE.STORE_NUM, STORE.CHANNEL, STORE.SALES_GROUP,STORE.BANNER,STORE.STORE_STREET, STORE.STORE_PROVINCE,STORE.STORE_LATITUDE,STORE.STORE_LONGITUDE, MELTED.variable, MELTED.Description, LMAP.Language_Grouping, MELTED.Category, MELTED.YEAR,SUM(STORE.PERCENT_ATTRACTION*MELTED.val)  val, SUM(STORE.PERCENT_ATTRACTION*MELTED.TOTAL_HOUSEHOLDS) TOTAL_HOUSEHOLDS, SUM(STORE.PERCENT_ATTRACTION*MELTED.TOTAL_HOUSEHOLD_POPULATION) TOTAL_HOUSEHOLD_POPULATION, SUM(STORE.PERCENT_ATTRACTION*MELTED.TOTAL_HOUSEHOLD_POPULATION_15_YEARS_OR_OVER) TOTAL_HOUSEHOLD_POPULATION_15_YEARS_OR_OVER, SUM(STORE.PERCENT_ATTRACTION*MELTED.TOTAL_POPULATION) TOTAL_POPULATION, first(MELTED.Hierarchy_Description) as Hierarchy_Description, first(MELTED.MEDIAN_AVERAGE) as MEDIAN_AVERAGE, first(MELTED.ADD_TO_PROFILE) as ADD_TO_PROFILE, first(MELTED.LEAF_NODE_FLAG) as LEAF_NODE_FLAG, first(MELTED.TOTAL_FLAG) as TOTAL_FLAG\n",
    "\n",
    "-- CASE WHEN MELTED.Category LIKE \"Households by%\" THEN SUM(STORE.PERCENT_ATTRACTION*MELTED.val)/SUM(STORE.PERCENT_ATTRACTION*MELTED.TOTAL_HOUSEHOLDS)\n",
    "--     WHEN MELTED.Category LIKE \"Household Population 15 Years or Over%\"  THEN SUM(STORE.PERCENT_ATTRACTION*MELTED.val)/SUM(STORE.PERCENT_ATTRACTION*MELTED.TOTAL_HOUSEHOLD_POPULATION_15_YEARS_OR_OVER)\n",
    "--     WHEN MELTED.Category LIKE \"Household Population%\" AND MELTED.Category NOT LIKE \"%15 Years or Over%\" THEN SUM(STORE.PERCENT_ATTRACTION*MELTED.val)/SUM(STORE.PERCENT_ATTRACTION*MELTED.TOTAL_HOUSEHOLD_POPULATION)\n",
    "--     ELSE SUM(STORE.PERCENT_ATTRACTION*MELTED.val)/SUM(STORE.PERCENT_ATTRACTION*MELTED.TOTAL_POPULATION) END STORE_VALUE\n",
    "FROM hyper.store_LDU_attraction_f_halfp_0927 STORE \n",
    "LEFT JOIN hyper.ldu_feature_vals_melted_df_master_immi_combined_0927 MELTED ON STORE.POSTALCODE = MELTED.POSTALCODE\n",
    "LEFT JOIN default.language_mapping LMAP ON MELTED.variable = LMAP.Variable\n",
    "WHERE MELTED.Category NOT IN ('Trends', 'Attitudes') AND MELTED.val IS NOT NULL\n",
    "GROUP BY STORE.CUSTOMER_GROUP, STORE.STORE_NAME,STORE.STORE_NUM,  STORE.CHANNEL, STORE.SALES_GROUP, STORE.BANNER,STORE.STORE_STREET,STORE.STORE_LONGITUDE,STORE.STORE_LATITUDE,  STORE.STORE_PROVINCE, MELTED.variable,MELTED.Description,LMAP.Language_Grouping,  MELTED.Category, YEAR\n",
    "\"\"\"\n",
    ")\n"
   ]
  },
  {
   "cell_type": "code",
   "execution_count": 0,
   "metadata": {
    "application/vnd.databricks.v1+cell": {
     "cellMetadata": {
      "byteLimit": 2048000,
      "rowLimit": 10000
     },
     "inputWidgets": {},
     "nuid": "610cefc8-297c-4164-ba62-fe0377b20c4a",
     "showTitle": false,
     "tableResultSettingsMap": {},
     "title": ""
    }
   },
   "outputs": [],
   "source": [
    "store_profiles_df = spark.sql(\"\"\"\n",
    "SELECT STORE.CUSTOMER_GROUP, FIRST(STORE.STORE_NAME) as STORE_NAME, STORE.STORE_NUM, STORE.CHANNEL, STORE.SALES_GROUP,STORE.BANNER,STORE.STORE_STREET, STORE.STORE_PROVINCE,STORE.STORE_LATITUDE,STORE.STORE_LONGITUDE, MELTED.variable, MELTED.Description, LMAP.Language_Grouping, MELTED.Category, MELTED.YEAR,SUM(STORE.PERCENT_ATTRACTION*MELTED.val)  val, SUM(STORE.PERCENT_ATTRACTION*MELTED.TOTAL_HOUSEHOLDS) TOTAL_HOUSEHOLDS, SUM(STORE.PERCENT_ATTRACTION*MELTED.TOTAL_HOUSEHOLD_POPULATION) TOTAL_HOUSEHOLD_POPULATION, SUM(STORE.PERCENT_ATTRACTION*MELTED.TOTAL_HOUSEHOLD_POPULATION_15_YEARS_OR_OVER) TOTAL_HOUSEHOLD_POPULATION_15_YEARS_OR_OVER, SUM(STORE.PERCENT_ATTRACTION*MELTED.TOTAL_POPULATION) TOTAL_POPULATION, first(MELTED.Hierarchy_Description) as Hierarchy_Description, first(MELTED.MEDIAN_AVERAGE) as MEDIAN_AVERAGE, first(MELTED.ADD_TO_PROFILE) as ADD_TO_PROFILE, first(MELTED.LEAF_NODE_FLAG) as LEAF_NODE_FLAG, first(MELTED.TOTAL_FLAG) as TOTAL_FLAG\n",
    "\n",
    "\n",
    "FROM hyper.store_LDU_attraction_f_halfp_0927 STORE \n",
    "LEFT JOIN hyper.ldu_feature_vals_melted_df_master_immi_combined_1015 MELTED ON STORE.POSTALCODE = MELTED.POSTALCODE\n",
    "LEFT JOIN default.language_mapping LMAP ON MELTED.variable = LMAP.Variable\n",
    "WHERE MELTED.Category NOT IN ('Trends', 'Attitudes') AND MELTED.val IS NOT NULL\n",
    "GROUP BY STORE.CUSTOMER_GROUP, STORE.STORE_NAME,STORE.STORE_NUM,  STORE.CHANNEL, STORE.SALES_GROUP, STORE.BANNER,STORE.STORE_STREET,STORE.STORE_LONGITUDE,STORE.STORE_LATITUDE,  STORE.STORE_PROVINCE, MELTED.variable,MELTED.Description,LMAP.Language_Grouping,  MELTED.Category, YEAR\n",
    "\"\"\"\n",
    ")\n"
   ]
  },
  {
   "cell_type": "code",
   "execution_count": 0,
   "metadata": {
    "application/vnd.databricks.v1+cell": {
     "cellMetadata": {
      "byteLimit": 2048000,
      "rowLimit": 10000
     },
     "inputWidgets": {},
     "nuid": "d862733a-3d27-4bc4-ab27-05bc6af57829",
     "showTitle": false,
     "tableResultSettingsMap": {},
     "title": ""
    }
   },
   "outputs": [],
   "source": [
    "\n",
    "store_profiles_df = store_profiles_df.withColumn(\n",
    "    \"STORE_CHAIN\",\n",
    "    when((col(\"CUSTOMER_GROUP\") == 'AOL_AO LOCAL') | (col(\"CUSTOMER_GROUP\") == 'AON_AO NATL RETAIL'), regexp_replace(col(\"STORE_NAME\"), r\"#\\d+\\s*[A-Z]*\\s*[A-Z]*\\s*\", \"\"))\n",
    "    .otherwise(col(\"CUSTOMER_GROUP\"))\n",
    ")"
   ]
  },
  {
   "cell_type": "code",
   "execution_count": 0,
   "metadata": {
    "application/vnd.databricks.v1+cell": {
     "cellMetadata": {
      "byteLimit": 2048000,
      "rowLimit": 10000
     },
     "inputWidgets": {},
     "nuid": "6d7cf761-e1df-4d47-a289-576ccb229a28",
     "showTitle": false,
     "tableResultSettingsMap": {},
     "title": ""
    }
   },
   "outputs": [],
   "source": [
    "\n",
    "\n",
    "store_profiles_df = store_profiles_df.withColumn(\n",
    "    'Region',\n",
    "    when(col(\"STORE_PROVINCE\") == 'ON', 'ONTARIO')\n",
    "    .when(col(\"STORE_PROVINCE\") == 'QC', 'QUEBEC')\n",
    "    .when(col(\"STORE_PROVINCE\").isin(['AB', 'BC', 'MB', 'SK', 'YT', 'NT']), 'WEST')\n",
    "    .when(col(\"STORE_PROVINCE\").isin(['NS', 'NB', 'NL', 'PE']), 'EAST')\n",
    "    .otherwise(col(\"STORE_PROVINCE\"))\n",
    ")"
   ]
  },
  {
   "cell_type": "code",
   "execution_count": 0,
   "metadata": {
    "application/vnd.databricks.v1+cell": {
     "cellMetadata": {
      "byteLimit": 2048000,
      "rowLimit": 10000
     },
     "inputWidgets": {},
     "nuid": "6ac5dc45-c785-413e-bb97-045c0e16f889",
     "showTitle": false,
     "tableResultSettingsMap": {},
     "title": ""
    }
   },
   "outputs": [],
   "source": [
    "store_profiles_df = store_profiles_df.withColumn(\"LONGITUDE\", lit(None).cast('double'))\n",
    "store_profiles_df = store_profiles_df.withColumn(\"LATITUDE\", lit(None).cast('double'))\n",
    "\n",
    "windowPartition = Window.partitionBy(['BANNER','variable','YEAR'])\n",
    "store_profiles_df = store_profiles_df.withColumn(\"BANNER_VALUE\", sum('val').over(windowPartition)/sum('TOTAL_POPULATION').over(windowPartition))\n",
    "\n",
    "windowPartition = Window.partitionBy(['Category','BANNER','STORE_NAME','YEAR'])\n",
    "store_profiles_df = store_profiles_df.withColumn('BANNER_VALUE_PERCENT', col('BANNER_VALUE') / sum(when(col('LEAF_NODE_FLAG') == 1, col('BANNER_VALUE')).otherwise(0)).over(windowPartition)).select('STORE_CHAIN','BANNER',\t'STORE_NAME',\t'STORE_NUM',\t'CHANNEL',\t'SALES_GROUP',\t'STORE_STREET','STORE_LONGITUDE','STORE_LATITUDE'\t,'STORE_PROVINCE','Region',\t'variable','Description',\t'Language_Grouping',\t'Category',\t'YEAR',\t'val',\t'TOTAL_HOUSEHOLDS',\t'TOTAL_HOUSEHOLD_POPULATION',\t'TOTAL_HOUSEHOLD_POPULATION_15_YEARS_OR_OVER',\t'TOTAL_POPULATION',\t'BANNER_VALUE_PERCENT','Hierarchy_Description','MEDIAN_AVERAGE','ADD_TO_PROFILE','LEAF_NODE_FLAG','TOTAL_FLAG')\n",
    "\n",
    "windowPartition = Window.partitionBy(['Region', 'CHANNEL','variable','YEAR'])\n",
    "windowPartition2 = Window.partitionBy(['Region', 'CHANNEL','STORE_NUM','variable','YEAR'])\n",
    "store_profiles_df = store_profiles_df.withColumn(\"CHANNEL_RE_VALUE\", sum('val').over(windowPartition)/sum('TOTAL_POPULATION').over(windowPartition))\n",
    "\n",
    "\n",
    "windowPartition = Window.partitionBy(['Region', 'CHANNEL','STORE_NAME','Category','YEAR'])\n",
    "store_profiles_df = store_profiles_df.withColumn('CHANNEL_RE_VALUE_PERCENT', col('CHANNEL_RE_VALUE')/sum(when(col('LEAF_NODE_FLAG') == 1, col('CHANNEL_RE_VALUE')).otherwise(0)).over(windowPartition)).select('STORE_CHAIN',\t'BANNER','STORE_NAME',\t'STORE_NUM',\t'CHANNEL',\t'SALES_GROUP',\t'STORE_STREET',\t'STORE_LONGITUDE','STORE_LATITUDE','STORE_PROVINCE','Region','variable',\t'Description',\t'Language_Grouping',\t'Category',\t'YEAR',\t'val',\t'TOTAL_HOUSEHOLDS',\t'TOTAL_HOUSEHOLD_POPULATION',\t'TOTAL_HOUSEHOLD_POPULATION_15_YEARS_OR_OVER',\t'TOTAL_POPULATION',\t'BANNER_VALUE_PERCENT','CHANNEL_RE_VALUE_PERCENT','Hierarchy_Description','MEDIAN_AVERAGE','ADD_TO_PROFILE','LEAF_NODE_FLAG','TOTAL_FLAG')\n",
    "\n",
    "\n",
    "windowPartition = Window.partitionBy(['Region','variable','YEAR'])\n",
    "windowPartition2 = Window.partitionBy(['Region','STORE_NUM','variable','YEAR'])\n",
    "store_profiles_df = store_profiles_df.withColumn(\"REGION_VALUE\", sum('val').over(windowPartition)/sum('TOTAL_POPULATION').over(windowPartition))\n",
    "\n",
    "windowPartition = Window.partitionBy(['Region','STORE_NAME','Category'])\n",
    "store_profiles_df = store_profiles_df.withColumn('REGION_VALUE_PERCENT', col('REGION_VALUE')/sum(when(col('LEAF_NODE_FLAG') == 1, col('REGION_VALUE')).otherwise(0)).over(windowPartition)).select('STORE_CHAIN','BANNER',\t'STORE_NAME',\t'STORE_NUM',\t'CHANNEL',\t'SALES_GROUP',\t'STORE_STREET',\t'STORE_LONGITUDE','STORE_LATITUDE','STORE_PROVINCE','Region','variable',\t'Description',\t'Language_Grouping',\t'Category',\t'YEAR',\t'val',\t'TOTAL_HOUSEHOLDS',\t'TOTAL_HOUSEHOLD_POPULATION',\t'TOTAL_HOUSEHOLD_POPULATION_15_YEARS_OR_OVER',\t'TOTAL_POPULATION',\t'BANNER_VALUE_PERCENT','CHANNEL_RE_VALUE_PERCENT','REGION_VALUE_PERCENT','Hierarchy_Description','MEDIAN_AVERAGE','ADD_TO_PROFILE','LEAF_NODE_FLAG','TOTAL_FLAG')\n",
    "\n",
    "\n",
    "windowPartition = Window.partitionBy(['CHANNEL','variable','YEAR'])\n",
    "windowPartition2 = Window.partitionBy(['STORE_NUM', 'CHANNEL','variable','YEAR'])#['STORE_NUM', 'CUSTOMER_GROUP'])\n",
    "store_profiles_df = store_profiles_df.withColumn(\"CHANNEL_VALUE\", sum('val').over(windowPartition)/sum('TOTAL_POPULATION').over(windowPartition))\n",
    "\n",
    "windowPartition = Window.partitionBy(['CHANNEL','STORE_NAME','Category','YEAR'])\n",
    "store_profiles_df = store_profiles_df.withColumn('CHANNEL_VALUE_PERCENT', col('CHANNEL_VALUE')/sum(when(col('LEAF_NODE_FLAG') == 1, col('CHANNEL_VALUE')).otherwise(0)).over(windowPartition)).select('STORE_CHAIN','BANNER',\t'STORE_NAME',\t'STORE_NUM',\t'CHANNEL',\t'SALES_GROUP',\t'STORE_STREET',\t'STORE_LONGITUDE','STORE_LATITUDE','STORE_PROVINCE','Region','variable',\t'Description',\t'Language_Grouping',\t'Category',\t'YEAR',\t'val',\t'TOTAL_HOUSEHOLDS',\t'TOTAL_HOUSEHOLD_POPULATION',\t'TOTAL_HOUSEHOLD_POPULATION_15_YEARS_OR_OVER',\t'TOTAL_POPULATION',\t'BANNER_VALUE_PERCENT','CHANNEL_RE_VALUE_PERCENT','REGION_VALUE_PERCENT','CHANNEL_VALUE_PERCENT','Hierarchy_Description','MEDIAN_AVERAGE','LEAF_NODE_FLAG','TOTAL_FLAG')\n",
    "# display(store_profiles_df)\n"
   ]
  },
  {
   "cell_type": "code",
   "execution_count": 0,
   "metadata": {
    "application/vnd.databricks.v1+cell": {
     "cellMetadata": {
      "byteLimit": 2048000,
      "rowLimit": 10000
     },
     "inputWidgets": {},
     "nuid": "466c0474-e633-4578-8034-2a969209e514",
     "showTitle": false,
     "tableResultSettingsMap": {},
     "title": ""
    }
   },
   "outputs": [],
   "source": [
    "store_profiles_df.write.mode(\"overwrite\").option(\"overwriteSchema\", \"True\").format(\"delta\").saveAsTable(\n",
    "    \"hyper.demostats_store_profiles_immi_combined_1015\"\n",
    ")"
   ]
  },
  {
   "cell_type": "code",
   "execution_count": 0,
   "metadata": {
    "application/vnd.databricks.v1+cell": {
     "cellMetadata": {
      "byteLimit": 2048000,
      "rowLimit": 10000
     },
     "inputWidgets": {},
     "nuid": "257cef5f-74d1-4d75-8853-b0eb32672d7a",
     "showTitle": false,
     "tableResultSettingsMap": {},
     "title": ""
    }
   },
   "outputs": [],
   "source": [
    "store_profiles_df = spark.sql(\"\"\"\n",
    "  SELECT * from  hyper.demostats_store_profiles_immi_combined_1015\n",
    "\"\"\")\n"
   ]
  },
  {
   "cell_type": "code",
   "execution_count": 0,
   "metadata": {
    "application/vnd.databricks.v1+cell": {
     "cellMetadata": {
      "byteLimit": 2048000,
      "rowLimit": 10000
     },
     "inputWidgets": {},
     "nuid": "3cc59705-649d-4a35-b8b6-b53e916ba2cd",
     "showTitle": false,
     "tableResultSettingsMap": {},
     "title": ""
    }
   },
   "outputs": [],
   "source": [
    "# windowPartition = Window.partitionBy([\"BANNER\",\"STORE_NUM\",\"Category\",\"YEAR\"])\n",
    "\n",
    "df_total = store_profiles_df.filter(col(\"TOTAL_FLAG\") == 1).select(\"STORE_NAME\",\"STORE_NUM\",\"Category\", \"YEAR\",\"val\").withColumnRenamed(\"val\", \"TOTAL_CATEGORY\")\n",
    "\n",
    "df_with_total_2 = store_profiles_df.join(df_total, on=[\"Category\",\"STORE_NUM\",\"STORE_NAME\",\"YEAR\"], how=\"left\")\n",
    "\n",
    "# df_with_total_2=df_with_total_2.drop('STORE_VALUE')\n",
    "\n",
    "df_with_total_2 = df_with_total_2.withColumn(\n",
    "    'STORE_VALUE',\n",
    "    when(col('Description') == 'Household Population For Recent Immigration By Place Of Birth', col('val')/col('TOTAL_HOUSEHOLD_POPULATION')).otherwise(col('val')/col('TOTAL_CATEGORY'))\n",
    ")\n",
    "\n",
    "df_with_total_2 = df_with_total_2.withColumn(\n",
    "    'STORE_VALUE',\n",
    "    when((col('LEAF_NODE_FLAG') == 0) & (col('TOTAL_FLAG') == 0), 0).otherwise(col('STORE_VALUE'))\n",
    ")\n",
    "\n",
    "df_with_total_2=df_with_total_2.drop('MEDIAN_AVERAGE','LEAF_NODE_FLAG','TOTAL_FLAG')\n"
   ]
  },
  {
   "cell_type": "code",
   "execution_count": 0,
   "metadata": {
    "application/vnd.databricks.v1+cell": {
     "cellMetadata": {},
     "inputWidgets": {},
     "nuid": "24c5237a-aa86-4a3e-8246-66fa68740dff",
     "showTitle": false,
     "tableResultSettingsMap": {},
     "title": ""
    }
   },
   "outputs": [],
   "source": [
    "\n",
    "df_with_total_2 = df_with_total_2.select(\n",
    "    \"Category\",\n",
    "    \"STORE_NUM\",\n",
    "    \"STORE_NAME\",\n",
    "    \"STORE_CHAIN\",\n",
    "    \"BANNER\",\n",
    "    \"CHANNEL\",\n",
    "    \"SALES_GROUP\",\n",
    "    \"STORE_STREET\",\n",
    "    \"STORE_LONGITUDE\",\n",
    "    \"STORE_LATITUDE\",\n",
    "    \"STORE_PROVINCE\",\n",
    "    \"Region\",\n",
    "    \"variable\",\n",
    "    \"Description\",\n",
    "    \"Language_Grouping\",\n",
    "    \"YEAR\",\n",
    "    \"val\",\n",
    "    \"TOTAL_HOUSEHOLDS\",\n",
    "    \"TOTAL_HOUSEHOLD_POPULATION\",\n",
    "    \"TOTAL_HOUSEHOLD_POPULATION_15_YEARS_OR_OVER\",\n",
    "    \"TOTAL_POPULATION\",\n",
    "    \"BANNER_VALUE_PERCENT\",\n",
    "    \"CHANNEL_RE_VALUE_PERCENT\",\n",
    "    \"REGION_VALUE_PERCENT\",\n",
    "    \"CHANNEL_VALUE_PERCENT\",\n",
    "    \"Hierarchy_Description\",\n",
    "    \"TOTAL_CATEGORY\",\n",
    "    \"STORE_VALUE\",\n",
    ")\n",
    "\n",
    "\n",
    "display(df_with_total_2)"
   ]
  },
  {
   "cell_type": "code",
   "execution_count": 0,
   "metadata": {
    "application/vnd.databricks.v1+cell": {
     "cellMetadata": {
      "byteLimit": 2048000,
      "rowLimit": 10000
     },
     "inputWidgets": {},
     "nuid": "9036db54-1095-485f-8f7b-89c97916dc59",
     "showTitle": false,
     "tableResultSettingsMap": {},
     "title": ""
    }
   },
   "outputs": [],
   "source": [
    "df_with_total_2.write.mode(\"overwrite\").option(\"overwriteSchema\", \"True\").format(\"delta\").saveAsTable(\n",
    "    \"hyper.demostats_store_immi_combined_1015\"\n",
    ")"
   ]
  },
  {
   "cell_type": "code",
   "execution_count": 0,
   "metadata": {
    "application/vnd.databricks.v1+cell": {
     "cellMetadata": {
      "byteLimit": 2048000,
      "rowLimit": 10000
     },
     "inputWidgets": {},
     "nuid": "27bb46a9-e166-4b8c-a80e-0ff8b2c5b23d",
     "showTitle": false,
     "tableResultSettingsMap": {},
     "title": ""
    }
   },
   "outputs": [],
   "source": [
    "df.write.mode(\n",
    "\"overwrite\"\n",
    ").insertInto(\n",
    "\"hyper.demostats_store_profiles\"\n",
    ")"
   ]
  },
  {
   "cell_type": "code",
   "execution_count": 0,
   "metadata": {
    "application/vnd.databricks.v1+cell": {
     "cellMetadata": {
      "byteLimit": 2048000,
      "rowLimit": 10000
     },
     "inputWidgets": {},
     "nuid": "87953a93-b52b-4580-8a76-1323b5a0a00b",
     "showTitle": false,
     "tableResultSettingsMap": {},
     "title": ""
    }
   },
   "outputs": [],
   "source": [
    "df_overwrite= spark.sql(\"\"\"\n",
    "                        select * from hyper.demostats_store_immi_combined_1015\n",
    "                        \"\"\")"
   ]
  },
  {
   "cell_type": "code",
   "execution_count": 0,
   "metadata": {
    "application/vnd.databricks.v1+cell": {
     "cellMetadata": {
      "byteLimit": 2048000,
      "rowLimit": 10000
     },
     "inputWidgets": {},
     "nuid": "8091ec16-e9eb-4bd7-915a-b8977f4d424c",
     "showTitle": false,
     "tableResultSettingsMap": {},
     "title": ""
    }
   },
   "outputs": [],
   "source": [
    "df_overwrite = df_overwrite.withColumn(\"REVENUE_CY\", lit(0).cast(\"double\")).withColumn(\"OUTLIER\", lit('').cast(\"string\"))"
   ]
  },
  {
   "cell_type": "code",
   "execution_count": 0,
   "metadata": {
    "application/vnd.databricks.v1+cell": {
     "cellMetadata": {
      "byteLimit": 2048000,
      "rowLimit": 10000
     },
     "inputWidgets": {},
     "nuid": "e3f08fb0-f682-4e12-97e0-cd78be3ea86e",
     "showTitle": false,
     "tableResultSettingsMap": {},
     "title": ""
    }
   },
   "outputs": [],
   "source": [
    "df_overwrite.write.mode(\n",
    "\"overwrite\"\n",
    ").insertInto(\n",
    "\"hyper.demostats_store_profiles\"\n",
    ")"
   ]
  },
  {
   "cell_type": "code",
   "execution_count": 0,
   "metadata": {
    "application/vnd.databricks.v1+cell": {
     "cellMetadata": {
      "byteLimit": 2048000,
      "implicitDf": true,
      "rowLimit": 10000
     },
     "inputWidgets": {},
     "nuid": "a6e8f07e-8300-4789-80b7-0e9ea29a8425",
     "showTitle": false,
     "tableResultSettingsMap": {},
     "title": ""
    }
   },
   "outputs": [],
   "source": [
    "df_overwrite= spark.sql(\"\"\"\n",
    "                        select * from hyper.master_demostats\n",
    "                        \"\"\")"
   ]
  },
  {
   "cell_type": "code",
   "execution_count": 0,
   "metadata": {
    "application/vnd.databricks.v1+cell": {
     "cellMetadata": {
      "byteLimit": 2048000,
      "rowLimit": 10000
     },
     "inputWidgets": {},
     "nuid": "6725698e-33c0-41fe-a90a-e4da0d16406a",
     "showTitle": false,
     "tableResultSettingsMap": {},
     "title": ""
    }
   },
   "outputs": [],
   "source": [
    "\n",
    "df_overwrite.write.mode(\n",
    "\"overwrite\"\n",
    ").insertInto(\n",
    "\"hyper.dim_master_demostats\"\n",
    ")"
   ]
  },
  {
   "cell_type": "code",
   "execution_count": 0,
   "metadata": {
    "application/vnd.databricks.v1+cell": {
     "cellMetadata": {},
     "inputWidgets": {},
     "nuid": "176a63c4-e846-4ff3-bdc1-ae4b51200089",
     "showTitle": false,
     "tableResultSettingsMap": {},
     "title": ""
    }
   },
   "outputs": [],
   "source": []
  }
 ],
 "metadata": {
  "application/vnd.databricks.v1+notebook": {
   "dashboards": [],
   "environmentMetadata": null,
   "language": "python",
   "notebookMetadata": {
    "mostRecentlyExecutedCommandWithImplicitDF": {
     "commandId": 1675781231458605,
     "dataframes": [
      "_sqldf"
     ]
    },
    "pythonIndentUnit": 4
   },
   "notebookName": "Demostats Immigration combined table",
   "widgets": {}
  },
  "language_info": {
   "name": "python"
  }
 },
 "nbformat": 4,
 "nbformat_minor": 0
}
